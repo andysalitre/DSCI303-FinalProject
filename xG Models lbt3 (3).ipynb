{
 "cells": [
  {
   "cell_type": "code",
   "execution_count": 1,
   "id": "d4f8a7ef",
   "metadata": {},
   "outputs": [],
   "source": [
    "import json\n",
    "from collections import Counter\n",
    "import matplotlib.pyplot as plt\n",
    "from matplotlib.patches import Ellipse\n",
    "import numpy as np\n",
    "import pandas as pd\n",
    "import operator\n",
    "import seaborn as sns\n",
    "import math\n",
    "from sklearn.linear_model import LogisticRegression\n",
    "from sklearn.model_selection import train_test_split\n",
    "from sklearn.preprocessing import StandardScaler\n",
    "import imblearn.over_sampling as imb\n",
    "from sklearn.ensemble import RandomForestClassifier\n",
    "from sklearn.metrics import f1_score"
   ]
  },
  {
   "cell_type": "code",
   "execution_count": 2,
   "id": "8f151725",
   "metadata": {},
   "outputs": [],
   "source": [
    "nations = ['Italy','England','France','Spain','European_Championship','World_Cup']\n",
    "\n",
    "events = {}\n",
    "events['England'] = pd.read_json('/Users/lucastyler/Downloads/Senior Fall/DSCI 303/Project DSCI 303/events/events_England.json')\n",
    "events['Italy'] = pd.read_json('/Users/lucastyler/Downloads/Senior Fall/DSCI 303/Project DSCI 303/events/events_Italy.json')\n",
    "events['France'] = pd.read_json('/Users/lucastyler/Downloads/Senior Fall/DSCI 303/Project DSCI 303/events/events_France.json')\n",
    "events['Spain'] = pd.read_json('/Users/lucastyler/Downloads/Senior Fall/DSCI 303/Project DSCI 303/events/events_Spain.json')\n",
    "events['European_Championship'] = pd.read_json('/Users/lucastyler/Downloads/Senior Fall/DSCI 303/Project DSCI 303/events/events_European_Championship.json')\n",
    "events['World_Cup'] = pd.read_json('/Users/lucastyler/Downloads/Senior Fall/DSCI 303/Project DSCI 303/events/events_World_Cup.json')\n",
    "\n",
    "matches = {}\n",
    "matches['England'] = pd.read_json('/Users/lucastyler/Downloads/Senior Fall/DSCI 303/Project DSCI 303/matches/matches_England.json')\n",
    "matches['Italy'] = pd.read_json('/Users/lucastyler/Downloads/Senior Fall/DSCI 303/Project DSCI 303/matches/matches_Italy.json')\n",
    "matches['France'] = pd.read_json('/Users/lucastyler/Downloads/Senior Fall/DSCI 303/Project DSCI 303/matches/matches_France.json')\n",
    "matches['Spain'] = pd.read_json('/Users/lucastyler/Downloads/Senior Fall/DSCI 303/Project DSCI 303/matches/matches_Spain.json')\n",
    "matches['European_Championship'] = pd.read_json('/Users/lucastyler/Downloads/Senior Fall/DSCI 303/Project DSCI 303/matches/matches_European_Championship.json')\n",
    "matches['World_Cup'] = pd.read_json('/Users/lucastyler/Downloads/Senior Fall/DSCI 303/Project DSCI 303/matches/matches_World_Cup.json')\n",
    "\n",
    "teams = pd.read_json('/Users/lucastyler/Downloads/Senior Fall/DSCI 303/Project DSCI 303/teams.json')\n",
    "\n",
    "stadiums = pd.read_excel('/Users/lucastyler/Downloads/Senior Fall/DSCI 303/Project DSCI 303/Stadium field dimensions formatted.xlsx')\n"
   ]
  },
  {
   "cell_type": "code",
   "execution_count": 3,
   "id": "4b122534",
   "metadata": {},
   "outputs": [],
   "source": [
    "Englandshots = events['England']['eventName'] == 'Shot'\n",
    "shots = events['England'][Englandshots]\n",
    "all_matches = matches['England']\n",
    "nationsnoEng = ['Italy','France','Spain','European_Championship','World_Cup']\n",
    "\n",
    "for nation in nationsnoEng:\n",
    "    all_matches = pd.concat([all_matches, matches[nation]])\n",
    "    shotsbool = events[nation]['eventName'] == 'Shot'\n",
    "    onlyshots = events[nation][shotsbool]\n",
    "    shots = pd.concat([shots, onlyshots])"
   ]
  },
  {
   "cell_type": "code",
   "execution_count": 4,
   "id": "a553bb06",
   "metadata": {},
   "outputs": [],
   "source": [
    "shots['x'] = [x[0]['x'] for x in shots['positions']]\n",
    "shots['y'] = [x[0]['y'] for x in shots['positions']]"
   ]
  },
  {
   "cell_type": "code",
   "execution_count": 5,
   "id": "2f9d9e36",
   "metadata": {},
   "outputs": [],
   "source": [
    "players = pd.read_json('/Users/lucastyler/Downloads/Senior Fall/DSCI 303/Project DSCI 303/players.json')"
   ]
  },
  {
   "cell_type": "code",
   "execution_count": 6,
   "id": "0b6db60e",
   "metadata": {},
   "outputs": [],
   "source": [
    "players['position'] = [x['name'] for x in players['role']]"
   ]
  },
  {
   "cell_type": "code",
   "execution_count": 7,
   "id": "ce81e66b",
   "metadata": {
    "scrolled": false
   },
   "outputs": [
    {
     "data": {
      "text/plain": [
       "36177"
      ]
     },
     "execution_count": 7,
     "metadata": {},
     "output_type": "execute_result"
    }
   ],
   "source": [
    "playersprac = players[['firstName', 'lastName', 'height', 'weight', 'shortName', 'foot', 'wyId', 'position']]\n",
    "shots = pd.merge(shots, playersprac, left_on = 'playerId', right_on = 'wyId')\n",
    "len(shots)"
   ]
  },
  {
   "cell_type": "code",
   "execution_count": 8,
   "id": "7e5d4f84",
   "metadata": {
    "scrolled": false
   },
   "outputs": [],
   "source": [
    "shots = shots[shots['position'] != 'Goalkeeper']"
   ]
  },
  {
   "cell_type": "code",
   "execution_count": 9,
   "id": "0ecbd461",
   "metadata": {},
   "outputs": [],
   "source": [
    "all_matches['Both_Teams'] = [tuple(x.keys()) for x in all_matches['teamsData']]\n",
    "\n",
    "all_matches['Team1'] = [x[0] for x in all_matches['Both_Teams']]\n",
    "all_matches['Team2'] = [x[1] for x in all_matches['Both_Teams']]\n",
    "\n",
    "shots = pd.merge(shots, all_matches, left_on = 'matchId', right_on = 'wyId')"
   ]
  },
  {
   "cell_type": "code",
   "execution_count": 10,
   "id": "7edf4983",
   "metadata": {},
   "outputs": [],
   "source": [
    "venues_formatted = []\n",
    "for idx, row in shots.iterrows():\n",
    "    if row['venue'] not in list(stadiums['Stadium']):\n",
    "        venues_formatted.append('Default')\n",
    "    else:\n",
    "        venues_formatted.append(row['venue'])"
   ]
  },
  {
   "cell_type": "code",
   "execution_count": 11,
   "id": "9514f729",
   "metadata": {},
   "outputs": [],
   "source": [
    "shots['venues_formatted'] = venues_formatted"
   ]
  },
  {
   "cell_type": "code",
   "execution_count": 12,
   "id": "29c99cab",
   "metadata": {
    "scrolled": true
   },
   "outputs": [
    {
     "data": {
      "text/plain": [
       "36174"
      ]
     },
     "execution_count": 12,
     "metadata": {},
     "output_type": "execute_result"
    }
   ],
   "source": [
    "shots = pd.merge(shots, stadiums, left_on = 'venues_formatted', right_on = 'Stadium')\n",
    "len(shots)"
   ]
  },
  {
   "cell_type": "code",
   "execution_count": 13,
   "id": "8fa9ebf8",
   "metadata": {},
   "outputs": [],
   "source": [
    "#probably change this variable to distance_perc\n",
    "shots['distanceperc'] = np.sqrt(np.power(shots[\"x\"] - 100, 2) + np.power(shots[\"y\"] - 50, 2))\n",
    "#probably change this variable to distance_m\n",
    "shots['distance_m'] = np.sqrt(np.power((0.01*shots[\"x\"]*shots[\"Length\"]) \n",
    "                                                  - shots[\"Length\"], 2) + \n",
    "                                         np.power((0.01*shots[\"y\"]*shots[\"Width\"]) \n",
    "                                                  - (0.5*shots[\"Width\"]), 2))"
   ]
  },
  {
   "cell_type": "code",
   "execution_count": 14,
   "id": "1cb0b7bc",
   "metadata": {
    "scrolled": false
   },
   "outputs": [],
   "source": [
    "tagvalscol = []\n",
    "for x in shots['tags']:\n",
    "    tagvals = []\n",
    "    for i in range(len(x)):\n",
    "        tagvals.append(x[i]['id'])\n",
    "    tagvalscol.append(tagvals)\n",
    "shots['tagvals'] = tagvalscol"
   ]
  },
  {
   "cell_type": "code",
   "execution_count": 15,
   "id": "26c86eb6",
   "metadata": {},
   "outputs": [],
   "source": [
    "shots['goal'] = [1 if 101 in x else 0 for x in shots['tagvals']]"
   ]
  },
  {
   "cell_type": "code",
   "execution_count": 108,
   "id": "6519f48e",
   "metadata": {},
   "outputs": [],
   "source": [
    "shots = pd.merge(shots, teams, left_on = 'teamId', right_on = 'wyId')"
   ]
  },
  {
   "cell_type": "code",
   "execution_count": 17,
   "id": "82f66539",
   "metadata": {
    "scrolled": true
   },
   "outputs": [
    {
     "data": {
      "text/plain": [
       "array([[<AxesSubplot:title={'center':'goal'}>]], dtype=object)"
      ]
     },
     "execution_count": 17,
     "metadata": {},
     "output_type": "execute_result"
    },
    {
     "data": {
      "image/png": "[encoded data removed]",
      "text/plain": [
       "<Figure size 432x288 with 1 Axes>"
      ]
     },
     "metadata": {
      "needs_background": "light"
     },
     "output_type": "display_data"
    }
   ],
   "source": [
    "shots.hist('goal')"
   ]
  },
  {
   "cell_type": "code",
   "execution_count": 18,
   "id": "a4f99fbe",
   "metadata": {},
   "outputs": [
    {
     "data": {
      "text/plain": [
       "array([[<AxesSubplot:title={'center':'distance_m'}>]], dtype=object)"
      ]
     },
     "execution_count": 18,
     "metadata": {},
     "output_type": "execute_result"
    },
    {
     "data": {
      "image/png": "[encoded data removed]",
      "text/plain": [
       "<Figure size 432x288 with 1 Axes>"
      ]
     },
     "metadata": {
      "needs_background": "light"
     },
     "output_type": "display_data"
    }
   ],
   "source": [
    "shots.hist('distance_m')"
   ]
  },
  {
   "cell_type": "code",
   "execution_count": 19,
   "id": "c8b691b1",
   "metadata": {},
   "outputs": [],
   "source": [
    "#add a column for the shot angle\n",
    "#Looked at a few stadiums in Italy and they all had dimensions of 105*68m\n",
    "angles = []\n",
    "for idx, row in shots.iterrows():\n",
    "    #If shooting from touchline, angle will be zero\n",
    "    #continue to avoid divide by zero errors\n",
    "    if row['x'] == 100:\n",
    "        angles.append(0)\n",
    "        continue\n",
    "    #moving everything to left side of the field to make calculation easier\n",
    "    if row['y'] > 50:\n",
    "        mirror = 100 - row['y']\n",
    "    else:\n",
    "        mirror = row['y']\n",
    "    #following four lines attempt to adjust to the actual field width and get \n",
    "    #more accurate positioning of the goal posts. e.g. Previously had right goal post at \n",
    "    #53.6 as opposed to most often at 54.64 which implicitly assumed width was 100 (which\n",
    "    # is never the case). Thus, divide width by goal length to get percentage of field it takes up\n",
    "    #and add half that percentage evenly to either side of 50\n",
    "    goal_perc = (7.32/row['Width'])*100\n",
    "    increment = goal_perc/2\n",
    "    left_post = 50 - increment\n",
    "    right_post = 50 + increment\n",
    "    dist_a = ((row['x'] - 100)**(2))**(1/2)\n",
    "    dist_b = ((mirror - right_post)**2)**(1/2)\n",
    "    dist_c = ((mirror - left_post)**2)**(1/2)\n",
    "    theta = np.arctan(dist_b/dist_a)*(180/math.pi)\n",
    "    phi = np.arctan(dist_c/dist_a)*(180/math.pi)\n",
    "    #Different cases for between the goalposts vs. to the left of a goalpost\n",
    "    if mirror < left_post:\n",
    "        angles.append(theta - phi)\n",
    "    else:\n",
    "        angles.append(theta + phi)\n",
    "shots['angle'] = angles"
   ]
  },
  {
   "cell_type": "code",
   "execution_count": 20,
   "id": "134799a1",
   "metadata": {},
   "outputs": [
    {
     "data": {
      "text/plain": [
       "array([[<AxesSubplot:title={'center':'angle'}>]], dtype=object)"
      ]
     },
     "execution_count": 20,
     "metadata": {},
     "output_type": "execute_result"
    },
    {
     "data": {
      "image/png": "[encoded data removed]",
      "text/plain": [
       "<Figure size 432x288 with 1 Axes>"
      ]
     },
     "metadata": {
      "needs_background": "light"
     },
     "output_type": "display_data"
    }
   ],
   "source": [
    "shots.hist('angle')"
   ]
  },
  {
   "cell_type": "code",
   "execution_count": 21,
   "id": "c3f57f8d",
   "metadata": {},
   "outputs": [],
   "source": [
    "shots['foot_shot'] = ['right' if 402 in x else 'left' if 401 in x else 'head/body' for x in shots['tagvals']]"
   ]
  },
  {
   "cell_type": "code",
   "execution_count": 22,
   "id": "fd7ba727",
   "metadata": {},
   "outputs": [],
   "source": [
    "#1 means the player shot with their strong foot, 0 means they shot with their weak foot or\n",
    "#with their head/body\n",
    "strong_foot = []\n",
    "header = []\n",
    "for idx, row in shots.iterrows():\n",
    "    if row['foot_shot'] == row['foot']:\n",
    "        strong_foot.append(1)\n",
    "    else:\n",
    "        strong_foot.append(0)\n",
    "    if row['foot_shot'] == 'head/body':\n",
    "        header.append(1)\n",
    "    else:\n",
    "        header.append(0)"
   ]
  },
  {
   "cell_type": "code",
   "execution_count": 23,
   "id": "9d24b419",
   "metadata": {},
   "outputs": [],
   "source": [
    "shots['strong_foot'] = strong_foot\n",
    "shots['header'] = header"
   ]
  },
  {
   "cell_type": "code",
   "execution_count": 24,
   "id": "2beba52c",
   "metadata": {
    "scrolled": true
   },
   "outputs": [
    {
     "data": {
      "text/plain": [
       "array([[<AxesSubplot:title={'center':'strong_foot'}>]], dtype=object)"
      ]
     },
     "execution_count": 24,
     "metadata": {},
     "output_type": "execute_result"
    },
    {
     "data": {
      "image/png": "[encoded data removed]",
      "text/plain": [
       "<Figure size 432x288 with 1 Axes>"
      ]
     },
     "metadata": {
      "needs_background": "light"
     },
     "output_type": "display_data"
    }
   ],
   "source": [
    "shots.hist('strong_foot')"
   ]
  },
  {
   "cell_type": "code",
   "execution_count": 25,
   "id": "513be78f",
   "metadata": {},
   "outputs": [
    {
     "name": "stdout",
     "output_type": "stream",
     "text": [
      "23585\n",
      "11985\n",
      "5847\n"
     ]
    }
   ],
   "source": [
    "print(len(shots[shots['strong_foot'] == 1]))\n",
    "print(len(shots[shots['foot_shot'] == 'left']))\n",
    "print(len(shots[shots['foot_shot'] == 'head/body']))"
   ]
  },
  {
   "cell_type": "code",
   "execution_count": 26,
   "id": "784b5b6b",
   "metadata": {},
   "outputs": [
    {
     "data": {
      "image/png": "[encoded data removed]",
      "text/plain": [
       "<Figure size 1728x1728 with 2 Axes>"
      ]
     },
     "metadata": {
      "needs_background": "light"
     },
     "output_type": "display_data"
    }
   ],
   "source": [
    "df_corr = shots.corr()\n",
    "plt.figure(figsize=(24, 24))\n",
    "\n",
    "sns.heatmap(df_corr, \n",
    "            cmap='viridis', vmax=1.0, vmin=-1.0, linewidths=0.1,\n",
    "            annot=True, annot_kws={\"size\": 8}, square=True);"
   ]
  },
  {
   "cell_type": "code",
   "execution_count": 27,
   "id": "d4e6276e",
   "metadata": {},
   "outputs": [
    {
     "name": "stdout",
     "output_type": "stream",
     "text": [
      "The percentage of successful shots from the Forward position in this database is:  0.13472133247918\n",
      "The percentage of successful shots from the Midfielder position in this database is:  0.08015292776175464\n",
      "The percentage of successful shots from the Defender position in this database is:  0.078868258178603\n"
     ]
    }
   ],
   "source": [
    "#procedure for creating dummy variables is the same as in the below column, can actually add it into the same for loop\n",
    "#that being said, would there be an issue for adding in only two observations with goalkeeper shots where one is a\n",
    "#goal? Might the algorithm think its extremely likely for goalkeepers to score when they're shooting when in fact this\n",
    "#is just because of how few observations we have of goalkeepers shooting? Because of course we assume Forwards are\n",
    "#most likely to score. But also, is this largely just because they shoot from the most advanced positions, at least\n",
    "#from the view of the dataset?\n",
    "positions = ['Forward', 'Midfielder', 'Defender']\n",
    "for pos in positions:\n",
    "    pos_shots = shots[shots['position'] == pos]\n",
    "    goalsfrompos = pos_shots[pos_shots['goal'] == 1]\n",
    "    perc_goals = len(goalsfrompos)/len(pos_shots)\n",
    "    print('The percentage of successful shots from the', pos, 'position in this database is: ', perc_goals)"
   ]
  },
  {
   "cell_type": "code",
   "execution_count": 28,
   "id": "21e52f52",
   "metadata": {},
   "outputs": [],
   "source": [
    "forward = []\n",
    "midfielder = []\n",
    "defender = []\n",
    "for idx, row in shots.iterrows():\n",
    "    if row['position'] == 'Forward':\n",
    "        forward.append(1)\n",
    "        midfielder.append(0)\n",
    "        defender.append(0)\n",
    "    elif row['position'] == 'Midfielder':\n",
    "        forward.append(0)\n",
    "        midfielder.append(1)\n",
    "        defender.append(0)\n",
    "    else:\n",
    "        forward.append(0)\n",
    "        midfielder.append(0)\n",
    "        defender.append(1)"
   ]
  },
  {
   "cell_type": "code",
   "execution_count": 29,
   "id": "debe2f58",
   "metadata": {},
   "outputs": [],
   "source": [
    "shots['F'] = forward\n",
    "shots['MF'] = midfielder\n",
    "shots['DEF'] = defender"
   ]
  },
  {
   "cell_type": "code",
   "execution_count": 30,
   "id": "4f5b0c19",
   "metadata": {},
   "outputs": [],
   "source": [
    "#Add 45*60 seconds to every event in the second half, as eventSec tracks the number of seconds since\n",
    "#the start of the current half\n",
    "eventTime = []\n",
    "for idx, row in shots.iterrows():\n",
    "    if row['matchPeriod'] == '2H':\n",
    "        eventTime.append(row['eventSec'] + (45*60))\n",
    "    else:\n",
    "        eventTime.append(row['eventSec'])"
   ]
  },
  {
   "cell_type": "code",
   "execution_count": 31,
   "id": "4ffa5cee",
   "metadata": {},
   "outputs": [],
   "source": [
    "shots['eventTime'] = eventTime"
   ]
  },
  {
   "cell_type": "code",
   "execution_count": 32,
   "id": "aa0b8345",
   "metadata": {},
   "outputs": [
    {
     "data": {
      "text/html": [
       "<div>\n",
       "<style scoped>\n",
       "    .dataframe tbody tr th:only-of-type {\n",
       "        vertical-align: middle;\n",
       "    }\n",
       "\n",
       "    .dataframe tbody tr th {\n",
       "        vertical-align: top;\n",
       "    }\n",
       "\n",
       "    .dataframe thead th {\n",
       "        text-align: right;\n",
       "    }\n",
       "</style>\n",
       "<table border=\"1\" class=\"dataframe\">\n",
       "  <thead>\n",
       "    <tr style=\"text-align: right;\">\n",
       "      <th></th>\n",
       "      <th>x</th>\n",
       "      <th>y</th>\n",
       "      <th>angle</th>\n",
       "    </tr>\n",
       "  </thead>\n",
       "  <tbody>\n",
       "    <tr>\n",
       "      <th>0</th>\n",
       "      <td>88</td>\n",
       "      <td>41</td>\n",
       "      <td>33.383357</td>\n",
       "    </tr>\n",
       "    <tr>\n",
       "      <th>1</th>\n",
       "      <td>87</td>\n",
       "      <td>48</td>\n",
       "      <td>44.175016</td>\n",
       "    </tr>\n",
       "    <tr>\n",
       "      <th>2</th>\n",
       "      <td>90</td>\n",
       "      <td>34</td>\n",
       "      <td>18.219757</td>\n",
       "    </tr>\n",
       "    <tr>\n",
       "      <th>3</th>\n",
       "      <td>85</td>\n",
       "      <td>52</td>\n",
       "      <td>38.911535</td>\n",
       "    </tr>\n",
       "    <tr>\n",
       "      <th>4</th>\n",
       "      <td>92</td>\n",
       "      <td>50</td>\n",
       "      <td>67.864868</td>\n",
       "    </tr>\n",
       "    <tr>\n",
       "      <th>...</th>\n",
       "      <td>...</td>\n",
       "      <td>...</td>\n",
       "      <td>...</td>\n",
       "    </tr>\n",
       "    <tr>\n",
       "      <th>36169</th>\n",
       "      <td>91</td>\n",
       "      <td>45</td>\n",
       "      <td>51.512110</td>\n",
       "    </tr>\n",
       "    <tr>\n",
       "      <th>36170</th>\n",
       "      <td>76</td>\n",
       "      <td>59</td>\n",
       "      <td>22.360806</td>\n",
       "    </tr>\n",
       "    <tr>\n",
       "      <th>36171</th>\n",
       "      <td>92</td>\n",
       "      <td>46</td>\n",
       "      <td>59.350515</td>\n",
       "    </tr>\n",
       "    <tr>\n",
       "      <th>36172</th>\n",
       "      <td>96</td>\n",
       "      <td>58</td>\n",
       "      <td>40.157329</td>\n",
       "    </tr>\n",
       "    <tr>\n",
       "      <th>36173</th>\n",
       "      <td>78</td>\n",
       "      <td>36</td>\n",
       "      <td>19.989732</td>\n",
       "    </tr>\n",
       "  </tbody>\n",
       "</table>\n",
       "<p>36174 rows × 3 columns</p>\n",
       "</div>"
      ],
      "text/plain": [
       "        x   y      angle\n",
       "0      88  41  33.383357\n",
       "1      87  48  44.175016\n",
       "2      90  34  18.219757\n",
       "3      85  52  38.911535\n",
       "4      92  50  67.864868\n",
       "...    ..  ..        ...\n",
       "36169  91  45  51.512110\n",
       "36170  76  59  22.360806\n",
       "36171  92  46  59.350515\n",
       "36172  96  58  40.157329\n",
       "36173  78  36  19.989732\n",
       "\n",
       "[36174 rows x 3 columns]"
      ]
     },
     "execution_count": 32,
     "metadata": {},
     "output_type": "execute_result"
    }
   ],
   "source": [
    "shots[['x', 'y', 'angle']]"
   ]
  },
  {
   "cell_type": "code",
   "execution_count": 33,
   "id": "47b9a6c4",
   "metadata": {},
   "outputs": [],
   "source": [
    "y = shots['goal']\n",
    "#weakfoot is base case for what foot the shot is, defender is base case for position group\n",
    "X = shots[['distance_m', 'angle']]\n",
    "dummies = np.asarray(shots[['strong_foot', 'header']])"
   ]
  },
  {
   "cell_type": "code",
   "execution_count": 34,
   "id": "e1ad6ff5",
   "metadata": {},
   "outputs": [
    {
     "data": {
      "text/plain": [
       "array([[1, 0],\n",
       "       [1, 0],\n",
       "       [0, 0],\n",
       "       ...,\n",
       "       [0, 1],\n",
       "       [1, 0],\n",
       "       [1, 0]])"
      ]
     },
     "execution_count": 34,
     "metadata": {},
     "output_type": "execute_result"
    }
   ],
   "source": [
    "dummies"
   ]
  },
  {
   "cell_type": "code",
   "execution_count": 35,
   "id": "21266da9",
   "metadata": {},
   "outputs": [],
   "source": [
    "scaler = StandardScaler()\n",
    "X = scaler.fit_transform(X)\n",
    "X = np.append(X, dummies, axis = 1)"
   ]
  },
  {
   "cell_type": "code",
   "execution_count": 36,
   "id": "6ef774dd",
   "metadata": {},
   "outputs": [],
   "source": [
    "#should split before oversampling\n",
    "X_train, X_test, y_train, y_test = train_test_split(X, y, test_size = 0.25, random_state = 0)"
   ]
  },
  {
   "cell_type": "code",
   "execution_count": 37,
   "id": "61c42366",
   "metadata": {},
   "outputs": [],
   "source": [
    "# transform the dataset\n",
    "oversample = imb.SMOTE(sampling_strategy = (1/2))\n",
    "X_over, y_over = oversample.fit_resample(X_train, y_train)"
   ]
  },
  {
   "cell_type": "code",
   "execution_count": 38,
   "id": "e59f9ceb",
   "metadata": {},
   "outputs": [
    {
     "data": {
      "text/plain": [
       "0.3333242051647178"
      ]
     },
     "execution_count": 38,
     "metadata": {},
     "output_type": "execute_result"
    }
   ],
   "source": [
    "len(y_over[y_over == 1])/len(y_over)"
   ]
  },
  {
   "cell_type": "code",
   "execution_count": 39,
   "id": "414902ad",
   "metadata": {},
   "outputs": [
    {
     "data": {
      "text/plain": [
       "array([[-1.07073488,  0.33275757,  0.16025815, -0.88050553]])"
      ]
     },
     "execution_count": 39,
     "metadata": {},
     "output_type": "execute_result"
    }
   ],
   "source": [
    "#Model fitted on untransformed dataset with apparently very low predictive power\n",
    "xGmodel2 = LogisticRegression(random_state = 0).fit(X_train, y_train)\n",
    "xGmodel2.coef_"
   ]
  },
  {
   "cell_type": "code",
   "execution_count": 40,
   "id": "964ae77e",
   "metadata": {},
   "outputs": [
    {
     "name": "stdout",
     "output_type": "stream",
     "text": [
      "Accuracy of logistic regression classifier on training set: 0.90\n",
      "Accuracy of logistic regression classifier on test set: 0.90\n"
     ]
    }
   ],
   "source": [
    "#accuracies of logistic regression on training, test set\n",
    "print('Accuracy of logistic regression classifier on training set: {:.2f}'.format(xGmodel2.score(X_train, y_train)))\n",
    "print('Accuracy of logistic regression classifier on test set: {:.2f}'.format(xGmodel2.score(X_test, y_test)))"
   ]
  },
  {
   "cell_type": "code",
   "execution_count": 52,
   "id": "0c0fae77",
   "metadata": {},
   "outputs": [
    {
     "name": "stdout",
     "output_type": "stream",
     "text": [
      "[[8021   64]\n",
      " [ 860   99]]\n",
      "              precision    recall  f1-score   support\n",
      "\n",
      "           0       0.90      0.99      0.95      8085\n",
      "           1       0.61      0.10      0.18       959\n",
      "\n",
      "    accuracy                           0.90      9044\n",
      "   macro avg       0.76      0.55      0.56      9044\n",
      "weighted avg       0.87      0.90      0.86      9044\n",
      "\n"
     ]
    }
   ],
   "source": [
    "from sklearn.metrics import classification_report\n",
    "from sklearn.metrics import confusion_matrix\n",
    "y_untrans_pred = xGmodel2.predict(X_test)\n",
    "print(confusion_matrix(y_test, y_untrans_pred))\n",
    "print(classification_report(y_test, y_untrans_pred))"
   ]
  },
  {
   "cell_type": "code",
   "execution_count": 53,
   "id": "bd453233",
   "metadata": {},
   "outputs": [],
   "source": [
    "#This is the model fitted on the transformed dataset0\n",
    "xGmodel = LogisticRegression(random_state=0).fit(X_over, y_over)"
   ]
  },
  {
   "cell_type": "code",
   "execution_count": 54,
   "id": "5884aba8",
   "metadata": {},
   "outputs": [
    {
     "name": "stdout",
     "output_type": "stream",
     "text": [
      "[[-1.06544631  0.34147204  0.15233658 -0.90810501]]\n"
     ]
    }
   ],
   "source": [
    "#see if I can use one of their earlier versions of the code to see how the coefficients have changed\n",
    "#angle effect is much smaller by now\n",
    "print(xGmodel.coef_)"
   ]
  },
  {
   "cell_type": "code",
   "execution_count": 55,
   "id": "c9741aaa",
   "metadata": {},
   "outputs": [],
   "source": [
    "y_pred_train = xGmodel.predict(X_train)\n",
    "y_pred_test = xGmodel.predict(X_test)"
   ]
  },
  {
   "cell_type": "code",
   "execution_count": 56,
   "id": "47bfd3b3",
   "metadata": {},
   "outputs": [
    {
     "name": "stdout",
     "output_type": "stream",
     "text": [
      "9044\n",
      "1269\n"
     ]
    }
   ],
   "source": [
    "print(len(y_pred_test))\n",
    "print(len(y_pred_test[y_pred_test == 1]))"
   ]
  },
  {
   "cell_type": "code",
   "execution_count": 57,
   "id": "cf1d2269",
   "metadata": {
    "scrolled": true
   },
   "outputs": [
    {
     "data": {
      "text/plain": [
       "1269"
      ]
     },
     "execution_count": 57,
     "metadata": {},
     "output_type": "execute_result"
    }
   ],
   "source": [
    "goalprobs = [x[1] for x in xGmodel.predict_proba(X_test)]\n",
    "goalprobs = np.asarray(goalprobs)\n",
    "len(goalprobs[goalprobs > 0.5])\n",
    "#Classification such that if the model spits out a probability of scoring greater than 0.5, will be a goal"
   ]
  },
  {
   "cell_type": "code",
   "execution_count": 58,
   "id": "ffa1f2bd",
   "metadata": {},
   "outputs": [
    {
     "name": "stdout",
     "output_type": "stream",
     "text": [
      "Accuracy of logistic regression classifier on training set: 0.74\n",
      "Accuracy of logistic regression classifier on test set: 0.84\n"
     ]
    }
   ],
   "source": [
    "print('Accuracy of logistic regression classifier on training set: {:.2f}'.format(xGmodel.score(X_over, y_over)))\n",
    "print('Accuracy of logistic regression classifier on test set: {:.2f}'.format(xGmodel.score(X_test, y_test)))"
   ]
  },
  {
   "cell_type": "code",
   "execution_count": 59,
   "id": "22563ee7",
   "metadata": {},
   "outputs": [
    {
     "name": "stdout",
     "output_type": "stream",
     "text": [
      "[[7211  874]\n",
      " [ 564  395]]\n"
     ]
    }
   ],
   "source": [
    "confusion_matrix_logistic = confusion_matrix(y_test, y_pred_test)\n",
    "print(confusion_matrix_logistic)"
   ]
  },
  {
   "cell_type": "code",
   "execution_count": 60,
   "id": "2599154d",
   "metadata": {},
   "outputs": [
    {
     "name": "stdout",
     "output_type": "stream",
     "text": [
      "Percentage of goals is:  0.10349975120252115\n",
      "Number of goals is 3744 , number of misses is 32430\n"
     ]
    }
   ],
   "source": [
    "#Reason for this confusion matrix--high accuracy but low recall and f1-score\n",
    "num_goals = len(shots[shots['goal'] == 1])\n",
    "num_misses = len(shots[shots['goal'] == 0])\n",
    "perc_goals = num_goals/len(shots)\n",
    "perc_misses = num_misses/len(shots)\n",
    "print('Percentage of goals is: ', perc_goals)\n",
    "print('Number of goals is', num_goals, ', number of misses is', num_misses)\n",
    "#Attempt to use SMOTE and undersampling to rectify this\n",
    "#SMOTE rather than normal oversampling"
   ]
  },
  {
   "cell_type": "code",
   "execution_count": 61,
   "id": "b4e2c8f8",
   "metadata": {
    "scrolled": true
   },
   "outputs": [
    {
     "name": "stdout",
     "output_type": "stream",
     "text": [
      "              precision    recall  f1-score   support\n",
      "\n",
      "           0       0.93      0.89      0.91      8085\n",
      "           1       0.31      0.41      0.35       959\n",
      "\n",
      "    accuracy                           0.84      9044\n",
      "   macro avg       0.62      0.65      0.63      9044\n",
      "weighted avg       0.86      0.84      0.85      9044\n",
      "\n"
     ]
    }
   ],
   "source": [
    "print(classification_report(y_test, y_pred_test))"
   ]
  },
  {
   "cell_type": "code",
   "execution_count": 62,
   "id": "5e93a2b1",
   "metadata": {},
   "outputs": [
    {
     "data": {
      "image/png": "[encoded data removed]",
      "text/plain": [
       "<Figure size 432x288 with 1 Axes>"
      ]
     },
     "metadata": {
      "needs_background": "light"
     },
     "output_type": "display_data"
    }
   ],
   "source": [
    "#ROC curve for untransformed dataset\n",
    "from sklearn.metrics import roc_auc_score\n",
    "from sklearn.metrics import roc_curve\n",
    "logit_roc_auc = roc_auc_score(y_test, xGmodel2.predict(X_test))\n",
    "fpr, tpr, thresholds = roc_curve(y_test, xGmodel2.predict_proba(X_test)[:,1])\n",
    "plt.figure()\n",
    "plt.plot(fpr, tpr, label='Logistic Regression (area = %0.2f)' % logit_roc_auc)\n",
    "plt.plot([0, 1], [0, 1],'r--')\n",
    "plt.xlim([0.0, 1.0])\n",
    "plt.ylim([0.0, 1.05])\n",
    "plt.xlabel('False Positive Rate')\n",
    "plt.ylabel('True Positive Rate')\n",
    "plt.title('Receiver operating characteristic')\n",
    "plt.legend(loc=\"lower right\")\n",
    "plt.savefig('Log_ROC')\n",
    "plt.show()"
   ]
  },
  {
   "cell_type": "code",
   "execution_count": 63,
   "id": "3da2e807",
   "metadata": {
    "scrolled": true
   },
   "outputs": [
    {
     "data": {
      "image/png": "[encoded data removed]",
      "text/plain": [
       "<Figure size 432x288 with 1 Axes>"
      ]
     },
     "metadata": {
      "needs_background": "light"
     },
     "output_type": "display_data"
    }
   ],
   "source": [
    "from sklearn.metrics import roc_auc_score\n",
    "from sklearn.metrics import roc_curve\n",
    "logit_roc_auc = roc_auc_score(y_test, xGmodel.predict(X_test))\n",
    "fpr, tpr, thresholds = roc_curve(y_test, xGmodel.predict_proba(X_test)[:,1])\n",
    "plt.figure()\n",
    "plt.plot(fpr, tpr, label='Logistic Regression (area = %0.2f)' % logit_roc_auc)\n",
    "plt.plot([0, 1], [0, 1],'r--')\n",
    "plt.xlim([0.0, 1.0])\n",
    "plt.ylim([0.0, 1.05])\n",
    "plt.xlabel('False Positive Rate')\n",
    "plt.ylabel('True Positive Rate')\n",
    "plt.title('Receiver operating characteristic')\n",
    "plt.legend(loc=\"lower right\")\n",
    "plt.savefig('Log_ROC')\n",
    "plt.show()"
   ]
  },
  {
   "cell_type": "code",
   "execution_count": 64,
   "id": "1a5c7333",
   "metadata": {},
   "outputs": [
    {
     "name": "stdout",
     "output_type": "stream",
     "text": [
      "F-Score for SMOTE model 0.35457809694793535\n",
      "F-Score for untransformed model 0.1764705882352941\n"
     ]
    }
   ],
   "source": [
    "print('F-Score for SMOTE model', f1_score(y_test, y_pred_test))\n",
    "print('F-Score for untransformed model', f1_score(y_test, y_untrans_pred))"
   ]
  },
  {
   "cell_type": "code",
   "execution_count": 65,
   "id": "69cbadc5",
   "metadata": {},
   "outputs": [],
   "source": [
    "#website for us to compare xG results with: https://understat.com/league/EPL/2017"
   ]
  },
  {
   "cell_type": "code",
   "execution_count": 66,
   "id": "a3bfa31f",
   "metadata": {},
   "outputs": [
    {
     "data": {
      "text/plain": [
       "RandomForestClassifier(max_depth=5, n_estimators=500, oob_score=True,\n",
       "                       random_state=0)"
      ]
     },
     "execution_count": 66,
     "metadata": {},
     "output_type": "execute_result"
    }
   ],
   "source": [
    "#nontransformed dataset random forest\n",
    "clf2 = RandomForestClassifier(random_state=0, oob_score = True, max_depth = 5, n_estimators = 500)\n",
    "clf2.fit(X_train, y_train)"
   ]
  },
  {
   "cell_type": "code",
   "execution_count": 67,
   "id": "efb9d699",
   "metadata": {},
   "outputs": [
    {
     "name": "stdout",
     "output_type": "stream",
     "text": [
      "[0.5673392  0.35150118 0.01767282 0.0634868 ]\n",
      "              precision    recall  f1-score   support\n",
      "\n",
      "           0       0.90      0.99      0.95      8085\n",
      "           1       0.64      0.10      0.17       959\n",
      "\n",
      "    accuracy                           0.90      9044\n",
      "   macro avg       0.77      0.55      0.56      9044\n",
      "weighted avg       0.88      0.90      0.86      9044\n",
      "\n"
     ]
    }
   ],
   "source": [
    "y_pred_forest_train_2 = clf2.predict(X_train)\n",
    "y_pred_forest_test_2 = clf2.predict(X_test)\n",
    "print(clf2.feature_importances_)\n",
    "print(classification_report(y_test, y_pred_forest_test_2))"
   ]
  },
  {
   "cell_type": "code",
   "execution_count": 68,
   "id": "a48883df",
   "metadata": {},
   "outputs": [
    {
     "data": {
      "text/plain": [
       "RandomForestClassifier(max_depth=5, n_estimators=500, oob_score=True,\n",
       "                       random_state=0)"
      ]
     },
     "execution_count": 68,
     "metadata": {},
     "output_type": "execute_result"
    }
   ],
   "source": [
    "clf = RandomForestClassifier(random_state=0, oob_score = True, max_depth = 5, n_estimators = 500)\n",
    "clf.fit(X_over, y_over)"
   ]
  },
  {
   "cell_type": "code",
   "execution_count": 69,
   "id": "2e7b8f50",
   "metadata": {},
   "outputs": [],
   "source": [
    "y_pred_forest_train = clf.predict(X_train)\n",
    "y_pred_forest_test = clf.predict(X_test)"
   ]
  },
  {
   "cell_type": "code",
   "execution_count": 70,
   "id": "06d5421d",
   "metadata": {},
   "outputs": [
    {
     "data": {
      "text/plain": [
       "array([0.59259086, 0.34168113, 0.01638415, 0.04934387])"
      ]
     },
     "execution_count": 70,
     "metadata": {},
     "output_type": "execute_result"
    }
   ],
   "source": [
    "#X = shots[['eventTime', 'distance_m', 'angle','strong_foot', 'header']]\n",
    "clf.feature_importances_"
   ]
  },
  {
   "cell_type": "code",
   "execution_count": 71,
   "id": "c135166a",
   "metadata": {},
   "outputs": [
    {
     "name": "stdout",
     "output_type": "stream",
     "text": [
      "Accuracy of random forest classifier on training set: 0.75\n",
      "Accuracy of random forest classifier on test set: 0.84\n",
      "OOB score of random forest classifier on training set: 0.75\n",
      "OOB score of random forest classifier on test set: 0.75\n"
     ]
    }
   ],
   "source": [
    "print('Accuracy of random forest classifier on training set: {:.2f}'.format(clf.score(X_over, y_over)))\n",
    "print('Accuracy of random forest classifier on test set: {:.2f}'.format(clf.score(X_test, y_test)))\n",
    "print('OOB score of random forest classifier on training set: {:.2f}'.format(clf.oob_score_))\n",
    "print('OOB score of random forest classifier on test set: {:.2f}'.format(clf.oob_score_))"
   ]
  },
  {
   "cell_type": "code",
   "execution_count": 72,
   "id": "0fb126a9",
   "metadata": {
    "scrolled": false
   },
   "outputs": [
    {
     "name": "stdout",
     "output_type": "stream",
     "text": [
      "              precision    recall  f1-score   support\n",
      "\n",
      "           0       0.93      0.89      0.91      8085\n",
      "           1       0.31      0.42      0.36       959\n",
      "\n",
      "    accuracy                           0.84      9044\n",
      "   macro avg       0.62      0.65      0.63      9044\n",
      "weighted avg       0.86      0.84      0.85      9044\n",
      "\n"
     ]
    }
   ],
   "source": [
    "print(classification_report(y_test, y_pred_forest_test))"
   ]
  },
  {
   "cell_type": "code",
   "execution_count": 73,
   "id": "bca4ed67",
   "metadata": {},
   "outputs": [
    {
     "name": "stdout",
     "output_type": "stream",
     "text": [
      "[[7179  906]\n",
      " [ 556  403]]\n"
     ]
    }
   ],
   "source": [
    "print(confusion_matrix(y_test, y_pred_forest_test))"
   ]
  },
  {
   "cell_type": "code",
   "execution_count": 83,
   "id": "ab9e1d19",
   "metadata": {
    "scrolled": true
   },
   "outputs": [
    {
     "data": {
      "text/plain": [
       "SVC(C=0.001)"
      ]
     },
     "execution_count": 83,
     "metadata": {},
     "output_type": "execute_result"
    }
   ],
   "source": [
    "from sklearn.svm import SVC\n",
    "svc = SVC(C = 0.001)\n",
    "svc.fit(X_over, y_over)"
   ]
  },
  {
   "cell_type": "code",
   "execution_count": 84,
   "id": "5735a612",
   "metadata": {},
   "outputs": [],
   "source": [
    "y_pred_test_SVM = svc.predict(X_test)"
   ]
  },
  {
   "cell_type": "code",
   "execution_count": 85,
   "id": "d3d2a131",
   "metadata": {
    "scrolled": true
   },
   "outputs": [
    {
     "name": "stdout",
     "output_type": "stream",
     "text": [
      "Accuracy of non-linear SVM SMOTE classifier on training set: 0.88\n",
      "Accuracy of non-linear SVM SMOTE classifier on test set: 0.87\n"
     ]
    }
   ],
   "source": [
    "print('Accuracy of non-linear SVM SMOTE classifier on training set: {:.2f}'.format(svc.score(X_train, y_train)))\n",
    "print('Accuracy of non-linear SVM SMOTE classifier on test set: {:.2f}'.format(svc.score(X_test, y_test)))"
   ]
  },
  {
   "cell_type": "code",
   "execution_count": 86,
   "id": "07356134",
   "metadata": {
    "scrolled": false
   },
   "outputs": [
    {
     "name": "stdout",
     "output_type": "stream",
     "text": [
      "              precision    recall  f1-score   support\n",
      "\n",
      "           0       0.92      0.94      0.93      8085\n",
      "           1       0.36      0.27      0.31       959\n",
      "\n",
      "    accuracy                           0.87      9044\n",
      "   macro avg       0.64      0.61      0.62      9044\n",
      "weighted avg       0.86      0.87      0.86      9044\n",
      "\n"
     ]
    }
   ],
   "source": [
    "print(classification_report(y_test, y_pred_test_SVM))"
   ]
  },
  {
   "cell_type": "code",
   "execution_count": 87,
   "id": "8551c456",
   "metadata": {},
   "outputs": [
    {
     "name": "stdout",
     "output_type": "stream",
     "text": [
      "[[7627  458]\n",
      " [ 701  258]]\n"
     ]
    }
   ],
   "source": [
    "confusion_matrix_SVM = confusion_matrix(y_test, y_pred_test_SVM)\n",
    "print(confusion_matrix_SVM)"
   ]
  },
  {
   "cell_type": "code",
   "execution_count": 79,
   "id": "fd33f63e",
   "metadata": {},
   "outputs": [
    {
     "name": "stdout",
     "output_type": "stream",
     "text": [
      "done\n",
      "done\n",
      "done\n",
      "done\n",
      "done\n",
      "done\n",
      "done\n",
      "done\n"
     ]
    }
   ],
   "source": [
    "#Tuning the SVM regularization parameter\n",
    "train_accs = []\n",
    "test_accs = []\n",
    "f_scores = []\n",
    "for reg_param in [0.0001, 0.001, 0.01, 0.1, 1, 10, 100, 1000]:\n",
    "    svc_tune = SVC(C = reg_param)\n",
    "    svc_tune.fit(X_over, y_over)\n",
    "    y_pred_test_SVM = svc_tune.predict(X_test)\n",
    "    train_acc = svc_tune.score(X_over, y_over)\n",
    "    test_acc = svc_tune.score(X_test, y_test)\n",
    "    f_score = f1_score(y_test, y_pred_test_SVM)\n",
    "    train_accs.append(train_acc)\n",
    "    test_accs.append(test_acc)\n",
    "    f_scores.append(f_score)\n",
    "    print('done')"
   ]
  },
  {
   "cell_type": "code",
   "execution_count": 82,
   "id": "0a55bc56",
   "metadata": {},
   "outputs": [
    {
     "name": "stdout",
     "output_type": "stream",
     "text": [
      "[0.6666757948352822, 0.727770627379029, 0.7383684311416601, 0.7405591916093874, 0.742667798559575, 0.7414354957964784, 0.7425582605361887, 0.7433797957115864]\n",
      "[0.8939628482972136, 0.8718487394957983, 0.8537151702786377, 0.8495134896063689, 0.8433215391419726, 0.8379035824856258, 0.8369084475895622, 0.8367978770455551]\n",
      "[0.0, 0.3080597014925373, 0.35178833904948553, 0.35650118203309694, 0.35620172648796, 0.35304501323918797, 0.35335379219640506, 0.35433070866141736]\n"
     ]
    }
   ],
   "source": [
    "print(train_accs)\n",
    "print(test_accs)\n",
    "print(f_scores)"
   ]
  },
  {
   "cell_type": "code",
   "execution_count": 88,
   "id": "87c447db",
   "metadata": {},
   "outputs": [],
   "source": [
    "from sklearn.neural_network import MLPClassifier\n",
    "MLP = MLPClassifier(random_state=1, max_iter=600).fit(X_over, y_over)"
   ]
  },
  {
   "cell_type": "code",
   "execution_count": 89,
   "id": "7b336018",
   "metadata": {},
   "outputs": [],
   "source": [
    "y_pred_MLP_test = MLP.predict(X_test)"
   ]
  },
  {
   "cell_type": "code",
   "execution_count": 90,
   "id": "c0753cd0",
   "metadata": {},
   "outputs": [
    {
     "name": "stdout",
     "output_type": "stream",
     "text": [
      "Accuracy of MLP classifier on training set: 0.74\n",
      "Accuracy of MLP classifier on test set: 0.83\n"
     ]
    }
   ],
   "source": [
    "print('Accuracy of MLP classifier on training set: {:.2f}'.format(MLP.score(X_over, y_over)))\n",
    "print('Accuracy of MLP classifier on test set: {:.2f}'.format(MLP.score(X_test, y_test)))"
   ]
  },
  {
   "cell_type": "code",
   "execution_count": 91,
   "id": "a3af5601",
   "metadata": {},
   "outputs": [
    {
     "name": "stdout",
     "output_type": "stream",
     "text": [
      "              precision    recall  f1-score   support\n",
      "\n",
      "           0       0.93      0.88      0.90      8085\n",
      "           1       0.29      0.44      0.35       959\n",
      "\n",
      "    accuracy                           0.83      9044\n",
      "   macro avg       0.61      0.66      0.63      9044\n",
      "weighted avg       0.86      0.83      0.84      9044\n",
      "\n"
     ]
    }
   ],
   "source": [
    "print(classification_report(y_test, y_pred_MLP_test))"
   ]
  },
  {
   "cell_type": "code",
   "execution_count": 92,
   "id": "93aa1489",
   "metadata": {},
   "outputs": [
    {
     "name": "stdout",
     "output_type": "stream",
     "text": [
      "[[7075 1010]\n",
      " [ 541  418]]\n"
     ]
    }
   ],
   "source": [
    "confusion_mat_MLP = confusion_matrix(y_test, y_pred_MLP_test)\n",
    "print(confusion_mat_MLP)"
   ]
  },
  {
   "cell_type": "code",
   "execution_count": 93,
   "id": "ca6c3cf2",
   "metadata": {},
   "outputs": [
    {
     "data": {
      "text/plain": [
       "3"
      ]
     },
     "execution_count": 93,
     "metadata": {},
     "output_type": "execute_result"
    }
   ],
   "source": [
    "MLP.n_layers_"
   ]
  },
  {
   "cell_type": "code",
   "execution_count": 94,
   "id": "1e12398e",
   "metadata": {},
   "outputs": [],
   "source": [
    "#can give the probability any shot ends up in a goal for our dataset as the predicted probability of a 1\n",
    "#instance\n",
    "shots['xGSMOTE'] = [x[1] for x in xGmodel.predict_proba(X)]\n",
    "shots['xGnonSMOTE'] = [x[1] for x in xGmodel2.predict_proba(X)]\n",
    "shots['xGSMOTEForest'] = [x[1] for x in clf.predict_proba(X)]\n",
    "shots['xGnonSMOTEForest'] = [x[1] for x in clf2.predict_proba(X)]"
   ]
  },
  {
   "cell_type": "code",
   "execution_count": 95,
   "id": "c4aba675",
   "metadata": {},
   "outputs": [
    {
     "name": "stdout",
     "output_type": "stream",
     "text": [
      "Arsenal actual goals in this dataset is: 69\n",
      "xG sum with untransformed dataset is: 61.37003211805823\n",
      "xG sum with SMOTE transformed dataset and logistic classifier is: 165.67752824280555\n",
      "xG sum with SMOTE transformed dataset and random forest classifier is: 162.9504390363809\n",
      "xG sum with untransformed dataset and random forest classifier is: 60.21767943128616\n"
     ]
    }
   ],
   "source": [
    "#This says Arsenal's xG for the season is around 164 which is basically double what it actually was\n",
    "#Our model is grossly overpredicting when using SMOTE\n",
    "#The sum of xG seems to make a lot more sense without SMOTE, especially when taking into account that there seems\n",
    "#to be missing values in the dataset\n",
    "Arsenalshots = shots[shots['teamId'] == 1609] \n",
    "print('Arsenal actual goals in this dataset is:', len(Arsenalshots[Arsenalshots['goal'] == 1]))\n",
    "print('xG sum with untransformed dataset is:',sum(shots[shots['teamId'] == 1609]['xGnonSMOTE']))\n",
    "print('xG sum with SMOTE transformed dataset and logistic classifier is:',\n",
    "      sum(shots[shots['teamId'] == 1609]['xGSMOTE']))\n",
    "print('xG sum with SMOTE transformed dataset and random forest classifier is:',\n",
    "      sum(shots[shots['teamId'] == 1609]['xGSMOTEForest']))\n",
    "print('xG sum with untransformed dataset and random forest classifier is:',\n",
    "      sum(shots[shots['teamId'] == 1609]['xGnonSMOTEForest']))"
   ]
  },
  {
   "cell_type": "code",
   "execution_count": 96,
   "id": "798b28fc",
   "metadata": {},
   "outputs": [
    {
     "data": {
      "text/plain": [
       "69"
      ]
     },
     "execution_count": 96,
     "metadata": {},
     "output_type": "execute_result"
    }
   ],
   "source": [
    "#It seems that we are missing some goals for Arsenal, as they actually scored 74 goals in this season\n",
    "#But I really think I parsed the tags correctly??\n",
    "#They must have been merged out when we lost all of that data with the stadium names, although that doesnt make too\n",
    "#much sense because there are still 38 games present for Arsenal\n",
    "#In order for this analysis I should also merge the teams dataset\n",
    "#I genuinely think its just missing some data points, which is really too bad\n",
    "Arsenalshots = shots[shots['teamId'] == 1609]\n",
    "len(Arsenalshots[Arsenalshots['goal'] == 1])"
   ]
  },
  {
   "cell_type": "code",
   "execution_count": 97,
   "id": "ba9bcdb4",
   "metadata": {},
   "outputs": [],
   "source": [
    "playergoals = pd.DataFrame()"
   ]
  },
  {
   "cell_type": "code",
   "execution_count": 98,
   "id": "1e13c59d",
   "metadata": {
    "scrolled": true
   },
   "outputs": [],
   "source": [
    "names = []\n",
    "player_team = []\n",
    "goals_scored = []\n",
    "xGnorm = []\n",
    "SMOTExG = []\n",
    "ForestxG = []\n",
    "ForestnonSMOTExG = []\n",
    "for name in shots['shortName'].unique():\n",
    "    names.append(name)\n",
    "    playerdf = shots[shots['shortName'] == name]\n",
    "    team_name = shotswteam[shotswteam['shortName'] == name]['name'].unique()\n",
    "    player_team.append(team_name)\n",
    "    goals1 = len(playerdf[playerdf['goal'] == 1])\n",
    "    goals_scored.append(goals1)\n",
    "    xGsum1 = sum(playerdf['xGnonSMOTE'])\n",
    "    xGnorm.append(xGsum1)\n",
    "    xGsum2 = sum(playerdf['xGSMOTE'])\n",
    "    SMOTExG.append(xGsum2)\n",
    "    xGsum3 = sum(playerdf['xGSMOTEForest'])\n",
    "    ForestxG.append(xGsum3)\n",
    "    xGsum4 = sum(playerdf['xGnonSMOTEForest'])\n",
    "    ForestnonSMOTExG.append(xGsum4)\n",
    "playergoals['name'] = names\n",
    "playergoals['actual_goals'] = goals_scored\n",
    "playergoals['OG_xG'] = xGnorm\n",
    "playergoals['SMOTExG'] = SMOTExG\n",
    "playergoals['ForestxG'] = ForestxG\n",
    "playergoals['ForestnonSMOTExG'] = ForestnonSMOTExG\n",
    "playergoals['Team'] = player_team"
   ]
  },
  {
   "cell_type": "code",
   "execution_count": 130,
   "id": "694df7bf",
   "metadata": {},
   "outputs": [],
   "source": [
    "playergoals['Goals - xG'] = playergoals['actual_goals'] - playergoals['OG_xG']\n",
    "playergoals['Goals - SMOTExG'] = playergoals['actual_goals'] - playergoals['SMOTExG']"
   ]
  },
  {
   "cell_type": "code",
   "execution_count": 131,
   "id": "e3d2c674",
   "metadata": {},
   "outputs": [
    {
     "name": "stdout",
     "output_type": "stream",
     "text": [
      "0.013102484880426535\n",
      "-3.167279296768212\n"
     ]
    }
   ],
   "source": [
    "print(playergoals['Goals - xG'].mean())\n",
    "print(playergoals['SMOTEGoals - xG'].mean())"
   ]
  },
  {
   "cell_type": "code",
   "execution_count": 135,
   "id": "b63139e2",
   "metadata": {
    "scrolled": false
   },
   "outputs": [
    {
     "data": {
      "text/html": [
       "<div>\n",
       "<style scoped>\n",
       "    .dataframe tbody tr th:only-of-type {\n",
       "        vertical-align: middle;\n",
       "    }\n",
       "\n",
       "    .dataframe tbody tr th {\n",
       "        vertical-align: top;\n",
       "    }\n",
       "\n",
       "    .dataframe thead th {\n",
       "        text-align: right;\n",
       "    }\n",
       "</style>\n",
       "<table border=\"1\" class=\"dataframe\">\n",
       "  <thead>\n",
       "    <tr style=\"text-align: right;\">\n",
       "      <th></th>\n",
       "      <th>name</th>\n",
       "      <th>actual_goals</th>\n",
       "      <th>OG_xG</th>\n",
       "      <th>SMOTExG</th>\n",
       "      <th>Team</th>\n",
       "      <th>Goals - xG</th>\n",
       "    </tr>\n",
       "  </thead>\n",
       "  <tbody>\n",
       "    <tr>\n",
       "      <th>40</th>\n",
       "      <td>Son Heung-Min</td>\n",
       "      <td>14</td>\n",
       "      <td>7.391572</td>\n",
       "      <td>21.925208</td>\n",
       "      <td>[Tottenham Hotspur, Korea Republic]</td>\n",
       "      <td>6.608428</td>\n",
       "    </tr>\n",
       "    <tr>\n",
       "      <th>61</th>\n",
       "      <td>Mohamed Salah</td>\n",
       "      <td>32</td>\n",
       "      <td>18.586380</td>\n",
       "      <td>51.301069</td>\n",
       "      <td>[Liverpool, Egypt]</td>\n",
       "      <td>13.413620</td>\n",
       "    </tr>\n",
       "    <tr>\n",
       "      <th>64</th>\n",
       "      <td>Philippe Coutinho</td>\n",
       "      <td>15</td>\n",
       "      <td>7.454582</td>\n",
       "      <td>22.015234</td>\n",
       "      <td>[Liverpool, Barcelona, Brazil]</td>\n",
       "      <td>7.545418</td>\n",
       "    </tr>\n",
       "    <tr>\n",
       "      <th>469</th>\n",
       "      <td>Iago Aspas</td>\n",
       "      <td>20</td>\n",
       "      <td>13.229408</td>\n",
       "      <td>32.367826</td>\n",
       "      <td>[Spain, Celta de Vigo]</td>\n",
       "      <td>6.770592</td>\n",
       "    </tr>\n",
       "    <tr>\n",
       "      <th>498</th>\n",
       "      <td>G. Bale</td>\n",
       "      <td>16</td>\n",
       "      <td>9.859367</td>\n",
       "      <td>26.799954</td>\n",
       "      <td>[Wales, Real Madrid]</td>\n",
       "      <td>6.140633</td>\n",
       "    </tr>\n",
       "    <tr>\n",
       "      <th>536</th>\n",
       "      <td>A. Griezmann</td>\n",
       "      <td>22</td>\n",
       "      <td>10.657053</td>\n",
       "      <td>29.651161</td>\n",
       "      <td>[France, Atl\\u00e9tico Madrid]</td>\n",
       "      <td>11.342947</td>\n",
       "    </tr>\n",
       "    <tr>\n",
       "      <th>687</th>\n",
       "      <td>M. Icardi</td>\n",
       "      <td>23</td>\n",
       "      <td>15.176096</td>\n",
       "      <td>37.088372</td>\n",
       "      <td>[Internazionale]</td>\n",
       "      <td>7.823904</td>\n",
       "    </tr>\n",
       "    <tr>\n",
       "      <th>724</th>\n",
       "      <td>L. Messi</td>\n",
       "      <td>27</td>\n",
       "      <td>18.880653</td>\n",
       "      <td>52.318090</td>\n",
       "      <td>[Barcelona, Argentina]</td>\n",
       "      <td>8.119347</td>\n",
       "    </tr>\n",
       "    <tr>\n",
       "      <th>755</th>\n",
       "      <td>Rony Lopes</td>\n",
       "      <td>15</td>\n",
       "      <td>7.218091</td>\n",
       "      <td>18.984156</td>\n",
       "      <td>[Monaco]</td>\n",
       "      <td>7.781909</td>\n",
       "    </tr>\n",
       "    <tr>\n",
       "      <th>767</th>\n",
       "      <td>E. Cavani</td>\n",
       "      <td>27</td>\n",
       "      <td>19.470431</td>\n",
       "      <td>45.394260</td>\n",
       "      <td>[PSG, Uruguay]</td>\n",
       "      <td>7.529569</td>\n",
       "    </tr>\n",
       "    <tr>\n",
       "      <th>866</th>\n",
       "      <td>C. Immobile</td>\n",
       "      <td>22</td>\n",
       "      <td>12.350020</td>\n",
       "      <td>33.240211</td>\n",
       "      <td>[Lazio, Italy]</td>\n",
       "      <td>9.649980</td>\n",
       "    </tr>\n",
       "    <tr>\n",
       "      <th>878</th>\n",
       "      <td>P. Dybala</td>\n",
       "      <td>16</td>\n",
       "      <td>6.869665</td>\n",
       "      <td>21.898377</td>\n",
       "      <td>[Juventus, Argentina]</td>\n",
       "      <td>9.130335</td>\n",
       "    </tr>\n",
       "    <tr>\n",
       "      <th>1023</th>\n",
       "      <td>\\u00c1ngel</td>\n",
       "      <td>13</td>\n",
       "      <td>6.943462</td>\n",
       "      <td>19.858774</td>\n",
       "      <td>[Getafe]</td>\n",
       "      <td>6.056538</td>\n",
       "    </tr>\n",
       "    <tr>\n",
       "      <th>1087</th>\n",
       "      <td>R. Falcao</td>\n",
       "      <td>16</td>\n",
       "      <td>9.382218</td>\n",
       "      <td>23.075674</td>\n",
       "      <td>[Monaco, Colombia]</td>\n",
       "      <td>6.617782</td>\n",
       "    </tr>\n",
       "    <tr>\n",
       "      <th>1142</th>\n",
       "      <td>F. Thauvin</td>\n",
       "      <td>19</td>\n",
       "      <td>12.703904</td>\n",
       "      <td>33.405683</td>\n",
       "      <td>[Olympique Marseille]</td>\n",
       "      <td>6.296096</td>\n",
       "    </tr>\n",
       "    <tr>\n",
       "      <th>1193</th>\n",
       "      <td>N. P\\u00e9p\\u00e9</td>\n",
       "      <td>12</td>\n",
       "      <td>5.223019</td>\n",
       "      <td>15.854556</td>\n",
       "      <td>[Lille]</td>\n",
       "      <td>6.776981</td>\n",
       "    </tr>\n",
       "    <tr>\n",
       "      <th>1299</th>\n",
       "      <td>N. Roux</td>\n",
       "      <td>15</td>\n",
       "      <td>8.882125</td>\n",
       "      <td>23.758593</td>\n",
       "      <td>[Metz]</td>\n",
       "      <td>6.117875</td>\n",
       "    </tr>\n",
       "  </tbody>\n",
       "</table>\n",
       "</div>"
      ],
      "text/plain": [
       "                   name  actual_goals      OG_xG    SMOTExG  \\\n",
       "40        Son Heung-Min            14   7.391572  21.925208   \n",
       "61        Mohamed Salah            32  18.586380  51.301069   \n",
       "64    Philippe Coutinho            15   7.454582  22.015234   \n",
       "469          Iago Aspas            20  13.229408  32.367826   \n",
       "498             G. Bale            16   9.859367  26.799954   \n",
       "536        A. Griezmann            22  10.657053  29.651161   \n",
       "687           M. Icardi            23  15.176096  37.088372   \n",
       "724            L. Messi            27  18.880653  52.318090   \n",
       "755          Rony Lopes            15   7.218091  18.984156   \n",
       "767           E. Cavani            27  19.470431  45.394260   \n",
       "866         C. Immobile            22  12.350020  33.240211   \n",
       "878           P. Dybala            16   6.869665  21.898377   \n",
       "1023         \\u00c1ngel            13   6.943462  19.858774   \n",
       "1087          R. Falcao            16   9.382218  23.075674   \n",
       "1142         F. Thauvin            19  12.703904  33.405683   \n",
       "1193  N. P\\u00e9p\\u00e9            12   5.223019  15.854556   \n",
       "1299            N. Roux            15   8.882125  23.758593   \n",
       "\n",
       "                                     Team  Goals - xG  \n",
       "40    [Tottenham Hotspur, Korea Republic]    6.608428  \n",
       "61                     [Liverpool, Egypt]   13.413620  \n",
       "64         [Liverpool, Barcelona, Brazil]    7.545418  \n",
       "469                [Spain, Celta de Vigo]    6.770592  \n",
       "498                  [Wales, Real Madrid]    6.140633  \n",
       "536        [France, Atl\\u00e9tico Madrid]   11.342947  \n",
       "687                      [Internazionale]    7.823904  \n",
       "724                [Barcelona, Argentina]    8.119347  \n",
       "755                              [Monaco]    7.781909  \n",
       "767                        [PSG, Uruguay]    7.529569  \n",
       "866                        [Lazio, Italy]    9.649980  \n",
       "878                 [Juventus, Argentina]    9.130335  \n",
       "1023                             [Getafe]    6.056538  \n",
       "1087                   [Monaco, Colombia]    6.617782  \n",
       "1142                [Olympique Marseille]    6.296096  \n",
       "1193                              [Lille]    6.776981  \n",
       "1299                               [Metz]    6.117875  "
      ]
     },
     "execution_count": 135,
     "metadata": {},
     "output_type": "execute_result"
    }
   ],
   "source": [
    "playergoals[playergoals['Goals - xG'] > 6][['name', 'actual_goals', 'OG_xG', 'SMOTExG', 'Team', 'Goals - xG']]"
   ]
  },
  {
   "cell_type": "code",
   "execution_count": 105,
   "id": "dfc2f46a",
   "metadata": {},
   "outputs": [],
   "source": [
    "teamgoals = pd.DataFrame()"
   ]
  },
  {
   "cell_type": "code",
   "execution_count": 111,
   "id": "64e990a0",
   "metadata": {},
   "outputs": [
    {
     "data": {
      "text/plain": [
       "0        Arsenal FC\n",
       "1        Arsenal FC\n",
       "2        Arsenal FC\n",
       "3        Arsenal FC\n",
       "4        Arsenal FC\n",
       "            ...    \n",
       "36169        Panama\n",
       "36170        Panama\n",
       "36171        Panama\n",
       "36172        Panama\n",
       "36173        Panama\n",
       "Name: officialName, Length: 36174, dtype: object"
      ]
     },
     "execution_count": 111,
     "metadata": {},
     "output_type": "execute_result"
    }
   ],
   "source": [
    "shots['officialName']"
   ]
  },
  {
   "cell_type": "code",
   "execution_count": 112,
   "id": "04c0aae0",
   "metadata": {},
   "outputs": [],
   "source": [
    "teamnames = []\n",
    "goals_scored = []\n",
    "xGnorm = []\n",
    "SMOTExG = []\n",
    "ForestxG = []\n",
    "ForestnonSMOTExG = []\n",
    "for name in shots['officialName'].unique():\n",
    "    teamnames.append(name)\n",
    "    teamdf = shots[shots['officialName'] == name]\n",
    "    goals1 = len(teamdf[teamdf['goal'] == 1])\n",
    "    goals_scored.append(goals1)\n",
    "    xGsum1 = sum(teamdf['xGnonSMOTE'])\n",
    "    xGnorm.append(xGsum1)\n",
    "    xGsum2 = sum(teamdf['xGSMOTE'])\n",
    "    SMOTExG.append(xGsum2)\n",
    "    xGsum3 = sum(teamdf['xGSMOTEForest'])\n",
    "    ForestxG.append(xGsum3)\n",
    "    xGsum4 = sum(teamdf['xGnonSMOTEForest'])\n",
    "    ForestnonSMOTExG.append(xGsum4)\n",
    "teamgoals['Team'] = teamnames\n",
    "teamgoals['actual_goals'] = goals_scored\n",
    "teamgoals['OG_xG'] = xGnorm\n",
    "teamgoals['SMOTExG'] = SMOTExG\n",
    "teamgoals['ForestxG'] = ForestxG\n",
    "teamgoals['ForestnonSMOTExG'] = ForestnonSMOTExG"
   ]
  },
  {
   "cell_type": "code",
   "execution_count": 118,
   "id": "34e63600",
   "metadata": {},
   "outputs": [],
   "source": [
    "teamgoals['Goals - xG'] = teamgoals['actual_goals'] - teamgoals['OG_xG']\n",
    "teamgoals['Goals - SMOTExG'] = teamgoals['actual_goals'] - teamgoals['SMOTExG']"
   ]
  },
  {
   "cell_type": "code",
   "execution_count": 119,
   "id": "08e60d41",
   "metadata": {},
   "outputs": [
    {
     "data": {
      "text/html": [
       "<div>\n",
       "<style scoped>\n",
       "    .dataframe tbody tr th:only-of-type {\n",
       "        vertical-align: middle;\n",
       "    }\n",
       "\n",
       "    .dataframe tbody tr th {\n",
       "        vertical-align: top;\n",
       "    }\n",
       "\n",
       "    .dataframe thead th {\n",
       "        text-align: right;\n",
       "    }\n",
       "</style>\n",
       "<table border=\"1\" class=\"dataframe\">\n",
       "  <thead>\n",
       "    <tr style=\"text-align: right;\">\n",
       "      <th></th>\n",
       "      <th>Team</th>\n",
       "      <th>actual_goals</th>\n",
       "      <th>OG_xG</th>\n",
       "      <th>SMOTExG</th>\n",
       "      <th>ForestxG</th>\n",
       "      <th>ForestnonSMOTExG</th>\n",
       "      <th>Goals - xG</th>\n",
       "      <th>Goals - SMOTExG</th>\n",
       "    </tr>\n",
       "  </thead>\n",
       "  <tbody>\n",
       "    <tr>\n",
       "      <th>0</th>\n",
       "      <td>Arsenal FC</td>\n",
       "      <td>69</td>\n",
       "      <td>61.370032</td>\n",
       "      <td>165.677528</td>\n",
       "      <td>162.950439</td>\n",
       "      <td>60.217679</td>\n",
       "      <td>7.629968</td>\n",
       "      <td>-96.677528</td>\n",
       "    </tr>\n",
       "    <tr>\n",
       "      <th>1</th>\n",
       "      <td>Leicester City FC</td>\n",
       "      <td>47</td>\n",
       "      <td>41.347047</td>\n",
       "      <td>109.823011</td>\n",
       "      <td>110.395287</td>\n",
       "      <td>41.734298</td>\n",
       "      <td>5.652953</td>\n",
       "      <td>-62.823011</td>\n",
       "    </tr>\n",
       "    <tr>\n",
       "      <th>2</th>\n",
       "      <td>AFC Bournemouth</td>\n",
       "      <td>41</td>\n",
       "      <td>41.823607</td>\n",
       "      <td>117.991244</td>\n",
       "      <td>116.048185</td>\n",
       "      <td>41.284905</td>\n",
       "      <td>-0.823607</td>\n",
       "      <td>-76.991244</td>\n",
       "    </tr>\n",
       "    <tr>\n",
       "      <th>3</th>\n",
       "      <td>West Bromwich Albion FC</td>\n",
       "      <td>29</td>\n",
       "      <td>37.589680</td>\n",
       "      <td>101.233945</td>\n",
       "      <td>100.791204</td>\n",
       "      <td>38.160931</td>\n",
       "      <td>-8.589680</td>\n",
       "      <td>-72.233945</td>\n",
       "    </tr>\n",
       "    <tr>\n",
       "      <th>4</th>\n",
       "      <td>Brighton &amp; Hove Albion FC</td>\n",
       "      <td>28</td>\n",
       "      <td>36.660832</td>\n",
       "      <td>99.348616</td>\n",
       "      <td>98.989172</td>\n",
       "      <td>36.682223</td>\n",
       "      <td>-8.660832</td>\n",
       "      <td>-71.348616</td>\n",
       "    </tr>\n",
       "    <tr>\n",
       "      <th>...</th>\n",
       "      <td>...</td>\n",
       "      <td>...</td>\n",
       "      <td>...</td>\n",
       "      <td>...</td>\n",
       "      <td>...</td>\n",
       "      <td>...</td>\n",
       "      <td>...</td>\n",
       "      <td>...</td>\n",
       "    </tr>\n",
       "    <tr>\n",
       "      <th>119</th>\n",
       "      <td>Italy</td>\n",
       "      <td>5</td>\n",
       "      <td>4.460855</td>\n",
       "      <td>12.317287</td>\n",
       "      <td>12.082811</td>\n",
       "      <td>4.412229</td>\n",
       "      <td>0.539145</td>\n",
       "      <td>-7.317287</td>\n",
       "    </tr>\n",
       "    <tr>\n",
       "      <th>120</th>\n",
       "      <td>Korea Republic</td>\n",
       "      <td>3</td>\n",
       "      <td>2.021693</td>\n",
       "      <td>6.294724</td>\n",
       "      <td>6.357074</td>\n",
       "      <td>2.062512</td>\n",
       "      <td>0.978307</td>\n",
       "      <td>-3.294724</td>\n",
       "    </tr>\n",
       "    <tr>\n",
       "      <th>121</th>\n",
       "      <td>Australia</td>\n",
       "      <td>0</td>\n",
       "      <td>1.821881</td>\n",
       "      <td>5.918917</td>\n",
       "      <td>6.082440</td>\n",
       "      <td>1.887905</td>\n",
       "      <td>-1.821881</td>\n",
       "      <td>-5.918917</td>\n",
       "    </tr>\n",
       "    <tr>\n",
       "      <th>122</th>\n",
       "      <td>Denmark</td>\n",
       "      <td>3</td>\n",
       "      <td>2.909945</td>\n",
       "      <td>9.300821</td>\n",
       "      <td>8.890878</td>\n",
       "      <td>2.845682</td>\n",
       "      <td>0.090055</td>\n",
       "      <td>-6.300821</td>\n",
       "    </tr>\n",
       "    <tr>\n",
       "      <th>123</th>\n",
       "      <td>Panama</td>\n",
       "      <td>1</td>\n",
       "      <td>1.759868</td>\n",
       "      <td>5.210943</td>\n",
       "      <td>5.095681</td>\n",
       "      <td>1.711031</td>\n",
       "      <td>-0.759868</td>\n",
       "      <td>-4.210943</td>\n",
       "    </tr>\n",
       "  </tbody>\n",
       "</table>\n",
       "<p>124 rows × 8 columns</p>\n",
       "</div>"
      ],
      "text/plain": [
       "                          Team  actual_goals      OG_xG     SMOTExG  \\\n",
       "0                   Arsenal FC            69  61.370032  165.677528   \n",
       "1            Leicester City FC            47  41.347047  109.823011   \n",
       "2              AFC Bournemouth            41  41.823607  117.991244   \n",
       "3      West Bromwich Albion FC            29  37.589680  101.233945   \n",
       "4    Brighton & Hove Albion FC            28  36.660832   99.348616   \n",
       "..                         ...           ...        ...         ...   \n",
       "119                      Italy             5   4.460855   12.317287   \n",
       "120             Korea Republic             3   2.021693    6.294724   \n",
       "121                  Australia             0   1.821881    5.918917   \n",
       "122                    Denmark             3   2.909945    9.300821   \n",
       "123                     Panama             1   1.759868    5.210943   \n",
       "\n",
       "       ForestxG  ForestnonSMOTExG  Goals - xG  Goals - SMOTExG  \n",
       "0    162.950439         60.217679    7.629968       -96.677528  \n",
       "1    110.395287         41.734298    5.652953       -62.823011  \n",
       "2    116.048185         41.284905   -0.823607       -76.991244  \n",
       "3    100.791204         38.160931   -8.589680       -72.233945  \n",
       "4     98.989172         36.682223   -8.660832       -71.348616  \n",
       "..          ...               ...         ...              ...  \n",
       "119   12.082811          4.412229    0.539145        -7.317287  \n",
       "120    6.357074          2.062512    0.978307        -3.294724  \n",
       "121    6.082440          1.887905   -1.821881        -5.918917  \n",
       "122    8.890878          2.845682    0.090055        -6.300821  \n",
       "123    5.095681          1.711031   -0.759868        -4.210943  \n",
       "\n",
       "[124 rows x 8 columns]"
      ]
     },
     "execution_count": 119,
     "metadata": {},
     "output_type": "execute_result"
    }
   ],
   "source": [
    "teamgoals"
   ]
  },
  {
   "cell_type": "code",
   "execution_count": 122,
   "id": "fad34cd7",
   "metadata": {},
   "outputs": [
    {
     "name": "stdout",
     "output_type": "stream",
     "text": [
      "-52.20902324672752\n",
      "0.21597967012574065\n"
     ]
    }
   ],
   "source": [
    "print(teamgoals['Goals - SMOTExG'].mean())\n",
    "print(teamgoals['Goals - xG'].mean())"
   ]
  },
  {
   "cell_type": "code",
   "execution_count": null,
   "id": "6415a3be",
   "metadata": {},
   "outputs": [],
   "source": []
  }
 ],
 "metadata": {
  "kernelspec": {
   "display_name": "Python 3",
   "language": "python",
   "name": "python3"
  },
  "language_info": {
   "codemirror_mode": {
    "name": "ipython",
    "version": 3
   },
   "file_extension": ".py",
   "mimetype": "text/x-python",
   "name": "python",
   "nbconvert_exporter": "python",
   "pygments_lexer": "ipython3",
   "version": "3.8.8"
  }
 },
 "nbformat": 4,
 "nbformat_minor": 5
}
