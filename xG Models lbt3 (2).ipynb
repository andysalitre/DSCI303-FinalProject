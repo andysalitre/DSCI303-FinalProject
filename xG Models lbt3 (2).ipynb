{
 "cells": [
  {
   "cell_type": "code",
   "execution_count": 1,
   "id": "d4f8a7ef",
   "metadata": {},
   "outputs": [],
   "source": [
    "import json\n",
    "from collections import Counter\n",
    "import matplotlib.pyplot as plt\n",
    "from matplotlib.patches import Ellipse\n",
    "import numpy as np\n",
    "import pandas as pd\n",
    "import operator\n",
    "import seaborn as sns\n",
    "import math\n",
    "from sklearn.linear_model import LogisticRegression\n",
    "from sklearn.model_selection import train_test_split\n",
    "from sklearn.preprocessing import StandardScaler\n",
    "import imblearn.over_sampling as imb\n",
    "from sklearn.ensemble import RandomForestClassifier\n",
    "from sklearn.metrics import r2_score"
   ]
  },
  {
   "cell_type": "code",
   "execution_count": 2,
   "id": "8f151725",
   "metadata": {},
   "outputs": [],
   "source": [
    "nations = ['Italy','England','France','Spain','European_Championship','World_Cup']\n",
    "\n",
    "events = {}\n",
    "events['England'] = pd.read_json('/Users/lucastyler/Downloads/Senior Fall/DSCI 303/Project DSCI 303/events/events_England.json')\n",
    "events['Italy'] = pd.read_json('/Users/lucastyler/Downloads/Senior Fall/DSCI 303/Project DSCI 303/events/events_Italy.json')\n",
    "events['France'] = pd.read_json('/Users/lucastyler/Downloads/Senior Fall/DSCI 303/Project DSCI 303/events/events_France.json')\n",
    "events['Spain'] = pd.read_json('/Users/lucastyler/Downloads/Senior Fall/DSCI 303/Project DSCI 303/events/events_Spain.json')\n",
    "events['European_Championship'] = pd.read_json('/Users/lucastyler/Downloads/Senior Fall/DSCI 303/Project DSCI 303/events/events_European_Championship.json')\n",
    "events['World_Cup'] = pd.read_json('/Users/lucastyler/Downloads/Senior Fall/DSCI 303/Project DSCI 303/events/events_World_Cup.json')\n",
    "\n",
    "matches = {}\n",
    "matches['England'] = pd.read_json('/Users/lucastyler/Downloads/Senior Fall/DSCI 303/Project DSCI 303/matches/matches_England.json')\n",
    "matches['Italy'] = pd.read_json('/Users/lucastyler/Downloads/Senior Fall/DSCI 303/Project DSCI 303/matches/matches_Italy.json')\n",
    "matches['France'] = pd.read_json('/Users/lucastyler/Downloads/Senior Fall/DSCI 303/Project DSCI 303/matches/matches_France.json')\n",
    "matches['Spain'] = pd.read_json('/Users/lucastyler/Downloads/Senior Fall/DSCI 303/Project DSCI 303/matches/matches_Spain.json')\n",
    "matches['European_Championship'] = pd.read_json('/Users/lucastyler/Downloads/Senior Fall/DSCI 303/Project DSCI 303/matches/matches_European_Championship.json')\n",
    "matches['World_Cup'] = pd.read_json('/Users/lucastyler/Downloads/Senior Fall/DSCI 303/Project DSCI 303/matches/matches_World_Cup.json')\n",
    "\n",
    "teams = pd.read_json('/Users/lucastyler/Downloads/Senior Fall/DSCI 303/Project DSCI 303/teams.json')\n",
    "\n",
    "stadiums = pd.read_excel('/Users/lucastyler/Downloads/Senior Fall/DSCI 303/Project DSCI 303/Stadium field dimensions.xlsx')\n"
   ]
  },
  {
   "cell_type": "code",
   "execution_count": 3,
   "id": "4b122534",
   "metadata": {},
   "outputs": [],
   "source": [
    "Englandshots = events['England']['eventName'] == 'Shot'\n",
    "shots = events['England'][Englandshots]\n",
    "all_matches = matches['England']\n",
    "nationsnoEng = ['Italy','France','Spain','European_Championship','World_Cup']\n",
    "\n",
    "for nation in nationsnoEng:\n",
    "    all_matches = pd.concat([all_matches, matches[nation]])\n",
    "    shotsbool = events[nation]['eventName'] == 'Shot'\n",
    "    onlyshots = events[nation][shotsbool]\n",
    "    shots = pd.concat([shots, onlyshots])"
   ]
  },
  {
   "cell_type": "code",
   "execution_count": 4,
   "id": "a553bb06",
   "metadata": {},
   "outputs": [],
   "source": [
    "shots['x'] = [x[0]['x'] for x in shots['positions']]\n",
    "shots['y'] = [x[0]['y'] for x in shots['positions']]"
   ]
  },
  {
   "cell_type": "code",
   "execution_count": 5,
   "id": "2f9d9e36",
   "metadata": {},
   "outputs": [],
   "source": [
    "players = pd.read_json('/Users/lucastyler/Downloads/Senior Fall/DSCI 303/Project DSCI 303/players.json')"
   ]
  },
  {
   "cell_type": "code",
   "execution_count": 6,
   "id": "0b6db60e",
   "metadata": {},
   "outputs": [],
   "source": [
    "players['position'] = [x['name'] for x in players['role']]"
   ]
  },
  {
   "cell_type": "code",
   "execution_count": 7,
   "id": "ce81e66b",
   "metadata": {
    "scrolled": false
   },
   "outputs": [
    {
     "data": {
      "text/html": [
       "<div>\n",
       "<style scoped>\n",
       "    .dataframe tbody tr th:only-of-type {\n",
       "        vertical-align: middle;\n",
       "    }\n",
       "\n",
       "    .dataframe tbody tr th {\n",
       "        vertical-align: top;\n",
       "    }\n",
       "\n",
       "    .dataframe thead th {\n",
       "        text-align: right;\n",
       "    }\n",
       "</style>\n",
       "<table border=\"1\" class=\"dataframe\">\n",
       "  <thead>\n",
       "    <tr style=\"text-align: right;\">\n",
       "      <th></th>\n",
       "      <th>eventId</th>\n",
       "      <th>subEventName</th>\n",
       "      <th>tags</th>\n",
       "      <th>playerId</th>\n",
       "      <th>positions</th>\n",
       "      <th>matchId</th>\n",
       "      <th>eventName</th>\n",
       "      <th>teamId</th>\n",
       "      <th>matchPeriod</th>\n",
       "      <th>eventSec</th>\n",
       "      <th>...</th>\n",
       "      <th>x</th>\n",
       "      <th>y</th>\n",
       "      <th>firstName</th>\n",
       "      <th>lastName</th>\n",
       "      <th>height</th>\n",
       "      <th>weight</th>\n",
       "      <th>shortName</th>\n",
       "      <th>foot</th>\n",
       "      <th>wyId</th>\n",
       "      <th>position</th>\n",
       "    </tr>\n",
       "  </thead>\n",
       "  <tbody>\n",
       "    <tr>\n",
       "      <th>0</th>\n",
       "      <td>10</td>\n",
       "      <td>Shot</td>\n",
       "      <td>[{'id': 101}, {'id': 402}, {'id': 201}, {'id':...</td>\n",
       "      <td>25413</td>\n",
       "      <td>[{'y': 41, 'x': 88}, {'y': 0, 'x': 0}]</td>\n",
       "      <td>2499719</td>\n",
       "      <td>Shot</td>\n",
       "      <td>1609</td>\n",
       "      <td>1H</td>\n",
       "      <td>94.595788</td>\n",
       "      <td>...</td>\n",
       "      <td>88</td>\n",
       "      <td>41</td>\n",
       "      <td>Alexandre</td>\n",
       "      <td>Lacazette</td>\n",
       "      <td>175</td>\n",
       "      <td>73</td>\n",
       "      <td>A. Lacazette</td>\n",
       "      <td>right</td>\n",
       "      <td>25413</td>\n",
       "      <td>Forward</td>\n",
       "    </tr>\n",
       "    <tr>\n",
       "      <th>1</th>\n",
       "      <td>10</td>\n",
       "      <td>Shot</td>\n",
       "      <td>[{'id': 402}, {'id': 2101}, {'id': 1802}]</td>\n",
       "      <td>25413</td>\n",
       "      <td>[{'y': 48, 'x': 87}, {'y': 0, 'x': 0}]</td>\n",
       "      <td>2499719</td>\n",
       "      <td>Shot</td>\n",
       "      <td>1609</td>\n",
       "      <td>1H</td>\n",
       "      <td>2813.844402</td>\n",
       "      <td>...</td>\n",
       "      <td>87</td>\n",
       "      <td>48</td>\n",
       "      <td>Alexandre</td>\n",
       "      <td>Lacazette</td>\n",
       "      <td>175</td>\n",
       "      <td>73</td>\n",
       "      <td>A. Lacazette</td>\n",
       "      <td>right</td>\n",
       "      <td>25413</td>\n",
       "      <td>Forward</td>\n",
       "    </tr>\n",
       "    <tr>\n",
       "      <th>2</th>\n",
       "      <td>10</td>\n",
       "      <td>Shot</td>\n",
       "      <td>[{'id': 401}, {'id': 201}, {'id': 1207}, {'id'...</td>\n",
       "      <td>25413</td>\n",
       "      <td>[{'y': 34, 'x': 90}, {'y': 0, 'x': 0}]</td>\n",
       "      <td>2499719</td>\n",
       "      <td>Shot</td>\n",
       "      <td>1609</td>\n",
       "      <td>2H</td>\n",
       "      <td>2354.807116</td>\n",
       "      <td>...</td>\n",
       "      <td>90</td>\n",
       "      <td>34</td>\n",
       "      <td>Alexandre</td>\n",
       "      <td>Lacazette</td>\n",
       "      <td>175</td>\n",
       "      <td>73</td>\n",
       "      <td>A. Lacazette</td>\n",
       "      <td>right</td>\n",
       "      <td>25413</td>\n",
       "      <td>Forward</td>\n",
       "    </tr>\n",
       "    <tr>\n",
       "      <th>3</th>\n",
       "      <td>10</td>\n",
       "      <td>Shot</td>\n",
       "      <td>[{'id': 402}, {'id': 201}, {'id': 1212}, {'id'...</td>\n",
       "      <td>25413</td>\n",
       "      <td>[{'y': 33, 'x': 90}, {'y': 100, 'x': 100}]</td>\n",
       "      <td>2499743</td>\n",
       "      <td>Shot</td>\n",
       "      <td>1609</td>\n",
       "      <td>2H</td>\n",
       "      <td>1404.650587</td>\n",
       "      <td>...</td>\n",
       "      <td>90</td>\n",
       "      <td>33</td>\n",
       "      <td>Alexandre</td>\n",
       "      <td>Lacazette</td>\n",
       "      <td>175</td>\n",
       "      <td>73</td>\n",
       "      <td>A. Lacazette</td>\n",
       "      <td>right</td>\n",
       "      <td>25413</td>\n",
       "      <td>Forward</td>\n",
       "    </tr>\n",
       "    <tr>\n",
       "      <th>4</th>\n",
       "      <td>10</td>\n",
       "      <td>Shot</td>\n",
       "      <td>[{'id': 101}, {'id': 402}, {'id': 201}, {'id':...</td>\n",
       "      <td>25413</td>\n",
       "      <td>[{'y': 58, 'x': 82}, {'y': 0, 'x': 0}]</td>\n",
       "      <td>2499749</td>\n",
       "      <td>Shot</td>\n",
       "      <td>1609</td>\n",
       "      <td>1H</td>\n",
       "      <td>1616.714627</td>\n",
       "      <td>...</td>\n",
       "      <td>82</td>\n",
       "      <td>58</td>\n",
       "      <td>Alexandre</td>\n",
       "      <td>Lacazette</td>\n",
       "      <td>175</td>\n",
       "      <td>73</td>\n",
       "      <td>A. Lacazette</td>\n",
       "      <td>right</td>\n",
       "      <td>25413</td>\n",
       "      <td>Forward</td>\n",
       "    </tr>\n",
       "    <tr>\n",
       "      <th>...</th>\n",
       "      <td>...</td>\n",
       "      <td>...</td>\n",
       "      <td>...</td>\n",
       "      <td>...</td>\n",
       "      <td>...</td>\n",
       "      <td>...</td>\n",
       "      <td>...</td>\n",
       "      <td>...</td>\n",
       "      <td>...</td>\n",
       "      <td>...</td>\n",
       "      <td>...</td>\n",
       "      <td>...</td>\n",
       "      <td>...</td>\n",
       "      <td>...</td>\n",
       "      <td>...</td>\n",
       "      <td>...</td>\n",
       "      <td>...</td>\n",
       "      <td>...</td>\n",
       "      <td>...</td>\n",
       "      <td>...</td>\n",
       "      <td>...</td>\n",
       "    </tr>\n",
       "    <tr>\n",
       "      <th>36172</th>\n",
       "      <td>10</td>\n",
       "      <td>Shot</td>\n",
       "      <td>[{'id': 402}, {'id': 201}, {'id': 1216}, {'id'...</td>\n",
       "      <td>209091</td>\n",
       "      <td>[{'y': 41, 'x': 80}, {'y': 100, 'x': 100}]</td>\n",
       "      <td>2058010</td>\n",
       "      <td>Shot</td>\n",
       "      <td>4418</td>\n",
       "      <td>2H</td>\n",
       "      <td>1637.488113</td>\n",
       "      <td>...</td>\n",
       "      <td>80</td>\n",
       "      <td>41</td>\n",
       "      <td>Corentin</td>\n",
       "      <td>Tolisso</td>\n",
       "      <td>181</td>\n",
       "      <td>78</td>\n",
       "      <td>C. Tolisso</td>\n",
       "      <td>right</td>\n",
       "      <td>209091</td>\n",
       "      <td>Midfielder</td>\n",
       "    </tr>\n",
       "    <tr>\n",
       "      <th>36173</th>\n",
       "      <td>10</td>\n",
       "      <td>Shot</td>\n",
       "      <td>[{'id': 401}, {'id': 201}, {'id': 1202}, {'id'...</td>\n",
       "      <td>209091</td>\n",
       "      <td>[{'y': 35, 'x': 87}, {'y': 0, 'x': 0}]</td>\n",
       "      <td>2058014</td>\n",
       "      <td>Shot</td>\n",
       "      <td>4418</td>\n",
       "      <td>2H</td>\n",
       "      <td>3016.680937</td>\n",
       "      <td>...</td>\n",
       "      <td>87</td>\n",
       "      <td>35</td>\n",
       "      <td>Corentin</td>\n",
       "      <td>Tolisso</td>\n",
       "      <td>181</td>\n",
       "      <td>78</td>\n",
       "      <td>C. Tolisso</td>\n",
       "      <td>right</td>\n",
       "      <td>209091</td>\n",
       "      <td>Midfielder</td>\n",
       "    </tr>\n",
       "    <tr>\n",
       "      <th>36174</th>\n",
       "      <td>10</td>\n",
       "      <td>Shot</td>\n",
       "      <td>[{'id': 403}, {'id': 201}, {'id': 1215}, {'id'...</td>\n",
       "      <td>101953</td>\n",
       "      <td>[{'y': 57, 'x': 92}, {'y': 0, 'x': 0}]</td>\n",
       "      <td>2058012</td>\n",
       "      <td>Shot</td>\n",
       "      <td>14358</td>\n",
       "      <td>2H</td>\n",
       "      <td>1590.119521</td>\n",
       "      <td>...</td>\n",
       "      <td>92</td>\n",
       "      <td>57</td>\n",
       "      <td>Aleksandr</td>\n",
       "      <td>Erokhin</td>\n",
       "      <td>195</td>\n",
       "      <td>79</td>\n",
       "      <td>A. Erokhin</td>\n",
       "      <td>right</td>\n",
       "      <td>101953</td>\n",
       "      <td>Midfielder</td>\n",
       "    </tr>\n",
       "    <tr>\n",
       "      <th>36175</th>\n",
       "      <td>10</td>\n",
       "      <td>Shot</td>\n",
       "      <td>[{'id': 403}, {'id': 201}, {'id': 1213}, {'id'...</td>\n",
       "      <td>101953</td>\n",
       "      <td>[{'y': 39, 'x': 94}, {'y': 0, 'x': 0}]</td>\n",
       "      <td>2058012</td>\n",
       "      <td>Shot</td>\n",
       "      <td>14358</td>\n",
       "      <td>E1</td>\n",
       "      <td>844.590203</td>\n",
       "      <td>...</td>\n",
       "      <td>94</td>\n",
       "      <td>39</td>\n",
       "      <td>Aleksandr</td>\n",
       "      <td>Erokhin</td>\n",
       "      <td>195</td>\n",
       "      <td>79</td>\n",
       "      <td>A. Erokhin</td>\n",
       "      <td>right</td>\n",
       "      <td>101953</td>\n",
       "      <td>Midfielder</td>\n",
       "    </tr>\n",
       "    <tr>\n",
       "      <th>36176</th>\n",
       "      <td>10</td>\n",
       "      <td>Shot</td>\n",
       "      <td>[{'id': 101}, {'id': 403}, {'id': 201}, {'id':...</td>\n",
       "      <td>41123</td>\n",
       "      <td>[{'y': 55, 'x': 92}, {'y': 0, 'x': 0}]</td>\n",
       "      <td>2058012</td>\n",
       "      <td>Shot</td>\n",
       "      <td>14358</td>\n",
       "      <td>E2</td>\n",
       "      <td>554.377171</td>\n",
       "      <td>...</td>\n",
       "      <td>92</td>\n",
       "      <td>55</td>\n",
       "      <td>M\\u00e1rio Figueira</td>\n",
       "      <td>Fernandes</td>\n",
       "      <td>187</td>\n",
       "      <td>80</td>\n",
       "      <td>M\\u00e1rio Fernandes</td>\n",
       "      <td>right</td>\n",
       "      <td>41123</td>\n",
       "      <td>Defender</td>\n",
       "    </tr>\n",
       "  </tbody>\n",
       "</table>\n",
       "<p>36177 rows × 22 columns</p>\n",
       "</div>"
      ],
      "text/plain": [
       "       eventId subEventName  \\\n",
       "0           10         Shot   \n",
       "1           10         Shot   \n",
       "2           10         Shot   \n",
       "3           10         Shot   \n",
       "4           10         Shot   \n",
       "...        ...          ...   \n",
       "36172       10         Shot   \n",
       "36173       10         Shot   \n",
       "36174       10         Shot   \n",
       "36175       10         Shot   \n",
       "36176       10         Shot   \n",
       "\n",
       "                                                    tags  playerId  \\\n",
       "0      [{'id': 101}, {'id': 402}, {'id': 201}, {'id':...     25413   \n",
       "1              [{'id': 402}, {'id': 2101}, {'id': 1802}]     25413   \n",
       "2      [{'id': 401}, {'id': 201}, {'id': 1207}, {'id'...     25413   \n",
       "3      [{'id': 402}, {'id': 201}, {'id': 1212}, {'id'...     25413   \n",
       "4      [{'id': 101}, {'id': 402}, {'id': 201}, {'id':...     25413   \n",
       "...                                                  ...       ...   \n",
       "36172  [{'id': 402}, {'id': 201}, {'id': 1216}, {'id'...    209091   \n",
       "36173  [{'id': 401}, {'id': 201}, {'id': 1202}, {'id'...    209091   \n",
       "36174  [{'id': 403}, {'id': 201}, {'id': 1215}, {'id'...    101953   \n",
       "36175  [{'id': 403}, {'id': 201}, {'id': 1213}, {'id'...    101953   \n",
       "36176  [{'id': 101}, {'id': 403}, {'id': 201}, {'id':...     41123   \n",
       "\n",
       "                                        positions  matchId eventName  teamId  \\\n",
       "0          [{'y': 41, 'x': 88}, {'y': 0, 'x': 0}]  2499719      Shot    1609   \n",
       "1          [{'y': 48, 'x': 87}, {'y': 0, 'x': 0}]  2499719      Shot    1609   \n",
       "2          [{'y': 34, 'x': 90}, {'y': 0, 'x': 0}]  2499719      Shot    1609   \n",
       "3      [{'y': 33, 'x': 90}, {'y': 100, 'x': 100}]  2499743      Shot    1609   \n",
       "4          [{'y': 58, 'x': 82}, {'y': 0, 'x': 0}]  2499749      Shot    1609   \n",
       "...                                           ...      ...       ...     ...   \n",
       "36172  [{'y': 41, 'x': 80}, {'y': 100, 'x': 100}]  2058010      Shot    4418   \n",
       "36173      [{'y': 35, 'x': 87}, {'y': 0, 'x': 0}]  2058014      Shot    4418   \n",
       "36174      [{'y': 57, 'x': 92}, {'y': 0, 'x': 0}]  2058012      Shot   14358   \n",
       "36175      [{'y': 39, 'x': 94}, {'y': 0, 'x': 0}]  2058012      Shot   14358   \n",
       "36176      [{'y': 55, 'x': 92}, {'y': 0, 'x': 0}]  2058012      Shot   14358   \n",
       "\n",
       "      matchPeriod     eventSec  ...   x   y            firstName   lastName  \\\n",
       "0              1H    94.595788  ...  88  41            Alexandre  Lacazette   \n",
       "1              1H  2813.844402  ...  87  48            Alexandre  Lacazette   \n",
       "2              2H  2354.807116  ...  90  34            Alexandre  Lacazette   \n",
       "3              2H  1404.650587  ...  90  33            Alexandre  Lacazette   \n",
       "4              1H  1616.714627  ...  82  58            Alexandre  Lacazette   \n",
       "...           ...          ...  ...  ..  ..                  ...        ...   \n",
       "36172          2H  1637.488113  ...  80  41             Corentin    Tolisso   \n",
       "36173          2H  3016.680937  ...  87  35             Corentin    Tolisso   \n",
       "36174          2H  1590.119521  ...  92  57            Aleksandr    Erokhin   \n",
       "36175          E1   844.590203  ...  94  39            Aleksandr    Erokhin   \n",
       "36176          E2   554.377171  ...  92  55  M\\u00e1rio Figueira  Fernandes   \n",
       "\n",
       "      height weight             shortName   foot    wyId    position  \n",
       "0        175     73          A. Lacazette  right   25413     Forward  \n",
       "1        175     73          A. Lacazette  right   25413     Forward  \n",
       "2        175     73          A. Lacazette  right   25413     Forward  \n",
       "3        175     73          A. Lacazette  right   25413     Forward  \n",
       "4        175     73          A. Lacazette  right   25413     Forward  \n",
       "...      ...    ...                   ...    ...     ...         ...  \n",
       "36172    181     78            C. Tolisso  right  209091  Midfielder  \n",
       "36173    181     78            C. Tolisso  right  209091  Midfielder  \n",
       "36174    195     79            A. Erokhin  right  101953  Midfielder  \n",
       "36175    195     79            A. Erokhin  right  101953  Midfielder  \n",
       "36176    187     80  M\\u00e1rio Fernandes  right   41123    Defender  \n",
       "\n",
       "[36177 rows x 22 columns]"
      ]
     },
     "execution_count": 7,
     "metadata": {},
     "output_type": "execute_result"
    }
   ],
   "source": [
    "playersprac = players[['firstName', 'lastName', 'height', 'weight', 'shortName', 'foot', 'wyId', 'position']]\n",
    "shots = pd.merge(shots, playersprac, left_on = 'playerId', right_on = 'wyId')\n",
    "shots"
   ]
  },
  {
   "cell_type": "code",
   "execution_count": 8,
   "id": "7e5d4f84",
   "metadata": {
    "scrolled": false
   },
   "outputs": [],
   "source": [
    "shots = shots[shots['position'] != 'Goalkeeper']"
   ]
  },
  {
   "cell_type": "code",
   "execution_count": null,
   "id": "0ecbd461",
   "metadata": {},
   "outputs": [],
   "source": [
    "all_matches['Both_Teams'] = [tuple(x.keys()) for x in all_matches['teamsData']]\n",
    "\n",
    "all_matches['Team1'] = [x[0] for x in all_matches['Both_Teams']]\n",
    "all_matches['Team2'] = [x[1] for x in all_matches['Both_Teams']]\n",
    "\n",
    "shots = pd.merge(shots, all_matches, left_on = 'matchId', right_on = 'wyId')"
   ]
  },
  {
   "cell_type": "code",
   "execution_count": null,
   "id": "a10be91f",
   "metadata": {},
   "outputs": [],
   "source": [
    "#len(shots[~shots['venue'].isin(stadiums['Stadium'].unique())])\n",
    "#To add in Default stadium length of 105*68 for those lost in the merge\n",
    "#Need to make sure it reads Stadia with an accent correctly\n",
    "#shots['venue_2'] = ['Default' if x not in stadiums['Stadium'].unique() else x for x in shots['venue']]"
   ]
  },
  {
   "cell_type": "code",
   "execution_count": null,
   "id": "29c99cab",
   "metadata": {
    "scrolled": true
   },
   "outputs": [],
   "source": [
    "shots = pd.merge(shots, stadiums, left_on = 'venue', right_on = 'Stadium')\n",
    "shots"
   ]
  },
  {
   "cell_type": "code",
   "execution_count": null,
   "id": "8fa9ebf8",
   "metadata": {},
   "outputs": [],
   "source": [
    "#probably change this variable to distance_perc\n",
    "shots['distancenoadj'] = np.sqrt(np.power(shots[\"x\"] - 100, 2) + np.power(shots[\"y\"] - 50, 2))\n",
    "#probably change this variable to distance_m\n",
    "shots['adjusteddistance'] = np.sqrt(np.power((0.01*shots[\"x\"]*shots[\"Length\"]) \n",
    "                                                  - shots[\"Length\"], 2) + \n",
    "                                         np.power((0.01*shots[\"y\"]*shots[\"Width\"]) \n",
    "                                                  - (0.5*shots[\"Width\"]), 2))"
   ]
  },
  {
   "cell_type": "code",
   "execution_count": 9,
   "id": "1cb0b7bc",
   "metadata": {
    "scrolled": false
   },
   "outputs": [
    {
     "name": "stderr",
     "output_type": "stream",
     "text": [
      "<ipython-input-9-8065e7bd3c59>:7: SettingWithCopyWarning: \n",
      "A value is trying to be set on a copy of a slice from a DataFrame.\n",
      "Try using .loc[row_indexer,col_indexer] = value instead\n",
      "\n",
      "See the caveats in the documentation: https://pandas.pydata.org/pandas-docs/stable/user_guide/indexing.html#returning-a-view-versus-a-copy\n",
      "  shots['tagvals'] = tagvalscol\n"
     ]
    }
   ],
   "source": [
    "tagvalscol = []\n",
    "for x in shots['tags']:\n",
    "    tagvals = []\n",
    "    for i in range(len(x)):\n",
    "        tagvals.append(x[i]['id'])\n",
    "    tagvalscol.append(tagvals)\n",
    "shots['tagvals'] = tagvalscol"
   ]
  },
  {
   "cell_type": "code",
   "execution_count": 12,
   "id": "26c86eb6",
   "metadata": {},
   "outputs": [
    {
     "name": "stderr",
     "output_type": "stream",
     "text": [
      "<ipython-input-12-10aa6d188ce7>:1: SettingWithCopyWarning: \n",
      "A value is trying to be set on a copy of a slice from a DataFrame.\n",
      "Try using .loc[row_indexer,col_indexer] = value instead\n",
      "\n",
      "See the caveats in the documentation: https://pandas.pydata.org/pandas-docs/stable/user_guide/indexing.html#returning-a-view-versus-a-copy\n",
      "  shots['goal'] = [1 if 101 in x else 0 for x in shots['tagvals']]\n"
     ]
    }
   ],
   "source": [
    "shots['goal'] = [1 if 101 in x else 0 for x in shots['tagvals']]"
   ]
  },
  {
   "cell_type": "code",
   "execution_count": null,
   "id": "82f66539",
   "metadata": {},
   "outputs": [],
   "source": [
    "shots.hist('goal')"
   ]
  },
  {
   "cell_type": "code",
   "execution_count": null,
   "id": "784b5b6b",
   "metadata": {},
   "outputs": [],
   "source": [
    "df_corr = shots.corr()\n",
    "plt.figure(figsize=(24, 24))\n",
    "\n",
    "sns.heatmap(df_corr, \n",
    "            cmap='viridis', vmax=1.0, vmin=-1.0, linewidths=0.1,\n",
    "            annot=True, annot_kws={\"size\": 8}, square=True);"
   ]
  },
  {
   "cell_type": "code",
   "execution_count": null,
   "id": "c3f57f8d",
   "metadata": {},
   "outputs": [],
   "source": [
    "shots['foot_shot'] = ['right' if 402 in x else 'left' if 401 in x else 'head/body' for x in shots['tagvals']]"
   ]
  },
  {
   "cell_type": "code",
   "execution_count": null,
   "id": "d4e6276e",
   "metadata": {},
   "outputs": [],
   "source": [
    "#procedure for creating dummy variables is the same as in the below column, can actually add it into the same for loop\n",
    "#that being said, would there be an issue for adding in only two observations with goalkeeper shots where one is a\n",
    "#goal? Might the algorithm think its extremely likely for goalkeepers to score when they're shooting when in fact this\n",
    "#is just because of how few observations we have of goalkeepers shooting? Because of course we assume Forwards are\n",
    "#most likely to score. But also, is this largely just because they shoot from the most advanced positions, at least\n",
    "#from the view of the dataset?\n",
    "positions = ['Forward', 'Midfielder', 'Defender']\n",
    "for pos in positions:\n",
    "    pos_shots = shots[shots['position'] == pos]\n",
    "    goalsfrompos = pos_shots[pos_shots['goal'] == 1]\n",
    "    perc_goals = len(goalsfrompos)/len(pos_shots)\n",
    "    print('The percentage of successful shots from the', pos, 'position in this database is: ', perc_goals)"
   ]
  },
  {
   "cell_type": "code",
   "execution_count": null,
   "id": "fd7ba727",
   "metadata": {},
   "outputs": [],
   "source": [
    "#1 means the player shot with their strong foot, 0 means they shot with their weak foot or\n",
    "#with their head/body\n",
    "strong_foot = []\n",
    "header = []\n",
    "for idx, row in shots.iterrows():\n",
    "    if row['foot_shot'] == row['foot']:\n",
    "        strong_foot.append(1)\n",
    "    else:\n",
    "        strong_foot.append(0)\n",
    "    if row['foot_shot'] == 'head/body':\n",
    "        header.append(1)\n",
    "    else:\n",
    "        header.append(0)"
   ]
  },
  {
   "cell_type": "code",
   "execution_count": null,
   "id": "21e52f52",
   "metadata": {},
   "outputs": [],
   "source": [
    "forward = []\n",
    "midfielder = []\n",
    "defender = []\n",
    "for idx, row in shots.iterrows():\n",
    "    if row['position'] == 'Forward':\n",
    "        forward.append(1)\n",
    "        midfielder.append(0)\n",
    "        defender.append(0)\n",
    "    elif row['position'] == 'Midfielder':\n",
    "        forward.append(0)\n",
    "        midfielder.append(1)\n",
    "        defender.append(0)\n",
    "    else:\n",
    "        forward.append(0)\n",
    "        midfielder.append(0)\n",
    "        defender.append(1)"
   ]
  },
  {
   "cell_type": "code",
   "execution_count": null,
   "id": "debe2f58",
   "metadata": {},
   "outputs": [],
   "source": [
    "shots['F'] = forward\n",
    "shots['MF'] = midfielder\n",
    "shots['DEF'] = defender"
   ]
  },
  {
   "cell_type": "code",
   "execution_count": null,
   "id": "9d24b419",
   "metadata": {},
   "outputs": [],
   "source": [
    "shots['strong_foot'] = strong_foot\n",
    "shots['header'] = header"
   ]
  },
  {
   "cell_type": "code",
   "execution_count": null,
   "id": "4f5b0c19",
   "metadata": {},
   "outputs": [],
   "source": [
    "#Add 45*60 seconds to every event in the second half, as eventSec tracks the number of seconds since\n",
    "#the start of the current half\n",
    "eventTime = []\n",
    "for idx, row in shots.iterrows():\n",
    "    if row['matchPeriod'] == '2H':\n",
    "        eventTime.append(row['eventSec'] + (45*60))\n",
    "    else:\n",
    "        eventTime.append(row['eventSec'])"
   ]
  },
  {
   "cell_type": "code",
   "execution_count": null,
   "id": "4ffa5cee",
   "metadata": {},
   "outputs": [],
   "source": [
    "shots['eventTime'] = eventTime"
   ]
  },
  {
   "cell_type": "code",
   "execution_count": null,
   "id": "c8b691b1",
   "metadata": {},
   "outputs": [],
   "source": [
    "#add a column for the shot angle\n",
    "#Looked at a few stadiums in Italy and they all had dimensions of 105*68m\n",
    "angles = []\n",
    "for idx, row in shots.iterrows():\n",
    "    #If shooting from touchline, angle will be zero\n",
    "    #continue to avoid divide by zero errors\n",
    "    if row['x'] == 100:\n",
    "        angles.append(0)\n",
    "        continue\n",
    "    #moving everything to left side of the field to make calculation easier\n",
    "    if row['y'] > 50:\n",
    "        mirror = 100 - row['y']\n",
    "    else:\n",
    "        mirror = row['y']\n",
    "    #following four lines attempt to adjust to the actual field width and get \n",
    "    #more accurate positioning of the goal posts. e.g. Previously had right goal post at \n",
    "    #53.6 as opposed to most often at 54.64 which implicitly assumed width was 100 (which\n",
    "    # is never the case). Thus, divide width by goal length to get percentage of field it takes up\n",
    "    #and add half that percentage evenly to either side of 50\n",
    "    goal_perc = (7.32/row['Width'])*100\n",
    "    increment = goal_perc/2\n",
    "    left_post = 50 - increment\n",
    "    right_post = 50 + increment\n",
    "    dist_a = ((row['x'] - 100)**(2))**(1/2)\n",
    "    dist_b = ((mirror - right_post)**2)**(1/2)\n",
    "    dist_c = ((mirror - left_post)**2)**(1/2)\n",
    "    theta = np.arctan(dist_b/dist_a)*(180/math.pi)\n",
    "    phi = np.arctan(dist_c/dist_a)*(180/math.pi)\n",
    "    #Different cases for between the goalposts vs. to the left of a goalpost\n",
    "    if mirror < left_post:\n",
    "        angles.append(theta - phi)\n",
    "    else:\n",
    "        angles.append(theta + phi)\n",
    "shots['angle'] = angles"
   ]
  },
  {
   "cell_type": "code",
   "execution_count": null,
   "id": "aa0b8345",
   "metadata": {},
   "outputs": [],
   "source": [
    "shots[['x', 'y', 'angle']]"
   ]
  },
  {
   "cell_type": "code",
   "execution_count": null,
   "id": "47b9a6c4",
   "metadata": {},
   "outputs": [],
   "source": [
    "y = shots['goal']\n",
    "#weakfoot is base case for what foot the shot is, defender is base case for position group\n",
    "X = shots[['eventTime', 'adjusteddistance', 'angle', 'strong_foot', 'header']]"
   ]
  },
  {
   "cell_type": "code",
   "execution_count": null,
   "id": "21266da9",
   "metadata": {},
   "outputs": [],
   "source": [
    "scaler = StandardScaler()\n",
    "X = scaler.fit_transform(X)"
   ]
  },
  {
   "cell_type": "code",
   "execution_count": null,
   "id": "6ef774dd",
   "metadata": {},
   "outputs": [],
   "source": [
    "#should split before oversampling\n",
    "X_train, X_test, y_train, y_test = train_test_split(X, y, test_size = 0.25, random_state = 0)"
   ]
  },
  {
   "cell_type": "code",
   "execution_count": null,
   "id": "61c42366",
   "metadata": {},
   "outputs": [],
   "source": [
    "# transform the dataset\n",
    "oversample = imb.SMOTE(sampling_strategy = (1/2))\n",
    "X_over, y_over = oversample.fit_resample(X_train, y_train)"
   ]
  },
  {
   "cell_type": "code",
   "execution_count": null,
   "id": "5095879d",
   "metadata": {},
   "outputs": [],
   "source": [
    "#naive oversampling\n",
    "oversample2 = imb.RandomOverSampler(sampling_strategy=0.5)\n",
    "X_over2, y_over2 = oversample2.fit_resample(X, y)"
   ]
  },
  {
   "cell_type": "code",
   "execution_count": null,
   "id": "482a9857",
   "metadata": {},
   "outputs": [],
   "source": [
    "len(y_over2[y_over2 == 1])/len(y_over2)"
   ]
  },
  {
   "cell_type": "code",
   "execution_count": null,
   "id": "e59f9ceb",
   "metadata": {},
   "outputs": [],
   "source": [
    "len(y_over[y_over == 1])/len(y_over)"
   ]
  },
  {
   "cell_type": "code",
   "execution_count": null,
   "id": "414902ad",
   "metadata": {},
   "outputs": [],
   "source": [
    "#Model fitted on untransformed dataset with apparently very low predictive power\n",
    "xGmodel2 = LogisticRegression(random_state = 0).fit(X_train, y_train)\n",
    "xGmodel2.coef_"
   ]
  },
  {
   "cell_type": "code",
   "execution_count": null,
   "id": "bd453233",
   "metadata": {},
   "outputs": [],
   "source": [
    "#This is the model fitted on the transformed dataset\n",
    "xGmodel = LogisticRegression(random_state=0).fit(X_over, y_over)"
   ]
  },
  {
   "cell_type": "code",
   "execution_count": null,
   "id": "5884aba8",
   "metadata": {},
   "outputs": [],
   "source": [
    "#see if I can use one of their earlier versions of the code to see how the coefficients have changed\n",
    "#angle effect is much smaller by now\n",
    "print(xGmodel.coef_)"
   ]
  },
  {
   "cell_type": "code",
   "execution_count": null,
   "id": "c9741aaa",
   "metadata": {},
   "outputs": [],
   "source": [
    "y_pred_train = xGmodel.predict(X_train)\n",
    "y_pred_test = xGmodel.predict(X_test)"
   ]
  },
  {
   "cell_type": "code",
   "execution_count": null,
   "id": "47bfd3b3",
   "metadata": {},
   "outputs": [],
   "source": [
    "print(len(y_pred_test))\n",
    "print(len(y_pred_test[y_pred_test == 1]))"
   ]
  },
  {
   "cell_type": "code",
   "execution_count": null,
   "id": "cf1d2269",
   "metadata": {
    "scrolled": true
   },
   "outputs": [],
   "source": [
    "goalprobs = [x[1] for x in xGmodel.predict_proba(X_test)]\n",
    "goalprobs = np.asarray(goalprobs)\n",
    "len(goalprobs[goalprobs > 0.5])\n",
    "#Classification such that if the model spits out a probability of scoring greater than 0.5, will be a goal"
   ]
  },
  {
   "cell_type": "code",
   "execution_count": null,
   "id": "ffa1f2bd",
   "metadata": {},
   "outputs": [],
   "source": [
    "print('Accuracy of logistic regression classifier on training set: {:.2f}'.format(xGmodel.score(X_train, y_train)))\n",
    "print('Accuracy of logistic regression classifier on test set: {:.2f}'.format(xGmodel.score(X_test, y_test)))"
   ]
  },
  {
   "cell_type": "code",
   "execution_count": null,
   "id": "22563ee7",
   "metadata": {},
   "outputs": [],
   "source": [
    "from sklearn.metrics import confusion_matrix\n",
    "confusion_matrix = confusion_matrix(y_test, y_pred_test)\n",
    "print(confusion_matrix)"
   ]
  },
  {
   "cell_type": "code",
   "execution_count": null,
   "id": "2599154d",
   "metadata": {},
   "outputs": [],
   "source": [
    "#Reason for this confusion matrix--high accuracy but low recall and f1-score\n",
    "num_goals = len(shots[shots['goal'] == 1])\n",
    "num_misses = len(shots[shots['goal'] == 0])\n",
    "perc_goals = num_goals/len(shots)\n",
    "perc_misses = num_misses/len(shots)\n",
    "print('Percentage of goals is: ', perc_goals)\n",
    "print('Number of goals is', num_goals, ', number of misses is', num_misses)\n",
    "#Attempt to use SMOTE and undersampling to rectify this\n",
    "#SMOTE rather than normal oversampling"
   ]
  },
  {
   "cell_type": "code",
   "execution_count": null,
   "id": "b4e2c8f8",
   "metadata": {
    "scrolled": true
   },
   "outputs": [],
   "source": [
    "from sklearn.metrics import classification_report\n",
    "print(classification_report(y_test, y_pred_test))"
   ]
  },
  {
   "cell_type": "code",
   "execution_count": null,
   "id": "3da2e807",
   "metadata": {
    "scrolled": true
   },
   "outputs": [],
   "source": [
    "from sklearn.metrics import roc_auc_score\n",
    "from sklearn.metrics import roc_curve\n",
    "logit_roc_auc = roc_auc_score(y_test, xGmodel.predict(X_test))\n",
    "fpr, tpr, thresholds = roc_curve(y_test, xGmodel.predict_proba(X_test)[:,1])\n",
    "plt.figure()\n",
    "plt.plot(fpr, tpr, label='Logistic Regression (area = %0.2f)' % logit_roc_auc)\n",
    "plt.plot([0, 1], [0, 1],'r--')\n",
    "plt.xlim([0.0, 1.0])\n",
    "plt.ylim([0.0, 1.05])\n",
    "plt.xlabel('False Positive Rate')\n",
    "plt.ylabel('True Positive Rate')\n",
    "plt.title('Receiver operating characteristic')\n",
    "plt.legend(loc=\"lower right\")\n",
    "plt.savefig('Log_ROC')\n",
    "plt.show()"
   ]
  },
  {
   "cell_type": "code",
   "execution_count": null,
   "id": "69cbadc5",
   "metadata": {},
   "outputs": [],
   "source": [
    "#website for us to compare xG results with: https://understat.com/league/EPL/2017"
   ]
  },
  {
   "cell_type": "code",
   "execution_count": null,
   "id": "a48883df",
   "metadata": {},
   "outputs": [],
   "source": [
    "clf = RandomForestClassifier(random_state=0, oob_score = True, max_depth = 5, n_estimators = 500)\n",
    "clf.fit(X_over, y_over)"
   ]
  },
  {
   "cell_type": "code",
   "execution_count": null,
   "id": "2e7b8f50",
   "metadata": {},
   "outputs": [],
   "source": [
    "y_pred_forest_train = clf.predict(X_train)\n",
    "y_pred_forest_test = clf.predict(X_test)"
   ]
  },
  {
   "cell_type": "code",
   "execution_count": null,
   "id": "06d5421d",
   "metadata": {},
   "outputs": [],
   "source": [
    "#X = shots[['eventTime', 'adjusteddistance', 'angle','strong_foot', 'header']]\n",
    "clf.feature_importances_"
   ]
  },
  {
   "cell_type": "code",
   "execution_count": null,
   "id": "c135166a",
   "metadata": {},
   "outputs": [],
   "source": [
    "print('Accuracy of random forest classifier on training set: {:.2f}'.format(clf.score(X_train, y_train)))\n",
    "print('Accuracy of random forest classifier on test set: {:.2f}'.format(clf.score(X_test, y_test)))\n",
    "print('OOB score of random forest classifier on training set: {:.2f}'.format(clf.oob_score_))\n",
    "print('OOB score of random forest classifier on test set: {:.2f}'.format(clf.oob_score_))"
   ]
  },
  {
   "cell_type": "code",
   "execution_count": null,
   "id": "0fb126a9",
   "metadata": {},
   "outputs": [],
   "source": [
    "print(classification_report(y_test, y_pred_forest_test))"
   ]
  },
  {
   "cell_type": "code",
   "execution_count": null,
   "id": "1e12398e",
   "metadata": {},
   "outputs": [],
   "source": [
    "#can give the probability any shot ends up in a goal for our dataset as the predicted probability of a 1\n",
    "#instance\n",
    "shots['xGSMOTE'] = [x[1] for x in xGmodel.predict_proba(X)]\n",
    "shots['xGnonSMOTE'] = [x[1] for x in xGmodel2.predict_proba(X)]"
   ]
  },
  {
   "cell_type": "code",
   "execution_count": null,
   "id": "c4aba675",
   "metadata": {},
   "outputs": [],
   "source": [
    "#This says Arsenal's xG for the season is around 164 which is basically double what it actually was\n",
    "#Our model is grossly overpredicting when using SMOTE\n",
    "#The sum of xG seems to make a lot more sense without SMOTE, especially when taking into account that there seems\n",
    "#to be missing values in the dataset\n",
    "print(sum(shots[shots['teamId'] == 1609]['xGSMOTE']))\n",
    "print(sum(shots[shots['teamId'] == 1609]['xGnonSMOTE']))"
   ]
  },
  {
   "cell_type": "code",
   "execution_count": null,
   "id": "798b28fc",
   "metadata": {},
   "outputs": [],
   "source": [
    "#It seems that we are missing some goals for Arsenal, as they actually scored 74 goals in this season\n",
    "#But I really think I parsed the tags correctly??\n",
    "#They must have been merged out when we lost all of that data with the stadium names, although that doesnt make too\n",
    "#much sense because there are still 38 games present for Arsenal\n",
    "#In order for this analysis I should also merge the teams dataset\n",
    "#I genuinely think its just missing some data points, which is really too bad\n",
    "Arsenalshots = shots[shots['teamId'] == 1609]\n",
    "len(Arsenalshots[Arsenalshots['goal'] == 1])"
   ]
  },
  {
   "cell_type": "code",
   "execution_count": null,
   "id": "6519f48e",
   "metadata": {},
   "outputs": [],
   "source": [
    "#Just readd this one in later\n",
    "shotswteam = pd.merge(shots, teams, left_on = 'teamId', right_on = 'wyId')"
   ]
  }
 ],
 "metadata": {
  "kernelspec": {
   "display_name": "Python 3",
   "language": "python",
   "name": "python3"
  },
  "language_info": {
   "codemirror_mode": {
    "name": "ipython",
    "version": 3
   },
   "file_extension": ".py",
   "mimetype": "text/x-python",
   "name": "python",
   "nbconvert_exporter": "python",
   "pygments_lexer": "ipython3",
   "version": "3.8.8"
  }
 },
 "nbformat": 4,
 "nbformat_minor": 5
}
