{
 "cells": [
  {
   "cell_type": "code",
   "execution_count": 1,
   "id": "d4f8a7ef",
   "metadata": {},
   "outputs": [],
   "source": [
    "import json\n",
    "from collections import Counter\n",
    "import matplotlib.pyplot as plt\n",
    "from matplotlib.patches import Ellipse\n",
    "import numpy as np\n",
    "import pandas as pd\n",
    "import operator\n",
    "import seaborn as sns\n",
    "import math\n",
    "from sklearn.linear_model import LogisticRegression\n",
    "from sklearn.model_selection import train_test_split\n",
    "from sklearn.preprocessing import StandardScaler\n",
    "import imblearn.over_sampling as imb\n",
    "from sklearn.ensemble import RandomForestClassifier\n",
    "from sklearn.metrics import f1_score"
   ]
  },
  {
   "cell_type": "code",
   "execution_count": 2,
   "id": "8f151725",
   "metadata": {},
   "outputs": [],
   "source": [
    "nations = ['Italy','England','France','Spain','European_Championship','World_Cup']\n",
    "\n",
    "events = {}\n",
    "events['England'] = pd.read_json('/Users/lucastyler/Downloads/Senior Fall/DSCI 303/Project DSCI 303/events/events_England.json')\n",
    "events['Italy'] = pd.read_json('/Users/lucastyler/Downloads/Senior Fall/DSCI 303/Project DSCI 303/events/events_Italy.json')\n",
    "events['France'] = pd.read_json('/Users/lucastyler/Downloads/Senior Fall/DSCI 303/Project DSCI 303/events/events_France.json')\n",
    "events['Spain'] = pd.read_json('/Users/lucastyler/Downloads/Senior Fall/DSCI 303/Project DSCI 303/events/events_Spain.json')\n",
    "events['European_Championship'] = pd.read_json('/Users/lucastyler/Downloads/Senior Fall/DSCI 303/Project DSCI 303/events/events_European_Championship.json')\n",
    "events['World_Cup'] = pd.read_json('/Users/lucastyler/Downloads/Senior Fall/DSCI 303/Project DSCI 303/events/events_World_Cup.json')\n",
    "\n",
    "matches = {}\n",
    "matches['England'] = pd.read_json('/Users/lucastyler/Downloads/Senior Fall/DSCI 303/Project DSCI 303/matches/matches_England.json')\n",
    "matches['Italy'] = pd.read_json('/Users/lucastyler/Downloads/Senior Fall/DSCI 303/Project DSCI 303/matches/matches_Italy.json')\n",
    "matches['France'] = pd.read_json('/Users/lucastyler/Downloads/Senior Fall/DSCI 303/Project DSCI 303/matches/matches_France.json')\n",
    "matches['Spain'] = pd.read_json('/Users/lucastyler/Downloads/Senior Fall/DSCI 303/Project DSCI 303/matches/matches_Spain.json')\n",
    "matches['European_Championship'] = pd.read_json('/Users/lucastyler/Downloads/Senior Fall/DSCI 303/Project DSCI 303/matches/matches_European_Championship.json')\n",
    "matches['World_Cup'] = pd.read_json('/Users/lucastyler/Downloads/Senior Fall/DSCI 303/Project DSCI 303/matches/matches_World_Cup.json')\n",
    "\n",
    "teams = pd.read_json('/Users/lucastyler/Downloads/Senior Fall/DSCI 303/Project DSCI 303/teams.json')\n",
    "\n",
    "stadiums = pd.read_excel('/Users/lucastyler/Downloads/Senior Fall/DSCI 303/Project DSCI 303/Stadium field dimensions formatted.xlsx')\n"
   ]
  },
  {
   "cell_type": "code",
   "execution_count": 3,
   "id": "4b122534",
   "metadata": {},
   "outputs": [],
   "source": [
    "Englandshots = events['England']['eventName'] == 'Shot'\n",
    "shots = events['England'][Englandshots]\n",
    "all_matches = matches['England']\n",
    "nationsnoEng = ['Italy','France','Spain','European_Championship','World_Cup']\n",
    "\n",
    "for nation in nationsnoEng:\n",
    "    all_matches = pd.concat([all_matches, matches[nation]])\n",
    "    shotsbool = events[nation]['eventName'] == 'Shot'\n",
    "    onlyshots = events[nation][shotsbool]\n",
    "    shots = pd.concat([shots, onlyshots])"
   ]
  },
  {
   "cell_type": "code",
   "execution_count": 4,
   "id": "a553bb06",
   "metadata": {},
   "outputs": [],
   "source": [
    "shots['x'] = [x[0]['x'] for x in shots['positions']]\n",
    "shots['y'] = [x[0]['y'] for x in shots['positions']]"
   ]
  },
  {
   "cell_type": "code",
   "execution_count": 5,
   "id": "2f9d9e36",
   "metadata": {},
   "outputs": [],
   "source": [
    "players = pd.read_json('/Users/lucastyler/Downloads/Senior Fall/DSCI 303/Project DSCI 303/players.json')"
   ]
  },
  {
   "cell_type": "code",
   "execution_count": 6,
   "id": "0b6db60e",
   "metadata": {},
   "outputs": [],
   "source": [
    "players['position'] = [x['name'] for x in players['role']]"
   ]
  },
  {
   "cell_type": "code",
   "execution_count": 7,
   "id": "ce81e66b",
   "metadata": {
    "scrolled": false
   },
   "outputs": [
    {
     "data": {
      "text/plain": [
       "36177"
      ]
     },
     "execution_count": 7,
     "metadata": {},
     "output_type": "execute_result"
    }
   ],
   "source": [
    "playersprac = players[['firstName', 'lastName', 'height', 'weight', 'shortName', 'foot', 'wyId', 'position']]\n",
    "shots = pd.merge(shots, playersprac, left_on = 'playerId', right_on = 'wyId')\n",
    "len(shots)"
   ]
  },
  {
   "cell_type": "code",
   "execution_count": 8,
   "id": "7e5d4f84",
   "metadata": {
    "scrolled": false
   },
   "outputs": [],
   "source": [
    "shots = shots[shots['position'] != 'Goalkeeper']"
   ]
  },
  {
   "cell_type": "code",
   "execution_count": 9,
   "id": "0ecbd461",
   "metadata": {},
   "outputs": [],
   "source": [
    "all_matches['Both_Teams'] = [tuple(x.keys()) for x in all_matches['teamsData']]\n",
    "\n",
    "all_matches['Team1'] = [x[0] for x in all_matches['Both_Teams']]\n",
    "all_matches['Team2'] = [x[1] for x in all_matches['Both_Teams']]\n",
    "\n",
    "shots = pd.merge(shots, all_matches, left_on = 'matchId', right_on = 'wyId')"
   ]
  },
  {
   "cell_type": "code",
   "execution_count": 10,
   "id": "7edf4983",
   "metadata": {},
   "outputs": [],
   "source": [
    "venues_formatted = []\n",
    "for idx, row in shots.iterrows():\n",
    "    if row['venue'] not in list(stadiums['Stadium']):\n",
    "        venues_formatted.append('Default')\n",
    "    else:\n",
    "        venues_formatted.append(row['venue'])"
   ]
  },
  {
   "cell_type": "code",
   "execution_count": 11,
   "id": "9514f729",
   "metadata": {},
   "outputs": [],
   "source": [
    "shots['venues_formatted'] = venues_formatted"
   ]
  },
  {
   "cell_type": "code",
   "execution_count": 12,
   "id": "29c99cab",
   "metadata": {
    "scrolled": true
   },
   "outputs": [
    {
     "data": {
      "text/plain": [
       "36174"
      ]
     },
     "execution_count": 12,
     "metadata": {},
     "output_type": "execute_result"
    }
   ],
   "source": [
    "shots = pd.merge(shots, stadiums, left_on = 'venues_formatted', right_on = 'Stadium')\n",
    "len(shots)"
   ]
  },
  {
   "cell_type": "code",
   "execution_count": 13,
   "id": "8fa9ebf8",
   "metadata": {},
   "outputs": [],
   "source": [
    "#probably change this variable to distance_perc\n",
    "shots['distanceperc'] = np.sqrt(np.power(shots[\"x\"] - 100, 2) + np.power(shots[\"y\"] - 50, 2))\n",
    "#probably change this variable to distance_m\n",
    "shots['distance_m'] = np.sqrt(np.power((0.01*shots[\"x\"]*shots[\"Length\"]) \n",
    "                                                  - shots[\"Length\"], 2) + \n",
    "                                         np.power((0.01*shots[\"y\"]*shots[\"Width\"]) \n",
    "                                                  - (0.5*shots[\"Width\"]), 2))"
   ]
  },
  {
   "cell_type": "code",
   "execution_count": 14,
   "id": "1cb0b7bc",
   "metadata": {
    "scrolled": false
   },
   "outputs": [],
   "source": [
    "tagvalscol = []\n",
    "for x in shots['tags']:\n",
    "    tagvals = []\n",
    "    for i in range(len(x)):\n",
    "        tagvals.append(x[i]['id'])\n",
    "    tagvalscol.append(tagvals)\n",
    "shots['tagvals'] = tagvalscol"
   ]
  },
  {
   "cell_type": "code",
   "execution_count": 15,
   "id": "26c86eb6",
   "metadata": {},
   "outputs": [],
   "source": [
    "shots['goal'] = [1 if 101 in x else 0 for x in shots['tagvals']]"
   ]
  },
  {
   "cell_type": "code",
   "execution_count": 16,
   "id": "6519f48e",
   "metadata": {},
   "outputs": [],
   "source": [
    "shots = pd.merge(shots, teams, left_on = 'teamId', right_on = 'wyId')"
   ]
  },
  {
   "cell_type": "code",
   "execution_count": 17,
   "id": "82f66539",
   "metadata": {
    "scrolled": true
   },
   "outputs": [
    {
     "data": {
      "text/plain": [
       "array([[<AxesSubplot:title={'center':'goal'}>]], dtype=object)"
      ]
     },
     "execution_count": 17,
     "metadata": {},
     "output_type": "execute_result"
    },
    {
     "data": {
      "image/png": "[encoded data removed]",
      "text/plain": [
       "<Figure size 432x288 with 1 Axes>"
      ]
     },
     "metadata": {
      "needs_background": "light"
     },
     "output_type": "display_data"
    }
   ],
   "source": [
    "shots.hist('goal')"
   ]
  },
  {
   "cell_type": "code",
   "execution_count": 18,
   "id": "a4f99fbe",
   "metadata": {},
   "outputs": [
    {
     "data": {
      "text/plain": [
       "array([[<AxesSubplot:title={'center':'distance_m'}>]], dtype=object)"
      ]
     },
     "execution_count": 18,
     "metadata": {},
     "output_type": "execute_result"
    },
    {
     "data": {
      "image/png": "[encoded data removed]",
      "text/plain": [
       "<Figure size 432x288 with 1 Axes>"
      ]
     },
     "metadata": {
      "needs_background": "light"
     },
     "output_type": "display_data"
    }
   ],
   "source": [
    "shots.hist('distance_m')"
   ]
  },
  {
   "cell_type": "code",
   "execution_count": 19,
   "id": "c8b691b1",
   "metadata": {},
   "outputs": [],
   "source": [
    "#add a column for the shot angle\n",
    "#Looked at a few stadiums in Italy and they all had dimensions of 105*68m\n",
    "angles = []\n",
    "for idx, row in shots.iterrows():\n",
    "    #If shooting from touchline, angle will be zero\n",
    "    #continue to avoid divide by zero errors\n",
    "    if row['x'] == 100:\n",
    "        angles.append(0)\n",
    "        continue\n",
    "    #moving everything to left side of the field to make calculation easier\n",
    "    if row['y'] > 50:\n",
    "        mirror = 100 - row['y']\n",
    "    else:\n",
    "        mirror = row['y']\n",
    "    #following four lines attempt to adjust to the actual field width and get \n",
    "    #more accurate positioning of the goal posts. e.g. Previously had right goal post at \n",
    "    #53.6 as opposed to most often at 54.64 which implicitly assumed width was 100 (which\n",
    "    # is never the case). Thus, divide width by goal length to get percentage of field it takes up\n",
    "    #and add half that percentage evenly to either side of 50\n",
    "    goal_perc = (7.32/row['Width'])*100\n",
    "    increment = goal_perc/2\n",
    "    left_post = 50 - increment\n",
    "    right_post = 50 + increment\n",
    "    dist_a = ((row['x'] - 100)**(2))**(1/2)\n",
    "    dist_b = ((mirror - right_post)**2)**(1/2)\n",
    "    dist_c = ((mirror - left_post)**2)**(1/2)\n",
    "    theta = np.arctan(dist_b/dist_a)*(180/math.pi)\n",
    "    phi = np.arctan(dist_c/dist_a)*(180/math.pi)\n",
    "    #Different cases for between the goalposts vs. to the left of a goalpost\n",
    "    if mirror < left_post:\n",
    "        angles.append(theta - phi)\n",
    "    else:\n",
    "        angles.append(theta + phi)\n",
    "shots['angle'] = angles"
   ]
  },
  {
   "cell_type": "code",
   "execution_count": 20,
   "id": "134799a1",
   "metadata": {},
   "outputs": [
    {
     "data": {
      "text/plain": [
       "array([[<AxesSubplot:title={'center':'angle'}>]], dtype=object)"
      ]
     },
     "execution_count": 20,
     "metadata": {},
     "output_type": "execute_result"
    },
    {
     "data": {
      "image/png": "[encoded data removed]",
      "text/plain": [
       "<Figure size 432x288 with 1 Axes>"
      ]
     },
     "metadata": {
      "needs_background": "light"
     },
     "output_type": "display_data"
    }
   ],
   "source": [
    "shots.hist('angle')"
   ]
  },
  {
   "cell_type": "code",
   "execution_count": 21,
   "id": "c3f57f8d",
   "metadata": {},
   "outputs": [],
   "source": [
    "shots['foot_shot'] = ['right' if 402 in x else 'left' if 401 in x else 'head/body' for x in shots['tagvals']]"
   ]
  },
  {
   "cell_type": "code",
   "execution_count": 22,
   "id": "fd7ba727",
   "metadata": {},
   "outputs": [],
   "source": [
    "#1 means the player shot with their strong foot, 0 means they shot with their weak foot or\n",
    "#with their head/body\n",
    "strong_foot = []\n",
    "header = []\n",
    "for idx, row in shots.iterrows():\n",
    "    if row['foot_shot'] == row['foot']:\n",
    "        strong_foot.append(1)\n",
    "    else:\n",
    "        strong_foot.append(0)\n",
    "    if row['foot_shot'] == 'head/body':\n",
    "        header.append(1)\n",
    "    else:\n",
    "        header.append(0)"
   ]
  },
  {
   "cell_type": "code",
   "execution_count": 23,
   "id": "9d24b419",
   "metadata": {},
   "outputs": [],
   "source": [
    "shots['strong_foot'] = strong_foot\n",
    "shots['header'] = header"
   ]
  },
  {
   "cell_type": "code",
   "execution_count": 24,
   "id": "2beba52c",
   "metadata": {
    "scrolled": true
   },
   "outputs": [
    {
     "data": {
      "text/plain": [
       "array([[<AxesSubplot:title={'center':'strong_foot'}>]], dtype=object)"
      ]
     },
     "execution_count": 24,
     "metadata": {},
     "output_type": "execute_result"
    },
    {
     "data": {
      "image/png": "[encoded data removed]",
      "text/plain": [
       "<Figure size 432x288 with 1 Axes>"
      ]
     },
     "metadata": {
      "needs_background": "light"
     },
     "output_type": "display_data"
    }
   ],
   "source": [
    "shots.hist('strong_foot')"
   ]
  },
  {
   "cell_type": "code",
   "execution_count": 25,
   "id": "513be78f",
   "metadata": {},
   "outputs": [
    {
     "name": "stdout",
     "output_type": "stream",
     "text": [
      "23585\n",
      "11985\n",
      "5847\n"
     ]
    }
   ],
   "source": [
    "print(len(shots[shots['strong_foot'] == 1]))\n",
    "print(len(shots[shots['foot_shot'] == 'left']))\n",
    "print(len(shots[shots['foot_shot'] == 'head/body']))"
   ]
  },
  {
   "cell_type": "code",
   "execution_count": 26,
   "id": "784b5b6b",
   "metadata": {},
   "outputs": [
    {
     "data": {
      "image/png": "[encoded data removed]",
      "text/plain": [
       "<Figure size 1728x1728 with 2 Axes>"
      ]
     },
     "metadata": {
      "needs_background": "light"
     },
     "output_type": "display_data"
    }
   ],
   "source": [
    "df_corr = shots.corr()\n",
    "plt.figure(figsize=(24, 24))\n",
    "\n",
    "sns.heatmap(df_corr, \n",
    "            cmap='viridis', vmax=1.0, vmin=-1.0, linewidths=0.1,\n",
    "            annot=True, annot_kws={\"size\": 8}, square=True);"
   ]
  },
  {
   "cell_type": "code",
   "execution_count": 27,
   "id": "d4e6276e",
   "metadata": {},
   "outputs": [
    {
     "name": "stdout",
     "output_type": "stream",
     "text": [
      "The percentage of successful shots from the Forward position in this database is:  0.13472133247918\n",
      "The percentage of successful shots from the Midfielder position in this database is:  0.08015292776175464\n",
      "The percentage of successful shots from the Defender position in this database is:  0.078868258178603\n"
     ]
    }
   ],
   "source": [
    "#procedure for creating dummy variables is the same as in the below column, can actually add it into the same for loop\n",
    "#that being said, would there be an issue for adding in only two observations with goalkeeper shots where one is a\n",
    "#goal? Might the algorithm think its extremely likely for goalkeepers to score when they're shooting when in fact this\n",
    "#is just because of how few observations we have of goalkeepers shooting? Because of course we assume Forwards are\n",
    "#most likely to score. But also, is this largely just because they shoot from the most advanced positions, at least\n",
    "#from the view of the dataset?\n",
    "positions = ['Forward', 'Midfielder', 'Defender']\n",
    "for pos in positions:\n",
    "    pos_shots = shots[shots['position'] == pos]\n",
    "    goalsfrompos = pos_shots[pos_shots['goal'] == 1]\n",
    "    perc_goals = len(goalsfrompos)/len(pos_shots)\n",
    "    print('The percentage of successful shots from the', pos, 'position in this database is: ', perc_goals)"
   ]
  },
  {
   "cell_type": "code",
   "execution_count": 28,
   "id": "21e52f52",
   "metadata": {},
   "outputs": [],
   "source": [
    "forward = []\n",
    "midfielder = []\n",
    "defender = []\n",
    "for idx, row in shots.iterrows():\n",
    "    if row['position'] == 'Forward':\n",
    "        forward.append(1)\n",
    "        midfielder.append(0)\n",
    "        defender.append(0)\n",
    "    elif row['position'] == 'Midfielder':\n",
    "        forward.append(0)\n",
    "        midfielder.append(1)\n",
    "        defender.append(0)\n",
    "    else:\n",
    "        forward.append(0)\n",
    "        midfielder.append(0)\n",
    "        defender.append(1)"
   ]
  },
  {
   "cell_type": "code",
   "execution_count": 29,
   "id": "debe2f58",
   "metadata": {},
   "outputs": [],
   "source": [
    "shots['F'] = forward\n",
    "shots['MF'] = midfielder\n",
    "shots['DEF'] = defender"
   ]
  },
  {
   "cell_type": "code",
   "execution_count": 30,
   "id": "4f5b0c19",
   "metadata": {},
   "outputs": [],
   "source": [
    "#Add 45*60 seconds to every event in the second half, as eventSec tracks the number of seconds since\n",
    "#the start of the current half\n",
    "eventTime = []\n",
    "for idx, row in shots.iterrows():\n",
    "    if row['matchPeriod'] == '2H':\n",
    "        eventTime.append(row['eventSec'] + (45*60))\n",
    "    else:\n",
    "        eventTime.append(row['eventSec'])"
   ]
  },
  {
   "cell_type": "code",
   "execution_count": 31,
   "id": "4ffa5cee",
   "metadata": {},
   "outputs": [],
   "source": [
    "shots['eventTime'] = eventTime"
   ]
  },
  {
   "cell_type": "code",
   "execution_count": 32,
   "id": "aa0b8345",
   "metadata": {},
   "outputs": [
    {
     "data": {
      "text/html": [
       "<div>\n",
       "<style scoped>\n",
       "    .dataframe tbody tr th:only-of-type {\n",
       "        vertical-align: middle;\n",
       "    }\n",
       "\n",
       "    .dataframe tbody tr th {\n",
       "        vertical-align: top;\n",
       "    }\n",
       "\n",
       "    .dataframe thead th {\n",
       "        text-align: right;\n",
       "    }\n",
       "</style>\n",
       "<table border=\"1\" class=\"dataframe\">\n",
       "  <thead>\n",
       "    <tr style=\"text-align: right;\">\n",
       "      <th></th>\n",
       "      <th>x</th>\n",
       "      <th>y</th>\n",
       "      <th>angle</th>\n",
       "    </tr>\n",
       "  </thead>\n",
       "  <tbody>\n",
       "    <tr>\n",
       "      <th>0</th>\n",
       "      <td>88</td>\n",
       "      <td>41</td>\n",
       "      <td>33.383357</td>\n",
       "    </tr>\n",
       "    <tr>\n",
       "      <th>1</th>\n",
       "      <td>87</td>\n",
       "      <td>48</td>\n",
       "      <td>44.175016</td>\n",
       "    </tr>\n",
       "    <tr>\n",
       "      <th>2</th>\n",
       "      <td>90</td>\n",
       "      <td>34</td>\n",
       "      <td>18.219757</td>\n",
       "    </tr>\n",
       "    <tr>\n",
       "      <th>3</th>\n",
       "      <td>81</td>\n",
       "      <td>33</td>\n",
       "      <td>18.228723</td>\n",
       "    </tr>\n",
       "    <tr>\n",
       "      <th>4</th>\n",
       "      <td>75</td>\n",
       "      <td>30</td>\n",
       "      <td>15.119733</td>\n",
       "    </tr>\n",
       "    <tr>\n",
       "      <th>...</th>\n",
       "      <td>...</td>\n",
       "      <td>...</td>\n",
       "      <td>...</td>\n",
       "    </tr>\n",
       "    <tr>\n",
       "      <th>36169</th>\n",
       "      <td>87</td>\n",
       "      <td>35</td>\n",
       "      <td>20.975259</td>\n",
       "    </tr>\n",
       "    <tr>\n",
       "      <th>36170</th>\n",
       "      <td>74</td>\n",
       "      <td>40</td>\n",
       "      <td>20.538964</td>\n",
       "    </tr>\n",
       "    <tr>\n",
       "      <th>36171</th>\n",
       "      <td>86</td>\n",
       "      <td>37</td>\n",
       "      <td>24.155710</td>\n",
       "    </tr>\n",
       "    <tr>\n",
       "      <th>36172</th>\n",
       "      <td>68</td>\n",
       "      <td>22</td>\n",
       "      <td>10.958475</td>\n",
       "    </tr>\n",
       "    <tr>\n",
       "      <th>36173</th>\n",
       "      <td>75</td>\n",
       "      <td>30</td>\n",
       "      <td>15.119733</td>\n",
       "    </tr>\n",
       "  </tbody>\n",
       "</table>\n",
       "<p>36174 rows × 3 columns</p>\n",
       "</div>"
      ],
      "text/plain": [
       "        x   y      angle\n",
       "0      88  41  33.383357\n",
       "1      87  48  44.175016\n",
       "2      90  34  18.219757\n",
       "3      81  33  18.228723\n",
       "4      75  30  15.119733\n",
       "...    ..  ..        ...\n",
       "36169  87  35  20.975259\n",
       "36170  74  40  20.538964\n",
       "36171  86  37  24.155710\n",
       "36172  68  22  10.958475\n",
       "36173  75  30  15.119733\n",
       "\n",
       "[36174 rows x 3 columns]"
      ]
     },
     "execution_count": 32,
     "metadata": {},
     "output_type": "execute_result"
    }
   ],
   "source": [
    "shots[['x', 'y', 'angle']]"
   ]
  },
  {
   "cell_type": "code",
   "execution_count": 33,
   "id": "47b9a6c4",
   "metadata": {},
   "outputs": [],
   "source": [
    "y = shots['goal']\n",
    "#weakfoot is base case for what foot the shot is, defender is base case for position group\n",
    "X = shots[['distance_m', 'angle']]\n",
    "dummies = np.asarray(shots[['strong_foot', 'header']])"
   ]
  },
  {
   "cell_type": "code",
   "execution_count": 34,
   "id": "21266da9",
   "metadata": {},
   "outputs": [],
   "source": [
    "scaler = StandardScaler()\n",
    "X = scaler.fit_transform(X)\n",
    "X = np.append(X, dummies, axis = 1)"
   ]
  },
  {
   "cell_type": "code",
   "execution_count": 35,
   "id": "6ef774dd",
   "metadata": {},
   "outputs": [],
   "source": [
    "#should split before oversampling\n",
    "X_train, X_test, y_train, y_test = train_test_split(X, y, test_size = 0.25, random_state = 0)"
   ]
  },
  {
   "cell_type": "code",
   "execution_count": 36,
   "id": "61c42366",
   "metadata": {},
   "outputs": [],
   "source": [
    "# transform the dataset\n",
    "oversample = imb.SMOTE(sampling_strategy = (1/2))\n",
    "X_over, y_over = oversample.fit_resample(X_train, y_train)"
   ]
  },
  {
   "cell_type": "code",
   "execution_count": 37,
   "id": "e59f9ceb",
   "metadata": {},
   "outputs": [
    {
     "data": {
      "text/plain": [
       "0.3333241856252916"
      ]
     },
     "execution_count": 37,
     "metadata": {},
     "output_type": "execute_result"
    }
   ],
   "source": [
    "len(y_over[y_over == 1])/len(y_over)"
   ]
  },
  {
   "cell_type": "code",
   "execution_count": 38,
   "id": "414902ad",
   "metadata": {},
   "outputs": [
    {
     "data": {
      "text/plain": [
       "array([[-1.07776227,  0.32499806,  0.09136644, -0.97190232]])"
      ]
     },
     "execution_count": 38,
     "metadata": {},
     "output_type": "execute_result"
    }
   ],
   "source": [
    "#Model fitted on untransformed dataset with apparently very low predictive power\n",
    "xGmodel2 = LogisticRegression(random_state = 0).fit(X_train, y_train)\n",
    "xGmodel2.coef_"
   ]
  },
  {
   "cell_type": "code",
   "execution_count": 39,
   "id": "964ae77e",
   "metadata": {},
   "outputs": [
    {
     "name": "stdout",
     "output_type": "stream",
     "text": [
      "Accuracy of logistic regression classifier on training set: 0.90\n",
      "Accuracy of logistic regression classifier on test set: 0.90\n"
     ]
    }
   ],
   "source": [
    "#accuracies of logistic regression on training, test set\n",
    "print('Accuracy of logistic regression classifier on training set: {:.2f}'.format(xGmodel2.score(X_train, y_train)))\n",
    "print('Accuracy of logistic regression classifier on test set: {:.2f}'.format(xGmodel2.score(X_test, y_test)))"
   ]
  },
  {
   "cell_type": "code",
   "execution_count": 40,
   "id": "0c0fae77",
   "metadata": {},
   "outputs": [
    {
     "name": "stdout",
     "output_type": "stream",
     "text": [
      "[[8066   71]\n",
      " [ 810   97]]\n",
      "              precision    recall  f1-score   support\n",
      "\n",
      "           0       0.91      0.99      0.95      8137\n",
      "           1       0.58      0.11      0.18       907\n",
      "\n",
      "    accuracy                           0.90      9044\n",
      "   macro avg       0.74      0.55      0.56      9044\n",
      "weighted avg       0.88      0.90      0.87      9044\n",
      "\n"
     ]
    }
   ],
   "source": [
    "from sklearn.metrics import classification_report\n",
    "from sklearn.metrics import confusion_matrix\n",
    "y_untrans_pred = xGmodel2.predict(X_test)\n",
    "print(confusion_matrix(y_test, y_untrans_pred))\n",
    "print(classification_report(y_test, y_untrans_pred))"
   ]
  },
  {
   "cell_type": "code",
   "execution_count": 41,
   "id": "bd453233",
   "metadata": {},
   "outputs": [],
   "source": [
    "#This is the model fitted on the transformed dataset0\n",
    "xGmodel = LogisticRegression(random_state=0).fit(X_over, y_over)"
   ]
  },
  {
   "cell_type": "code",
   "execution_count": 42,
   "id": "5884aba8",
   "metadata": {},
   "outputs": [
    {
     "name": "stdout",
     "output_type": "stream",
     "text": [
      "[[-1.0829368   0.33149076  0.11390059 -1.00875815]]\n"
     ]
    }
   ],
   "source": [
    "#see if I can use one of their earlier versions of the code to see how the coefficients have changed\n",
    "#angle effect is much smaller by now\n",
    "print(xGmodel.coef_)"
   ]
  },
  {
   "cell_type": "code",
   "execution_count": 43,
   "id": "c9741aaa",
   "metadata": {},
   "outputs": [],
   "source": [
    "y_pred_train = xGmodel.predict(X_train)\n",
    "y_pred_test = xGmodel.predict(X_test)"
   ]
  },
  {
   "cell_type": "code",
   "execution_count": 44,
   "id": "47bfd3b3",
   "metadata": {},
   "outputs": [
    {
     "name": "stdout",
     "output_type": "stream",
     "text": [
      "9044\n",
      "1257\n"
     ]
    }
   ],
   "source": [
    "print(len(y_pred_test))\n",
    "print(len(y_pred_test[y_pred_test == 1]))"
   ]
  },
  {
   "cell_type": "code",
   "execution_count": 45,
   "id": "cf1d2269",
   "metadata": {
    "scrolled": true
   },
   "outputs": [
    {
     "data": {
      "text/plain": [
       "1257"
      ]
     },
     "execution_count": 45,
     "metadata": {},
     "output_type": "execute_result"
    }
   ],
   "source": [
    "goalprobs = [x[1] for x in xGmodel.predict_proba(X_test)]\n",
    "goalprobs = np.asarray(goalprobs)\n",
    "len(goalprobs[goalprobs > 0.5])\n",
    "#Classification such that if the model spits out a probability of scoring greater than 0.5, will be a goal"
   ]
  },
  {
   "cell_type": "code",
   "execution_count": 46,
   "id": "ffa1f2bd",
   "metadata": {},
   "outputs": [
    {
     "name": "stdout",
     "output_type": "stream",
     "text": [
      "Accuracy of logistic regression classifier on training set: 0.74\n",
      "Accuracy of logistic regression classifier on test set: 0.85\n"
     ]
    }
   ],
   "source": [
    "print('Accuracy of logistic regression classifier on training set: {:.2f}'.format(xGmodel.score(X_over, y_over)))\n",
    "print('Accuracy of logistic regression classifier on test set: {:.2f}'.format(xGmodel.score(X_test, y_test)))"
   ]
  },
  {
   "cell_type": "code",
   "execution_count": 47,
   "id": "22563ee7",
   "metadata": {},
   "outputs": [
    {
     "name": "stdout",
     "output_type": "stream",
     "text": [
      "[[7269  868]\n",
      " [ 518  389]]\n"
     ]
    }
   ],
   "source": [
    "confusion_matrix_logistic = confusion_matrix(y_test, y_pred_test)\n",
    "print(confusion_matrix_logistic)"
   ]
  },
  {
   "cell_type": "code",
   "execution_count": 48,
   "id": "2599154d",
   "metadata": {},
   "outputs": [
    {
     "name": "stdout",
     "output_type": "stream",
     "text": [
      "Percentage of goals is:  0.10349975120252115\n",
      "Number of goals is 3744 , number of misses is 32430\n"
     ]
    }
   ],
   "source": [
    "#Reason for this confusion matrix--high accuracy but low recall and f1-score\n",
    "num_goals = len(shots[shots['goal'] == 1])\n",
    "num_misses = len(shots[shots['goal'] == 0])\n",
    "perc_goals = num_goals/len(shots)\n",
    "perc_misses = num_misses/len(shots)\n",
    "print('Percentage of goals is: ', perc_goals)\n",
    "print('Number of goals is', num_goals, ', number of misses is', num_misses)\n",
    "#Attempt to use SMOTE and undersampling to rectify this\n",
    "#SMOTE rather than normal oversampling"
   ]
  },
  {
   "cell_type": "code",
   "execution_count": 49,
   "id": "b4e2c8f8",
   "metadata": {
    "scrolled": true
   },
   "outputs": [
    {
     "name": "stdout",
     "output_type": "stream",
     "text": [
      "              precision    recall  f1-score   support\n",
      "\n",
      "           0       0.93      0.89      0.91      8137\n",
      "           1       0.31      0.43      0.36       907\n",
      "\n",
      "    accuracy                           0.85      9044\n",
      "   macro avg       0.62      0.66      0.64      9044\n",
      "weighted avg       0.87      0.85      0.86      9044\n",
      "\n"
     ]
    }
   ],
   "source": [
    "print(classification_report(y_test, y_pred_test))"
   ]
  },
  {
   "cell_type": "code",
   "execution_count": 50,
   "id": "5e93a2b1",
   "metadata": {},
   "outputs": [
    {
     "data": {
      "image/png": "[encoded data removed]",
      "text/plain": [
       "<Figure size 432x288 with 1 Axes>"
      ]
     },
     "metadata": {
      "needs_background": "light"
     },
     "output_type": "display_data"
    }
   ],
   "source": [
    "#ROC curve for untransformed dataset\n",
    "from sklearn.metrics import roc_auc_score\n",
    "from sklearn.metrics import roc_curve\n",
    "logit_roc_auc = roc_auc_score(y_test, xGmodel2.predict(X_test))\n",
    "fpr, tpr, thresholds = roc_curve(y_test, xGmodel2.predict_proba(X_test)[:,1])\n",
    "plt.figure()\n",
    "plt.plot(fpr, tpr, label='Logistic Regression (area = %0.2f)' % logit_roc_auc)\n",
    "plt.plot([0, 1], [0, 1],'r--')\n",
    "plt.xlim([0.0, 1.0])\n",
    "plt.ylim([0.0, 1.05])\n",
    "plt.xlabel('False Positive Rate')\n",
    "plt.ylabel('True Positive Rate')\n",
    "plt.title('Receiver operating characteristic')\n",
    "plt.legend(loc=\"lower right\")\n",
    "plt.savefig('Log_ROC')\n",
    "plt.show()"
   ]
  },
  {
   "cell_type": "code",
   "execution_count": 51,
   "id": "3da2e807",
   "metadata": {
    "scrolled": true
   },
   "outputs": [
    {
     "data": {
      "image/png": "[encoded data removed]",
      "text/plain": [
       "<Figure size 432x288 with 1 Axes>"
      ]
     },
     "metadata": {
      "needs_background": "light"
     },
     "output_type": "display_data"
    }
   ],
   "source": [
    "#ROC Curve for Logistic Regression on SMOTE\n",
    "from sklearn.metrics import roc_auc_score\n",
    "from sklearn.metrics import roc_curve\n",
    "logit_roc_auc = roc_auc_score(y_test, xGmodel.predict(X_test))\n",
    "fpr, tpr, thresholds = roc_curve(y_test, xGmodel.predict_proba(X_test)[:,1])\n",
    "plt.figure()\n",
    "plt.plot(fpr, tpr, label='Logistic Regression (area = %0.2f)' % logit_roc_auc)\n",
    "plt.plot([0, 1], [0, 1],'r--')\n",
    "plt.xlim([0.0, 1.0])\n",
    "plt.ylim([0.0, 1.05])\n",
    "plt.xlabel('False Positive Rate')\n",
    "plt.ylabel('True Positive Rate')\n",
    "plt.title('Receiver operating characteristic')\n",
    "plt.legend(loc=\"lower right\")\n",
    "plt.savefig('Log_ROC')\n",
    "plt.show()"
   ]
  },
  {
   "cell_type": "code",
   "execution_count": 52,
   "id": "1a5c7333",
   "metadata": {},
   "outputs": [
    {
     "name": "stdout",
     "output_type": "stream",
     "text": [
      "F-Score for SMOTE model 0.3595194085027726\n",
      "F-Score for untransformed model 0.18046511627906975\n"
     ]
    }
   ],
   "source": [
    "print('F-Score for SMOTE model', f1_score(y_test, y_pred_test))\n",
    "print('F-Score for untransformed model', f1_score(y_test, y_untrans_pred))"
   ]
  },
  {
   "cell_type": "code",
   "execution_count": 53,
   "id": "69cbadc5",
   "metadata": {},
   "outputs": [],
   "source": [
    "#website for us to compare xG results with: https://understat.com/league/EPL/2017"
   ]
  },
  {
   "cell_type": "code",
   "execution_count": 54,
   "id": "a3bfa31f",
   "metadata": {},
   "outputs": [
    {
     "data": {
      "text/plain": [
       "RandomForestClassifier(max_depth=5, n_estimators=500, oob_score=True,\n",
       "                       random_state=0)"
      ]
     },
     "execution_count": 54,
     "metadata": {},
     "output_type": "execute_result"
    }
   ],
   "source": [
    "#nontransformed dataset random forest\n",
    "clf2 = RandomForestClassifier(random_state=0, oob_score = True, max_depth = 5, n_estimators = 500)\n",
    "clf2.fit(X_train, y_train)"
   ]
  },
  {
   "cell_type": "code",
   "execution_count": 55,
   "id": "efb9d699",
   "metadata": {},
   "outputs": [
    {
     "name": "stdout",
     "output_type": "stream",
     "text": [
      "[0.56077769 0.34588909 0.01635592 0.0769773 ]\n",
      "              precision    recall  f1-score   support\n",
      "\n",
      "           0       0.91      0.99      0.95      8137\n",
      "           1       0.60      0.10      0.17       907\n",
      "\n",
      "    accuracy                           0.90      9044\n",
      "   macro avg       0.75      0.55      0.56      9044\n",
      "weighted avg       0.88      0.90      0.87      9044\n",
      "\n"
     ]
    }
   ],
   "source": [
    "y_pred_forest_train_2 = clf2.predict(X_train)\n",
    "y_pred_forest_test_2 = clf2.predict(X_test)\n",
    "print(clf2.feature_importances_)\n",
    "print(classification_report(y_test, y_pred_forest_test_2))"
   ]
  },
  {
   "cell_type": "code",
   "execution_count": 56,
   "id": "a48883df",
   "metadata": {},
   "outputs": [
    {
     "data": {
      "text/plain": [
       "RandomForestClassifier(max_depth=7, oob_score=True, random_state=0)"
      ]
     },
     "execution_count": 56,
     "metadata": {},
     "output_type": "execute_result"
    }
   ],
   "source": [
    "clf = RandomForestClassifier(random_state=0, oob_score = True, max_depth = 7)\n",
    "clf.fit(X_over, y_over)"
   ]
  },
  {
   "cell_type": "code",
   "execution_count": 57,
   "id": "2e7b8f50",
   "metadata": {},
   "outputs": [],
   "source": [
    "y_pred_forest_train = clf.predict(X_train)\n",
    "y_pred_forest_test = clf.predict(X_test)"
   ]
  },
  {
   "cell_type": "code",
   "execution_count": 58,
   "id": "06d5421d",
   "metadata": {},
   "outputs": [
    {
     "data": {
      "text/plain": [
       "array([0.58294607, 0.33735113, 0.01685299, 0.06284981])"
      ]
     },
     "execution_count": 58,
     "metadata": {},
     "output_type": "execute_result"
    }
   ],
   "source": [
    "#X = shots[[]'distance_m', 'angle','strong_foot', 'header']]\n",
    "clf.feature_importances_"
   ]
  },
  {
   "cell_type": "code",
   "execution_count": 59,
   "id": "c135166a",
   "metadata": {},
   "outputs": [
    {
     "name": "stdout",
     "output_type": "stream",
     "text": [
      "Accuracy of random forest classifier on training set: 0.75\n",
      "Accuracy of random forest classifier on test set: 0.84\n",
      "OOB score of random forest classifier on training set: 0.75\n",
      "OOB score of random forest classifier on test set: 0.75\n"
     ]
    }
   ],
   "source": [
    "print('Accuracy of random forest classifier on training set: {:.2f}'.format(clf.score(X_over, y_over)))\n",
    "print('Accuracy of random forest classifier on test set: {:.2f}'.format(clf.score(X_test, y_test)))\n",
    "print('OOB score of random forest classifier on training set: {:.2f}'.format(clf.oob_score_))\n",
    "print('OOB score of random forest classifier on test set: {:.2f}'.format(clf.oob_score_))"
   ]
  },
  {
   "cell_type": "code",
   "execution_count": 60,
   "id": "0fb126a9",
   "metadata": {
    "scrolled": false
   },
   "outputs": [
    {
     "name": "stdout",
     "output_type": "stream",
     "text": [
      "              precision    recall  f1-score   support\n",
      "\n",
      "           0       0.94      0.89      0.91      8137\n",
      "           1       0.31      0.45      0.37       907\n",
      "\n",
      "    accuracy                           0.84      9044\n",
      "   macro avg       0.62      0.67      0.64      9044\n",
      "weighted avg       0.87      0.84      0.86      9044\n",
      "\n"
     ]
    }
   ],
   "source": [
    "print(classification_report(y_test, y_pred_forest_test))"
   ]
  },
  {
   "cell_type": "code",
   "execution_count": 61,
   "id": "bca4ed67",
   "metadata": {},
   "outputs": [
    {
     "name": "stdout",
     "output_type": "stream",
     "text": [
      "[[7215  922]\n",
      " [ 498  409]]\n"
     ]
    }
   ],
   "source": [
    "print(confusion_matrix(y_test, y_pred_forest_test))"
   ]
  },
  {
   "cell_type": "code",
   "execution_count": 62,
   "id": "a0134f1e",
   "metadata": {},
   "outputs": [
    {
     "name": "stdout",
     "output_type": "stream",
     "text": [
      "0.7424188369603996\n",
      "0.7430774719394055\n",
      "0.7426658250775269\n",
      "0.7435440050495349\n",
      "0.7440654244079146\n",
      "0.7438458794149126\n",
      "0.7436263344219106\n",
      "0.7438458794149126\n",
      "0.7437909931666621\n",
      "0.7436537775460358\n",
      "0.7442026400285409\n",
      "0.7440928675320398\n"
     ]
    }
   ],
   "source": [
    "#See if there is change in OOB Score\n",
    "for i in range(30, 150, 10):\n",
    "    rand_for = RandomForestClassifier(random_state=0, oob_score = True, max_depth = 5, n_estimators = i)\n",
    "    rand_for.fit(X_over, y_over)\n",
    "    print(rand_for.oob_score_)"
   ]
  },
  {
   "cell_type": "code",
   "execution_count": 63,
   "id": "f4051a7a",
   "metadata": {
    "scrolled": true
   },
   "outputs": [
    {
     "name": "stdout",
     "output_type": "stream",
     "text": [
      "training acc for 3 0.734899420950081\n",
      "test acc for 3 0.8717381689517912\n",
      "feature importances are [0.5905754  0.35015914 0.01017671 0.04908875]\n",
      "              precision    recall  f1-score   support\n",
      "\n",
      "           0       0.92      0.93      0.93      8137\n",
      "           1       0.35      0.32      0.33       907\n",
      "\n",
      "    accuracy                           0.87      9044\n",
      "   macro avg       0.64      0.62      0.63      9044\n",
      "weighted avg       0.87      0.87      0.87      9044\n",
      "\n",
      "0.3153252480705623\n",
      "training acc for 4 0.7406624770163835\n",
      "test acc for 4 0.8521671826625387\n",
      "feature importances are [0.60288072 0.32602558 0.01283513 0.05825857]\n",
      "              precision    recall  f1-score   support\n",
      "\n",
      "           0       0.93      0.90      0.92      8137\n",
      "           1       0.32      0.41      0.36       907\n",
      "\n",
      "    accuracy                           0.85      9044\n",
      "   macro avg       0.62      0.65      0.64      9044\n",
      "weighted avg       0.87      0.85      0.86      9044\n",
      "\n",
      "0.40683572216097025\n",
      "training acc for 5 0.7462059880896841\n",
      "test acc for 5 0.8421052631578947\n",
      "feature importances are [0.59605198 0.32220982 0.01359646 0.06814175]\n",
      "              precision    recall  f1-score   support\n",
      "\n",
      "           0       0.93      0.89      0.91      8137\n",
      "           1       0.30      0.44      0.36       907\n",
      "\n",
      "    accuracy                           0.84      9044\n",
      "   macro avg       0.62      0.66      0.63      9044\n",
      "weighted avg       0.87      0.84      0.85      9044\n",
      "\n",
      "0.4421168687982359\n",
      "training acc for 6 0.7479897911578254\n",
      "test acc for 6 0.8406678460858027\n",
      "feature importances are [0.57102015 0.34761652 0.01432787 0.06703546]\n",
      "              precision    recall  f1-score   support\n",
      "\n",
      "           0       0.94      0.88      0.91      8137\n",
      "           1       0.30      0.45      0.36       907\n",
      "\n",
      "    accuracy                           0.84      9044\n",
      "   macro avg       0.62      0.67      0.64      9044\n",
      "weighted avg       0.87      0.84      0.85      9044\n",
      "\n",
      "0.4531422271223815\n",
      "training acc for 7 0.7535881884793765\n",
      "test acc for 7 0.8429898275099513\n",
      "feature importances are [0.58294607 0.33735113 0.01685299 0.06284981]\n",
      "              precision    recall  f1-score   support\n",
      "\n",
      "           0       0.94      0.89      0.91      8137\n",
      "           1       0.31      0.45      0.37       907\n",
      "\n",
      "    accuracy                           0.84      9044\n",
      "   macro avg       0.62      0.67      0.64      9044\n",
      "weighted avg       0.87      0.84      0.86      9044\n",
      "\n",
      "0.45093715545755236\n",
      "training acc for 8 0.7642361206399737\n",
      "test acc for 8 0.8435426802299867\n",
      "feature importances are [0.56132433 0.3600807  0.01892007 0.05967489]\n",
      "              precision    recall  f1-score   support\n",
      "\n",
      "           0       0.93      0.89      0.91      8137\n",
      "           1       0.30      0.43      0.36       907\n",
      "\n",
      "    accuracy                           0.84      9044\n",
      "   macro avg       0.62      0.66      0.63      9044\n",
      "weighted avg       0.87      0.84      0.86      9044\n",
      "\n",
      "0.43439911797133407\n",
      "training acc for 9 0.7760915502620819\n",
      "test acc for 9 0.843874391862008\n",
      "feature importances are [0.56713355 0.35895611 0.01746916 0.05644119]\n",
      "              precision    recall  f1-score   support\n",
      "\n",
      "           0       0.93      0.89      0.91      8137\n",
      "           1       0.30      0.43      0.35       907\n",
      "\n",
      "    accuracy                           0.84      9044\n",
      "   macro avg       0.62      0.66      0.63      9044\n",
      "weighted avg       0.87      0.84      0.86      9044\n",
      "\n",
      "0.42668136714443217\n",
      "training acc for 10 0.7880293092565658\n",
      "test acc for 10 0.8413312693498453\n",
      "feature importances are [0.5607228  0.36960403 0.0169071  0.05276607]\n",
      "              precision    recall  f1-score   support\n",
      "\n",
      "           0       0.93      0.89      0.91      8137\n",
      "           1       0.29      0.42      0.35       907\n",
      "\n",
      "    accuracy                           0.84      9044\n",
      "   macro avg       0.61      0.65      0.63      9044\n",
      "weighted avg       0.87      0.84      0.85      9044\n",
      "\n",
      "0.4178610804851158\n",
      "training acc for 11 0.8032053568978292\n",
      "test acc for 11 0.8406678460858027\n",
      "feature importances are [0.55307395 0.38287036 0.01573028 0.04832542]\n",
      "              precision    recall  f1-score   support\n",
      "\n",
      "           0       0.93      0.89      0.91      8137\n",
      "           1       0.29      0.41      0.34       907\n",
      "\n",
      "    accuracy                           0.84      9044\n",
      "   macro avg       0.61      0.65      0.63      9044\n",
      "weighted avg       0.87      0.84      0.85      9044\n",
      "\n",
      "0.41124586549062847\n",
      "training acc for 12 0.8167073739674524\n",
      "test acc for 12 0.8397832817337462\n",
      "feature importances are [0.55038107 0.38922247 0.01640305 0.0439934 ]\n",
      "              precision    recall  f1-score   support\n",
      "\n",
      "           0       0.93      0.89      0.91      8137\n",
      "           1       0.28      0.39      0.33       907\n",
      "\n",
      "    accuracy                           0.84      9044\n",
      "   macro avg       0.61      0.64      0.62      9044\n",
      "weighted avg       0.86      0.84      0.85      9044\n",
      "\n",
      "0.3869900771775083\n",
      "training acc for 13 0.8283981448448091\n",
      "test acc for 13 0.8404467049977886\n",
      "feature importances are [0.54686947 0.39629488 0.0151717  0.04166395]\n",
      "              precision    recall  f1-score   support\n",
      "\n",
      "           0       0.93      0.89      0.91      8137\n",
      "           1       0.28      0.38      0.33       907\n",
      "\n",
      "    accuracy                           0.84      9044\n",
      "   macro avg       0.61      0.64      0.62      9044\n",
      "weighted avg       0.86      0.84      0.85      9044\n",
      "\n",
      "0.38478500551267913\n",
      "training acc for 14 0.8381678970333983\n",
      "test acc for 14 0.8404467049977886\n",
      "feature importances are [0.54712929 0.39843981 0.01558447 0.03884642]\n",
      "              precision    recall  f1-score   support\n",
      "\n",
      "           0       0.93      0.89      0.91      8137\n",
      "           1       0.28      0.38      0.32       907\n",
      "\n",
      "    accuracy                           0.84      9044\n",
      "   macro avg       0.60      0.63      0.62      9044\n",
      "weighted avg       0.86      0.84      0.85      9044\n",
      "\n",
      "0.3770672546857773\n",
      "training acc for 15 0.8462087324020967\n",
      "test acc for 15 0.8387881468376824\n",
      "feature importances are [0.55171889 0.39693331 0.0139866  0.0373612 ]\n",
      "              precision    recall  f1-score   support\n",
      "\n",
      "           0       0.93      0.89      0.91      8137\n",
      "           1       0.28      0.38      0.32       907\n",
      "\n",
      "    accuracy                           0.84      9044\n",
      "   macro avg       0.60      0.63      0.61      9044\n",
      "weighted avg       0.86      0.84      0.85      9044\n",
      "\n",
      "0.3770672546857773\n",
      "training acc for 16 0.852163890337276\n",
      "test acc for 16 0.8394515701017249\n",
      "feature importances are [0.54807629 0.40287369 0.01362464 0.03542538]\n",
      "              precision    recall  f1-score   support\n",
      "\n",
      "           0       0.93      0.89      0.91      8137\n",
      "           1       0.28      0.37      0.32       907\n",
      "\n",
      "    accuracy                           0.84      9044\n",
      "   macro avg       0.60      0.63      0.61      9044\n",
      "weighted avg       0.86      0.84      0.85      9044\n",
      "\n",
      "0.3748621830209482\n",
      "training acc for 17 0.8565273470731908\n",
      "test acc for 17 0.8386775762936753\n",
      "feature importances are [0.53722458 0.41475562 0.01453514 0.03348465]\n",
      "              precision    recall  f1-score   support\n",
      "\n",
      "           0       0.93      0.89      0.91      8137\n",
      "           1       0.27      0.37      0.31       907\n",
      "\n",
      "    accuracy                           0.84      9044\n",
      "   macro avg       0.60      0.63      0.61      9044\n",
      "weighted avg       0.86      0.84      0.85      9044\n",
      "\n",
      "0.36604189636163176\n",
      "training acc for 18 0.8596009769752189\n",
      "test acc for 18 0.8371295886775763\n",
      "feature importances are [0.53747941 0.4167103  0.01447391 0.03133639]\n",
      "              precision    recall  f1-score   support\n",
      "\n",
      "           0       0.93      0.89      0.91      8137\n",
      "           1       0.27      0.37      0.31       907\n",
      "\n",
      "    accuracy                           0.84      9044\n",
      "   macro avg       0.60      0.63      0.61      9044\n",
      "weighted avg       0.86      0.84      0.85      9044\n",
      "\n",
      "0.36604189636163176\n",
      "training acc for 19 0.8632234693597519\n",
      "test acc for 19 0.8355816010614773\n",
      "feature importances are [0.53892287 0.41688842 0.01328728 0.03090143]\n",
      "              precision    recall  f1-score   support\n",
      "\n",
      "           0       0.93      0.89      0.91      8137\n",
      "           1       0.26      0.36      0.31       907\n",
      "\n",
      "    accuracy                           0.84      9044\n",
      "   macro avg       0.60      0.62      0.61      9044\n",
      "weighted avg       0.86      0.84      0.85      9044\n",
      "\n",
      "0.360529217199559\n",
      "training acc for 20 0.8664343148824062\n",
      "test acc for 20 0.8358027421494914\n",
      "feature importances are [0.54181297 0.41521335 0.01281239 0.03016129]\n",
      "              precision    recall  f1-score   support\n",
      "\n",
      "           0       0.93      0.89      0.91      8137\n",
      "           1       0.27      0.36      0.31       907\n",
      "\n",
      "    accuracy                           0.84      9044\n",
      "   macro avg       0.60      0.62      0.61      9044\n",
      "weighted avg       0.86      0.84      0.85      9044\n",
      "\n",
      "0.35942668136714445\n"
     ]
    }
   ],
   "source": [
    "#Get performance metrics for various maximum depths\n",
    "depth_dict = {}\n",
    "for i in range(3, 21):\n",
    "    rand_for = RandomForestClassifier(random_state=0, oob_score = True, max_depth = i)\n",
    "    rand_for.fit(X_over, y_over)\n",
    "    print('training acc for', i, rand_for.score(X_over, y_over))\n",
    "    print('test acc for', i, rand_for.score(X_test, y_test))\n",
    "    print('feature importances are', rand_for.feature_importances_)\n",
    "    print(classification_report(y_test, rand_for.predict(X_test)))\n",
    "    print(classification_report(y_test, rand_for.predict(X_test), output_dict = True)['1']['recall'])\n",
    "    depth_dict[i] = {}\n",
    "    depth_dict[i]['recall'] = [i, classification_report(y_test, rand_for.predict(X_test), output_dict = True)\n",
    "                               ['1']['recall']]\n",
    "    depth_dict[i]['f-score'] = [i, classification_report(y_test, rand_for.predict(X_test), output_dict = True)\n",
    "                               ['1']['f1-score']]\n",
    "    depth_dict[i]['test_acc'] = [i, rand_for.score(X_test, y_test)]"
   ]
  },
  {
   "cell_type": "code",
   "execution_count": 64,
   "id": "811a27d3",
   "metadata": {
    "scrolled": true
   },
   "outputs": [
    {
     "data": {
      "image/png": "[encoded data removed]",
      "text/plain": [
       "<Figure size 432x288 with 1 Axes>"
      ]
     },
     "metadata": {
      "needs_background": "light"
     },
     "output_type": "display_data"
    }
   ],
   "source": [
    "#Generate a graph showing how recall and f score vary with maximum depth\n",
    "import matplotlib.pyplot as plt\n",
    "xs = []\n",
    "ys = []\n",
    "xs_ = []\n",
    "ys_ = []\n",
    "for i in range(3, 21):\n",
    "    xs.append(depth_dict[i]['recall'][0])\n",
    "    ys.append(depth_dict[i]['recall'][1])\n",
    "    xs_.append(depth_dict[i]['f-score'][0])\n",
    "    ys_.append(depth_dict[i]['f-score'][1])\n",
    "\n",
    "plt.plot(xs, ys, label = 'Recall on 1\\'s')\n",
    "plt.plot(xs_, ys_, label = 'F-Score on 1\\'s')\n",
    "\n",
    "plt.xlim(3, 20)\n",
    "plt.xlabel(\"max_depth\")\n",
    "plt.ylabel(\"Recall and F-Score\")\n",
    "plt.legend(loc=\"upper right\")\n",
    "plt.show()"
   ]
  },
  {
   "cell_type": "code",
   "execution_count": 65,
   "id": "a811b94a",
   "metadata": {},
   "outputs": [
    {
     "data": {
      "image/png": "[encoded data removed]",
      "text/plain": [
       "<Figure size 432x288 with 1 Axes>"
      ]
     },
     "metadata": {
      "needs_background": "light"
     },
     "output_type": "display_data"
    }
   ],
   "source": [
    "xs2 = []\n",
    "ys2 = []\n",
    "for i in range(3, 21):\n",
    "    xs2.append(depth_dict[i]['test_acc'][0])\n",
    "    ys2.append(depth_dict[i]['test_acc'][1])\n",
    "    plt.plot(xs2, ys2)\n",
    "\n",
    "plt.xlim(3, 20)\n",
    "plt.xlabel(\"max_depth\")\n",
    "plt.ylabel(\"Test accuracy\")\n",
    "plt.show()"
   ]
  },
  {
   "cell_type": "code",
   "execution_count": 66,
   "id": "ab9e1d19",
   "metadata": {
    "scrolled": true
   },
   "outputs": [
    {
     "data": {
      "text/plain": [
       "SVC(C=0.01, gamma='auto')"
      ]
     },
     "execution_count": 66,
     "metadata": {},
     "output_type": "execute_result"
    }
   ],
   "source": [
    "from sklearn.svm import SVC\n",
    "svc = SVC(C = 0.01, kernel = 'rbf', gamma = 'auto')\n",
    "svc.fit(X_over, y_over)"
   ]
  },
  {
   "cell_type": "code",
   "execution_count": 67,
   "id": "5735a612",
   "metadata": {},
   "outputs": [],
   "source": [
    "y_pred_test_SVM = svc.predict(X_test)"
   ]
  },
  {
   "cell_type": "code",
   "execution_count": 68,
   "id": "d3d2a131",
   "metadata": {
    "scrolled": true
   },
   "outputs": [
    {
     "name": "stdout",
     "output_type": "stream",
     "text": [
      "Accuracy of non-linear SVM SMOTE classifier on training set: 0.74\n",
      "Accuracy of non-linear SVM SMOTE classifier on test set: 0.87\n"
     ]
    }
   ],
   "source": [
    "print('Accuracy of non-linear SVM SMOTE classifier on training set: {:.2f}'.format(svc.score(X_over, y_over)))\n",
    "print('Accuracy of non-linear SVM SMOTE classifier on test set: {:.2f}'.format(svc.score(X_test, y_test)))"
   ]
  },
  {
   "cell_type": "code",
   "execution_count": 69,
   "id": "07356134",
   "metadata": {
    "scrolled": false
   },
   "outputs": [
    {
     "name": "stdout",
     "output_type": "stream",
     "text": [
      "              precision    recall  f1-score   support\n",
      "\n",
      "           0       0.93      0.93      0.93      8137\n",
      "           1       0.34      0.34      0.34       907\n",
      "\n",
      "    accuracy                           0.87      9044\n",
      "   macro avg       0.63      0.63      0.63      9044\n",
      "weighted avg       0.87      0.87      0.87      9044\n",
      "\n"
     ]
    }
   ],
   "source": [
    "print(classification_report(y_test, y_pred_test_SVM))"
   ]
  },
  {
   "cell_type": "code",
   "execution_count": 70,
   "id": "8551c456",
   "metadata": {},
   "outputs": [
    {
     "name": "stdout",
     "output_type": "stream",
     "text": [
      "[[7538  599]\n",
      " [ 597  310]]\n"
     ]
    }
   ],
   "source": [
    "confusion_matrix_SVM = confusion_matrix(y_test, y_pred_test_SVM)\n",
    "print(confusion_matrix_SVM)"
   ]
  },
  {
   "cell_type": "code",
   "execution_count": 71,
   "id": "fd33f63e",
   "metadata": {},
   "outputs": [],
   "source": [
    "#Tuning the SVM regularization parameter\n",
    "#train_accs = []\n",
    "#test_accs = []\n",
    "#f_scores = []\n",
    "#for reg_param in [0.0001, 0.001, 0.01, 0.1, 1, 10, 100, 1000]:\n",
    "    #svc_tune = SVC(C = reg_param)\n",
    "    #svc_tune.fit(X_over, y_over)\n",
    "    #y_pred_test_SVM = svc_tune.predict(X_test)\n",
    "    #train_acc = svc_tune.score(X_over, y_over)\n",
    "    #test_acc = svc_tune.score(X_test, y_test)\n",
    "    #f_score = f1_score(y_test, y_pred_test_SVM)\n",
    "    #train_accs.append(train_acc)\n",
    "    #test_accs.append(test_acc)\n",
    "    #f_scores.append(f_score)\n",
    "    #print('done')"
   ]
  },
  {
   "cell_type": "code",
   "execution_count": 72,
   "id": "87c447db",
   "metadata": {},
   "outputs": [
    {
     "data": {
      "text/plain": [
       "MLPClassifier(activation='logistic', hidden_layer_sizes=(100, 100),\n",
       "              random_state=1)"
      ]
     },
     "execution_count": 72,
     "metadata": {},
     "output_type": "execute_result"
    }
   ],
   "source": [
    "from sklearn.neural_network import MLPClassifier\n",
    "MLP = MLPClassifier(random_state=1, hidden_layer_sizes = (100,100), activation = 'logistic', max_iter = 200)\n",
    "MLP.fit(X_over, y_over)"
   ]
  },
  {
   "cell_type": "code",
   "execution_count": 73,
   "id": "7b336018",
   "metadata": {},
   "outputs": [],
   "source": [
    "y_pred_MLP_test = MLP.predict(X_test)"
   ]
  },
  {
   "cell_type": "code",
   "execution_count": 74,
   "id": "c0753cd0",
   "metadata": {},
   "outputs": [
    {
     "name": "stdout",
     "output_type": "stream",
     "text": [
      "Accuracy of MLP classifier on training set: 0.74\n",
      "Accuracy of MLP classifier on test set: 0.85\n"
     ]
    }
   ],
   "source": [
    "print('Accuracy of MLP classifier on training set: {:.2f}'.format(MLP.score(X_over, y_over)))\n",
    "print('Accuracy of MLP classifier on test set: {:.2f}'.format(MLP.score(X_test, y_test)))"
   ]
  },
  {
   "cell_type": "code",
   "execution_count": 75,
   "id": "a3af5601",
   "metadata": {},
   "outputs": [
    {
     "name": "stdout",
     "output_type": "stream",
     "text": [
      "              precision    recall  f1-score   support\n",
      "\n",
      "           0       0.93      0.90      0.92      8137\n",
      "           1       0.32      0.40      0.36       907\n",
      "\n",
      "    accuracy                           0.85      9044\n",
      "   macro avg       0.63      0.65      0.64      9044\n",
      "weighted avg       0.87      0.85      0.86      9044\n",
      "\n"
     ]
    }
   ],
   "source": [
    "print(classification_report(y_test, y_pred_MLP_test))"
   ]
  },
  {
   "cell_type": "code",
   "execution_count": 76,
   "id": "8d94bc7a",
   "metadata": {},
   "outputs": [
    {
     "name": "stdout",
     "output_type": "stream",
     "text": [
      "[[7358  779]\n",
      " [ 540  367]]\n"
     ]
    }
   ],
   "source": [
    "confusion_mat_MLP = confusion_matrix(y_test, y_pred_MLP_test)\n",
    "print(confusion_mat_MLP)"
   ]
  },
  {
   "cell_type": "code",
   "execution_count": 77,
   "id": "ca6c3cf2",
   "metadata": {},
   "outputs": [
    {
     "data": {
      "text/plain": [
       "4"
      ]
     },
     "execution_count": 77,
     "metadata": {},
     "output_type": "execute_result"
    }
   ],
   "source": [
    "MLP.n_layers_"
   ]
  },
  {
   "cell_type": "code",
   "execution_count": 78,
   "id": "40dce66d",
   "metadata": {},
   "outputs": [
    {
     "data": {
      "image/png": "[encoded data removed]",
      "text/plain": [
       "<Figure size 432x288 with 1 Axes>"
      ]
     },
     "metadata": {
      "needs_background": "light"
     },
     "output_type": "display_data"
    }
   ],
   "source": [
    "#ROC curve for untransformed dataset\n",
    "from sklearn.metrics import roc_auc_score\n",
    "from sklearn.metrics import roc_curve\n",
    "MLP_roc_auc = roc_auc_score(y_test, MLP.predict(X_test))\n",
    "fpr, tpr, thresholds = roc_curve(y_test, MLP.predict_proba(X_test)[:,1])\n",
    "plt.figure()\n",
    "plt.plot(fpr, tpr, label='MLP (area = %0.2f)' % MLP_roc_auc)\n",
    "plt.plot([0, 1], [0, 1],'r--')\n",
    "plt.xlim([0.0, 1.0])\n",
    "plt.ylim([0.0, 1.05])\n",
    "plt.xlabel('False Positive Rate')\n",
    "plt.ylabel('True Positive Rate')\n",
    "plt.title('Receiver operating characteristic')\n",
    "plt.legend(loc=\"lower right\")\n",
    "plt.savefig('Log_ROC')\n",
    "plt.show()"
   ]
  },
  {
   "cell_type": "code",
   "execution_count": 79,
   "id": "dadffed9",
   "metadata": {
    "scrolled": false
   },
   "outputs": [
    {
     "name": "stdout",
     "output_type": "stream",
     "text": [
      "training acc for 1 0.7404429320233815\n",
      "test acc for 1 0.8402255639097744\n",
      "              precision    recall  f1-score   support\n",
      "\n",
      "           0       0.94      0.88      0.91      8137\n",
      "           1       0.30      0.46      0.36       907\n",
      "\n",
      "    accuracy                           0.84      9044\n",
      "   macro avg       0.62      0.67      0.64      9044\n",
      "weighted avg       0.87      0.84      0.85      9044\n",
      "\n",
      "0.4564498346196251\n",
      "This NN has\n",
      "training acc for 2 0.7382749252174867\n",
      "test acc for 2 0.8541574524546661\n",
      "              precision    recall  f1-score   support\n",
      "\n",
      "           0       0.93      0.90      0.92      8137\n",
      "           1       0.32      0.40      0.36       907\n",
      "\n",
      "    accuracy                           0.85      9044\n",
      "   macro avg       0.63      0.65      0.64      9044\n",
      "weighted avg       0.87      0.85      0.86      9044\n",
      "\n",
      "0.4046306504961411\n",
      "This NN has\n",
      "training acc for 3 0.7399215126650018\n",
      "test acc for 3 0.8388987173816895\n",
      "              precision    recall  f1-score   support\n",
      "\n",
      "           0       0.94      0.88      0.91      8137\n",
      "           1       0.30      0.46      0.36       907\n",
      "\n",
      "    accuracy                           0.84      9044\n",
      "   macro avg       0.62      0.67      0.64      9044\n",
      "weighted avg       0.87      0.84      0.85      9044\n",
      "\n",
      "0.4564498346196251\n",
      "This NN has\n",
      "training acc for 4 0.738412140838113\n",
      "test acc for 4 0.8489606368863335\n",
      "              precision    recall  f1-score   support\n",
      "\n",
      "           0       0.93      0.90      0.91      8137\n",
      "           1       0.31      0.41      0.35       907\n",
      "\n",
      "    accuracy                           0.85      9044\n",
      "   macro avg       0.62      0.65      0.63      9044\n",
      "weighted avg       0.87      0.85      0.86      9044\n",
      "\n",
      "0.412348401323043\n",
      "This NN has\n",
      "training acc for 5 0.7389061170723675\n",
      "test acc for 5 0.8448695267580717\n",
      "              precision    recall  f1-score   support\n",
      "\n",
      "           0       0.93      0.89      0.91      8137\n",
      "           1       0.31      0.44      0.36       907\n",
      "\n",
      "    accuracy                           0.84      9044\n",
      "   macro avg       0.62      0.66      0.64      9044\n",
      "weighted avg       0.87      0.84      0.86      9044\n",
      "\n",
      "0.4355016538037486\n",
      "This NN has\n"
     ]
    }
   ],
   "source": [
    "MLP_dict = {}\n",
    "for i in range(1, 6):\n",
    "    hidden_layers = tuple([100]*i)\n",
    "    MLP_inst = MLPClassifier(random_state=1, hidden_layer_sizes = hidden_layers, activation = 'logistic')\n",
    "    MLP_inst.fit(X_over, y_over)\n",
    "    print('training acc for', i, MLP_inst.score(X_over, y_over))\n",
    "    print('test acc for', i, MLP_inst.score(X_test, y_test))\n",
    "    print(classification_report(y_test, MLP_inst.predict(X_test)))\n",
    "    print(classification_report(y_test, MLP_inst.predict(X_test), output_dict = True)['1']['recall'])\n",
    "    print('This NN has', )\n",
    "    MLP_dict[i] = {}\n",
    "    MLP_dict[i]['recall'] = [i, classification_report(y_test, MLP_inst.predict(X_test), output_dict = True)\n",
    "                               ['1']['recall']]\n",
    "    MLP_dict[i]['f-score'] = [i, classification_report(y_test, MLP_inst.predict(X_test), output_dict = True)\n",
    "                               ['1']['f1-score']]\n",
    "    MLP_dict[i]['test_acc'] = [i, MLP_inst.score(X_test, y_test)]"
   ]
  },
  {
   "cell_type": "code",
   "execution_count": 80,
   "id": "a5901fa1",
   "metadata": {},
   "outputs": [
    {
     "data": {
      "image/png": "[encoded data removed]",
      "text/plain": [
       "<Figure size 432x288 with 1 Axes>"
      ]
     },
     "metadata": {
      "needs_background": "light"
     },
     "output_type": "display_data"
    }
   ],
   "source": [
    "import matplotlib.pyplot as plt\n",
    "xs = []\n",
    "ys = []\n",
    "xs_ = []\n",
    "ys_ = []\n",
    "for i in range(1, 6):\n",
    "    xs.append(MLP_dict[i]['recall'][0])\n",
    "    ys.append(MLP_dict[i]['recall'][1])\n",
    "    xs_.append(MLP_dict[i]['f-score'][0])\n",
    "    ys_.append(MLP_dict[i]['f-score'][1])\n",
    "\n",
    "plt.plot(xs, ys, label = 'Recall on 1\\'s')\n",
    "plt.plot(xs_, ys_, label = 'F-Score on 1\\'s')\n",
    "\n",
    "plt.xlim(1, 5)\n",
    "plt.xlabel(\"Hidden layers\")\n",
    "plt.ylabel(\"Recall and F-Score\")\n",
    "plt.legend(loc=\"upper right\")\n",
    "plt.show()"
   ]
  },
  {
   "cell_type": "code",
   "execution_count": 81,
   "id": "5de7518c",
   "metadata": {},
   "outputs": [
    {
     "name": "stdout",
     "output_type": "stream",
     "text": [
      "0.8402255639097744\n",
      "0.8541574524546661\n",
      "0.8388987173816895\n",
      "0.8489606368863335\n",
      "0.8448695267580717\n"
     ]
    },
    {
     "data": {
      "image/png": "[encoded data removed]",
      "text/plain": [
       "<Figure size 432x288 with 1 Axes>"
      ]
     },
     "metadata": {
      "needs_background": "light"
     },
     "output_type": "display_data"
    }
   ],
   "source": [
    "xs2 = []\n",
    "ys2 = []\n",
    "for i in range(1, 6):\n",
    "    print(MLP_dict[i]['test_acc'][1])\n",
    "    xs2.append(MLP_dict[i]['test_acc'][0])\n",
    "    ys2.append(MLP_dict[i]['test_acc'][1])\n",
    "    plt.plot(xs2, ys2)\n",
    "\n",
    "plt.xlim(1, 5)\n",
    "plt.xlabel(\"Hidden layers\")\n",
    "plt.ylabel(\"Test accuracy\")\n",
    "plt.show()"
   ]
  },
  {
   "cell_type": "code",
   "execution_count": 82,
   "id": "1e12398e",
   "metadata": {},
   "outputs": [],
   "source": [
    "#can give the probability any shot ends up in a goal for our dataset as the predicted probability of a 1\n",
    "#instance\n",
    "shots['xGSMOTE'] = [x[1] for x in xGmodel.predict_proba(X)]\n",
    "shots['xGnonSMOTE'] = [x[1] for x in xGmodel2.predict_proba(X)]\n",
    "shots['xGSMOTEForest'] = [x[1] for x in clf.predict_proba(X)]\n",
    "shots['xGnonSMOTEForest'] = [x[1] for x in clf2.predict_proba(X)]"
   ]
  },
  {
   "cell_type": "code",
   "execution_count": 83,
   "id": "c4aba675",
   "metadata": {},
   "outputs": [
    {
     "name": "stdout",
     "output_type": "stream",
     "text": [
      "Arsenal actual goals in this dataset is: 69\n",
      "xG sum with untransformed dataset is: 62.475192659234274\n",
      "xG sum with SMOTE transformed dataset and logistic classifier is: 165.97755578841668\n",
      "xG sum with SMOTE transformed dataset and random forest classifier is: 161.31107583210414\n",
      "xG sum with untransformed dataset and random forest classifier is: 61.53296409372054\n"
     ]
    }
   ],
   "source": [
    "#This says Arsenal's xG for the season is around 164 which is basically double what it actually was\n",
    "#Our model is grossly overpredicting when using SMOTE\n",
    "#The sum of xG seems to make a lot more sense without SMOTE, especially when taking into account that there seems\n",
    "#to be missing values in the dataset\n",
    "Arsenalshots = shots[shots['teamId'] == 1609] \n",
    "print('Arsenal actual goals in this dataset is:', len(Arsenalshots[Arsenalshots['goal'] == 1]))\n",
    "print('xG sum with untransformed dataset is:',sum(shots[shots['teamId'] == 1609]['xGnonSMOTE']))\n",
    "print('xG sum with SMOTE transformed dataset and logistic classifier is:',\n",
    "      sum(shots[shots['teamId'] == 1609]['xGSMOTE']))\n",
    "print('xG sum with SMOTE transformed dataset and random forest classifier is:',\n",
    "      sum(shots[shots['teamId'] == 1609]['xGSMOTEForest']))\n",
    "print('xG sum with untransformed dataset and random forest classifier is:',\n",
    "      sum(shots[shots['teamId'] == 1609]['xGnonSMOTEForest']))"
   ]
  },
  {
   "cell_type": "code",
   "execution_count": 84,
   "id": "798b28fc",
   "metadata": {},
   "outputs": [
    {
     "data": {
      "text/plain": [
       "69"
      ]
     },
     "execution_count": 84,
     "metadata": {},
     "output_type": "execute_result"
    }
   ],
   "source": [
    "#It seems that we are missing some goals for Arsenal, as they actually scored 74 goals in this season\n",
    "#But I really think I parsed the tags correctly??\n",
    "#They must have been merged out when we lost all of that data with the stadium names, although that doesnt make too\n",
    "#much sense because there are still 38 games present for Arsenal\n",
    "#In order for this analysis I should also merge the teams dataset\n",
    "#I genuinely think its just missing some data points, which is really too bad\n",
    "Arsenalshots = shots[shots['teamId'] == 1609]\n",
    "len(Arsenalshots[Arsenalshots['goal'] == 1])"
   ]
  },
  {
   "cell_type": "code",
   "execution_count": 85,
   "id": "ba9bcdb4",
   "metadata": {},
   "outputs": [],
   "source": [
    "playergoals = pd.DataFrame()"
   ]
  },
  {
   "cell_type": "code",
   "execution_count": 86,
   "id": "1e13c59d",
   "metadata": {
    "scrolled": true
   },
   "outputs": [],
   "source": [
    "#create a dataset of players to see how their summed up xG compares to how many actual\n",
    "#goals they scored\n",
    "names = []\n",
    "player_team = []\n",
    "goals_scored = []\n",
    "xGnorm = []\n",
    "SMOTExG = []\n",
    "ForestxG = []\n",
    "ForestnonSMOTExG = []\n",
    "for name in shots['shortName'].unique():\n",
    "    names.append(name)\n",
    "    playerdf = shots[shots['shortName'] == name]\n",
    "    team_name = shots[shots['shortName'] == name]['officialName'].unique()\n",
    "    player_team.append(team_name)\n",
    "    goals1 = len(playerdf[playerdf['goal'] == 1])\n",
    "    goals_scored.append(goals1)\n",
    "    xGsum1 = sum(playerdf['xGnonSMOTE'])\n",
    "    xGnorm.append(xGsum1)\n",
    "    xGsum2 = sum(playerdf['xGSMOTE'])\n",
    "    SMOTExG.append(xGsum2)\n",
    "    xGsum3 = sum(playerdf['xGSMOTEForest'])\n",
    "    ForestxG.append(xGsum3)\n",
    "    xGsum4 = sum(playerdf['xGnonSMOTEForest'])\n",
    "    ForestnonSMOTExG.append(xGsum4)\n",
    "playergoals['name'] = names\n",
    "playergoals['actual_goals'] = goals_scored\n",
    "playergoals['OG_xG'] = xGnorm\n",
    "playergoals['SMOTExG'] = SMOTExG\n",
    "playergoals['ForestxG'] = ForestxG\n",
    "playergoals['ForestnonSMOTExG'] = ForestnonSMOTExG\n",
    "playergoals['Team'] = player_team"
   ]
  },
  {
   "cell_type": "code",
   "execution_count": 87,
   "id": "694df7bf",
   "metadata": {},
   "outputs": [],
   "source": [
    "#Take difference between goals and xG\n",
    "playergoals['Goals - xG'] = playergoals['actual_goals'] - playergoals['OG_xG']\n",
    "playergoals['Goals - SMOTExG'] = playergoals['actual_goals'] - playergoals['SMOTExG']"
   ]
  },
  {
   "cell_type": "code",
   "execution_count": 88,
   "id": "e3d2c674",
   "metadata": {},
   "outputs": [
    {
     "name": "stdout",
     "output_type": "stream",
     "text": [
      "-0.017944049393446758\n",
      "-3.1594838359224364\n"
     ]
    }
   ],
   "source": [
    "print(playergoals['Goals - xG'].mean())\n",
    "print(playergoals['Goals - SMOTExG'].mean())"
   ]
  },
  {
   "cell_type": "code",
   "execution_count": 89,
   "id": "b63139e2",
   "metadata": {
    "scrolled": false
   },
   "outputs": [
    {
     "data": {
      "text/html": [
       "<div>\n",
       "<style scoped>\n",
       "    .dataframe tbody tr th:only-of-type {\n",
       "        vertical-align: middle;\n",
       "    }\n",
       "\n",
       "    .dataframe tbody tr th {\n",
       "        vertical-align: top;\n",
       "    }\n",
       "\n",
       "    .dataframe thead th {\n",
       "        text-align: right;\n",
       "    }\n",
       "</style>\n",
       "<table border=\"1\" class=\"dataframe\">\n",
       "  <thead>\n",
       "    <tr style=\"text-align: right;\">\n",
       "      <th></th>\n",
       "      <th>name</th>\n",
       "      <th>actual_goals</th>\n",
       "      <th>OG_xG</th>\n",
       "      <th>SMOTExG</th>\n",
       "      <th>Team</th>\n",
       "      <th>Goals - xG</th>\n",
       "    </tr>\n",
       "  </thead>\n",
       "  <tbody>\n",
       "    <tr>\n",
       "      <th>131</th>\n",
       "      <td>Son Heung-Min</td>\n",
       "      <td>14</td>\n",
       "      <td>7.624879</td>\n",
       "      <td>22.160942</td>\n",
       "      <td>[Tottenham Hotspur FC, Korea Republic]</td>\n",
       "      <td>6.375121</td>\n",
       "    </tr>\n",
       "    <tr>\n",
       "      <th>209</th>\n",
       "      <td>Mohamed Salah</td>\n",
       "      <td>32</td>\n",
       "      <td>18.918801</td>\n",
       "      <td>51.502319</td>\n",
       "      <td>[Liverpool FC, Egypt]</td>\n",
       "      <td>13.081199</td>\n",
       "    </tr>\n",
       "    <tr>\n",
       "      <th>212</th>\n",
       "      <td>Philippe Coutinho</td>\n",
       "      <td>15</td>\n",
       "      <td>7.559778</td>\n",
       "      <td>22.007417</td>\n",
       "      <td>[Liverpool FC, FC Barcelona, Brazil]</td>\n",
       "      <td>7.440222</td>\n",
       "    </tr>\n",
       "    <tr>\n",
       "      <th>543</th>\n",
       "      <td>Iago Aspas</td>\n",
       "      <td>20</td>\n",
       "      <td>13.432278</td>\n",
       "      <td>32.400224</td>\n",
       "      <td>[Spain, Real Club Celta de Vigo]</td>\n",
       "      <td>6.567722</td>\n",
       "    </tr>\n",
       "    <tr>\n",
       "      <th>667</th>\n",
       "      <td>A. Griezmann</td>\n",
       "      <td>22</td>\n",
       "      <td>10.921191</td>\n",
       "      <td>29.762276</td>\n",
       "      <td>[France, Club Atl\\u00e9tico de Madrid]</td>\n",
       "      <td>11.078809</td>\n",
       "    </tr>\n",
       "    <tr>\n",
       "      <th>951</th>\n",
       "      <td>M. Icardi</td>\n",
       "      <td>23</td>\n",
       "      <td>15.426999</td>\n",
       "      <td>37.062485</td>\n",
       "      <td>[FC Internazionale Milano]</td>\n",
       "      <td>7.573001</td>\n",
       "    </tr>\n",
       "    <tr>\n",
       "      <th>1019</th>\n",
       "      <td>L. Messi</td>\n",
       "      <td>27</td>\n",
       "      <td>19.199246</td>\n",
       "      <td>52.436431</td>\n",
       "      <td>[FC Barcelona, Argentina]</td>\n",
       "      <td>7.800754</td>\n",
       "    </tr>\n",
       "    <tr>\n",
       "      <th>1084</th>\n",
       "      <td>Rony Lopes</td>\n",
       "      <td>15</td>\n",
       "      <td>7.368457</td>\n",
       "      <td>19.069079</td>\n",
       "      <td>[AS Monaco FC]</td>\n",
       "      <td>7.631543</td>\n",
       "    </tr>\n",
       "    <tr>\n",
       "      <th>1090</th>\n",
       "      <td>R. Falcao</td>\n",
       "      <td>16</td>\n",
       "      <td>9.527941</td>\n",
       "      <td>22.980535</td>\n",
       "      <td>[AS Monaco FC, Colombia]</td>\n",
       "      <td>6.472059</td>\n",
       "    </tr>\n",
       "    <tr>\n",
       "      <th>1128</th>\n",
       "      <td>E. Cavani</td>\n",
       "      <td>27</td>\n",
       "      <td>19.834030</td>\n",
       "      <td>45.550341</td>\n",
       "      <td>[Paris Saint-Germain FC, Uruguay]</td>\n",
       "      <td>7.165970</td>\n",
       "    </tr>\n",
       "    <tr>\n",
       "      <th>1286</th>\n",
       "      <td>C. Immobile</td>\n",
       "      <td>22</td>\n",
       "      <td>12.528711</td>\n",
       "      <td>33.211725</td>\n",
       "      <td>[SS Lazio, Italy]</td>\n",
       "      <td>9.471289</td>\n",
       "    </tr>\n",
       "    <tr>\n",
       "      <th>1393</th>\n",
       "      <td>P. Dybala</td>\n",
       "      <td>16</td>\n",
       "      <td>7.015174</td>\n",
       "      <td>21.939307</td>\n",
       "      <td>[Juventus FC, Argentina]</td>\n",
       "      <td>8.984826</td>\n",
       "    </tr>\n",
       "    <tr>\n",
       "      <th>1574</th>\n",
       "      <td>F. Thauvin</td>\n",
       "      <td>19</td>\n",
       "      <td>12.878045</td>\n",
       "      <td>33.340090</td>\n",
       "      <td>[Olympique de Marseille]</td>\n",
       "      <td>6.121955</td>\n",
       "    </tr>\n",
       "    <tr>\n",
       "      <th>1636</th>\n",
       "      <td>N. P\\u00e9p\\u00e9</td>\n",
       "      <td>12</td>\n",
       "      <td>5.496621</td>\n",
       "      <td>16.116047</td>\n",
       "      <td>[Lille OSC M\\u00e9tropole]</td>\n",
       "      <td>6.503379</td>\n",
       "    </tr>\n",
       "    <tr>\n",
       "      <th>1764</th>\n",
       "      <td>N. Roux</td>\n",
       "      <td>15</td>\n",
       "      <td>8.901423</td>\n",
       "      <td>23.432689</td>\n",
       "      <td>[FC Metz]</td>\n",
       "      <td>6.098577</td>\n",
       "    </tr>\n",
       "  </tbody>\n",
       "</table>\n",
       "</div>"
      ],
      "text/plain": [
       "                   name  actual_goals      OG_xG    SMOTExG  \\\n",
       "131       Son Heung-Min            14   7.624879  22.160942   \n",
       "209       Mohamed Salah            32  18.918801  51.502319   \n",
       "212   Philippe Coutinho            15   7.559778  22.007417   \n",
       "543          Iago Aspas            20  13.432278  32.400224   \n",
       "667        A. Griezmann            22  10.921191  29.762276   \n",
       "951           M. Icardi            23  15.426999  37.062485   \n",
       "1019           L. Messi            27  19.199246  52.436431   \n",
       "1084         Rony Lopes            15   7.368457  19.069079   \n",
       "1090          R. Falcao            16   9.527941  22.980535   \n",
       "1128          E. Cavani            27  19.834030  45.550341   \n",
       "1286        C. Immobile            22  12.528711  33.211725   \n",
       "1393          P. Dybala            16   7.015174  21.939307   \n",
       "1574         F. Thauvin            19  12.878045  33.340090   \n",
       "1636  N. P\\u00e9p\\u00e9            12   5.496621  16.116047   \n",
       "1764            N. Roux            15   8.901423  23.432689   \n",
       "\n",
       "                                        Team  Goals - xG  \n",
       "131   [Tottenham Hotspur FC, Korea Republic]    6.375121  \n",
       "209                    [Liverpool FC, Egypt]   13.081199  \n",
       "212     [Liverpool FC, FC Barcelona, Brazil]    7.440222  \n",
       "543         [Spain, Real Club Celta de Vigo]    6.567722  \n",
       "667   [France, Club Atl\\u00e9tico de Madrid]   11.078809  \n",
       "951               [FC Internazionale Milano]    7.573001  \n",
       "1019               [FC Barcelona, Argentina]    7.800754  \n",
       "1084                          [AS Monaco FC]    7.631543  \n",
       "1090                [AS Monaco FC, Colombia]    6.472059  \n",
       "1128       [Paris Saint-Germain FC, Uruguay]    7.165970  \n",
       "1286                       [SS Lazio, Italy]    9.471289  \n",
       "1393                [Juventus FC, Argentina]    8.984826  \n",
       "1574                [Olympique de Marseille]    6.121955  \n",
       "1636              [Lille OSC M\\u00e9tropole]    6.503379  \n",
       "1764                               [FC Metz]    6.098577  "
      ]
     },
     "execution_count": 89,
     "metadata": {},
     "output_type": "execute_result"
    }
   ],
   "source": [
    "#Take players who have highest difference between goals and expected goals\n",
    "playergoals[playergoals['Goals - xG'] > 6][['name', 'actual_goals', 'OG_xG', 'SMOTExG', 'Team', 'Goals - xG']]"
   ]
  },
  {
   "cell_type": "code",
   "execution_count": 90,
   "id": "dfc2f46a",
   "metadata": {},
   "outputs": [],
   "source": [
    "teamgoals = pd.DataFrame()"
   ]
  },
  {
   "cell_type": "code",
   "execution_count": 91,
   "id": "64e990a0",
   "metadata": {},
   "outputs": [
    {
     "data": {
      "text/plain": [
       "0        Arsenal FC\n",
       "1        Arsenal FC\n",
       "2        Arsenal FC\n",
       "3        Arsenal FC\n",
       "4        Arsenal FC\n",
       "            ...    \n",
       "36169        Panama\n",
       "36170        Panama\n",
       "36171        Panama\n",
       "36172        Panama\n",
       "36173        Panama\n",
       "Name: officialName, Length: 36174, dtype: object"
      ]
     },
     "execution_count": 91,
     "metadata": {},
     "output_type": "execute_result"
    }
   ],
   "source": [
    "shots['officialName']"
   ]
  },
  {
   "cell_type": "code",
   "execution_count": 92,
   "id": "04c0aae0",
   "metadata": {},
   "outputs": [],
   "source": [
    "#Do the same with teams as you just did with players\n",
    "teamnames = []\n",
    "goals_scored = []\n",
    "xGnorm = []\n",
    "SMOTExG = []\n",
    "ForestxG = []\n",
    "ForestnonSMOTExG = []\n",
    "for name in shots['officialName'].unique():\n",
    "    teamnames.append(name)\n",
    "    teamdf = shots[shots['officialName'] == name]\n",
    "    goals1 = len(teamdf[teamdf['goal'] == 1])\n",
    "    goals_scored.append(goals1)\n",
    "    xGsum1 = sum(teamdf['xGnonSMOTE'])\n",
    "    xGnorm.append(xGsum1)\n",
    "    xGsum2 = sum(teamdf['xGSMOTE'])\n",
    "    SMOTExG.append(xGsum2)\n",
    "    xGsum3 = sum(teamdf['xGSMOTEForest'])\n",
    "    ForestxG.append(xGsum3)\n",
    "    xGsum4 = sum(teamdf['xGnonSMOTEForest'])\n",
    "    ForestnonSMOTExG.append(xGsum4)\n",
    "teamgoals['Team'] = teamnames\n",
    "teamgoals['actual_goals'] = goals_scored\n",
    "teamgoals['OG_xG'] = xGnorm\n",
    "teamgoals['SMOTExG'] = SMOTExG\n",
    "teamgoals['ForestxG'] = ForestxG\n",
    "teamgoals['ForestnonSMOTExG'] = ForestnonSMOTExG"
   ]
  },
  {
   "cell_type": "code",
   "execution_count": 93,
   "id": "34e63600",
   "metadata": {},
   "outputs": [],
   "source": [
    "teamgoals['Goals - xG'] = teamgoals['actual_goals'] - teamgoals['OG_xG']\n",
    "teamgoals['Goals - SMOTExG'] = teamgoals['actual_goals'] - teamgoals['SMOTExG']"
   ]
  },
  {
   "cell_type": "code",
   "execution_count": 94,
   "id": "fad34cd7",
   "metadata": {},
   "outputs": [
    {
     "name": "stdout",
     "output_type": "stream",
     "text": [
      "-52.0805238760118\n",
      "-0.29578739484035566\n"
     ]
    }
   ],
   "source": [
    "print(teamgoals['Goals - SMOTExG'].mean())\n",
    "print(teamgoals['Goals - xG'].mean())"
   ]
  },
  {
   "cell_type": "code",
   "execution_count": 95,
   "id": "55beb35c",
   "metadata": {},
   "outputs": [],
   "source": [
    "kernels = ['RBF', 'Sigmoid','Linear', 'Polynomial']\n",
    "\n",
    "#A function which returns the corresponding SVC model\n",
    "def getClassifier(ktype):\n",
    "    if ktype == 0:\n",
    "        return SVC(kernel='rbf', gamma=\"auto\") \n",
    "    elif ktype == 1:\n",
    "        return SVC(kernel='sigmoid', gamma=\"auto\")\n",
    "    elif ktype == 2:\n",
    "        return SVC(kernel='linear', gamma=\"auto\")\n",
    "    elif ktype == 3:\n",
    "        return SVC(kernel='poly', degree=3, gamma=\"auto\")"
   ]
  },
  {
   "cell_type": "code",
   "execution_count": 96,
   "id": "4f0cf5f4",
   "metadata": {},
   "outputs": [
    {
     "name": "stdout",
     "output_type": "stream",
     "text": [
      "Evaluation of RBF kernel:\n",
      "              precision    recall  f1-score   support\n",
      "\n",
      "           0       0.93      0.91      0.92      8137\n",
      "           1       0.32      0.39      0.35       907\n",
      "\n",
      "    accuracy                           0.86      9044\n",
      "   macro avg       0.63      0.65      0.64      9044\n",
      "weighted avg       0.87      0.86      0.86      9044\n",
      "\n",
      "Evaluation of Sigmoid kernel:\n",
      "              precision    recall  f1-score   support\n",
      "\n",
      "           0       0.92      0.71      0.80      8137\n",
      "           1       0.15      0.46      0.23       907\n",
      "\n",
      "    accuracy                           0.68      9044\n",
      "   macro avg       0.54      0.58      0.51      9044\n",
      "weighted avg       0.84      0.68      0.74      9044\n",
      "\n",
      "Evaluation of Linear kernel:\n",
      "              precision    recall  f1-score   support\n",
      "\n",
      "           0       0.93      0.92      0.92      8137\n",
      "           1       0.33      0.34      0.33       907\n",
      "\n",
      "    accuracy                           0.87      9044\n",
      "   macro avg       0.63      0.63      0.63      9044\n",
      "weighted avg       0.87      0.87      0.87      9044\n",
      "\n",
      "Evaluation of Polynomial kernel:\n",
      "              precision    recall  f1-score   support\n",
      "\n",
      "           0       0.92      0.95      0.94      8137\n",
      "           1       0.37      0.27      0.31       907\n",
      "\n",
      "    accuracy                           0.88      9044\n",
      "   macro avg       0.65      0.61      0.62      9044\n",
      "weighted avg       0.87      0.88      0.87      9044\n",
      "\n"
     ]
    }
   ],
   "source": [
    "#Find which kernel performs best, seems to be RBF\n",
    "for i in range(4):\n",
    "    SVclassifier = getClassifier(i)\n",
    "    SVclassifier.fit(X_over, y_over)\n",
    "    y_pred = SVclassifier.predict(X_test)\n",
    "    print(\"Evaluation of\", kernels[i], \"kernel:\")\n",
    "    print(classification_report(y_test, y_pred))"
   ]
  }
 ],
 "metadata": {
  "kernelspec": {
   "display_name": "Python 3",
   "language": "python",
   "name": "python3"
  },
  "language_info": {
   "codemirror_mode": {
    "name": "ipython",
    "version": 3
   },
   "file_extension": ".py",
   "mimetype": "text/x-python",
   "name": "python",
   "nbconvert_exporter": "python",
   "pygments_lexer": "ipython3",
   "version": "3.8.8"
  }
 },
 "nbformat": 4,
 "nbformat_minor": 5
}
